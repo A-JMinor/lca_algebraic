{
 "cells": [
  {
   "cell_type": "markdown",
   "metadata": {},
   "source": [
    "# Introduction\n",
    "\n",
    "This notebook presents **lca-algebraic** a small libray above **brightay2**, designed for the definition of **parametric inventories** with fast computation of LCA impacts, suitable for **monte-carlo** analyis.\n",
    "\n",
    "**lca-algebraic** provides a set of  **helper functions** for : \n",
    "* **compact** & **human readable** definition of activites :  \n",
    "    * search background (tech and biosphere) activities \n",
    "    * create new foreground activites with parametrized amounts\n",
    "    * parametrize / update existing background activities (extending the class **Activity**)\n",
    "* Definition of parameters\n",
    "* Computation of LCAs \n",
    "* Computation of statistics (including Sobols indices)\n",
    "* Compute simplified parametric model by fixing minor input parameters\n",
    "\n",
    "  \n",
    "# Principles \n",
    "\n",
    "The main idea of this libray is to move from **procedural definition** of models (slow and prone to errors) to a **declarative / purely functionnal** definition of parametric models (models as **pure functions**). \n",
    "\n",
    "This enables **fast computation of LCA impacts**, useful for Monte Carlo methods and statistical analysis. \n",
    "We leverage the **power of symbolic calculus** provided by the library [SymPy](https://www.sympy.org/en/index.html).\n",
    "\n",
    "We define our model in a **separate database**, as a nested combination of : \n",
    "* other foreground activities\n",
    "* background activities :\n",
    "    * Technical, refering **ecoinvent DB**\n",
    "    * Biosphere, refering **brightway2** biosphere activities\n",
    "    \n",
    "The **amounts** in exchanges are expressed either as **static amounts**, or **symbolic expressions** of pre-defined **parameters**.\n",
    "\n",
    "Each activity of our **root model** is defined as a **parametrized combination** of the **foreground activities**, which can themselves be expressed by the **background activities**.\n",
    "\n",
    "When computing LCA for foreground models, the library develops the model as a combination of **only background activities**. It computes **once for all** the impact of **all required background activities** and compiles a **fast numpy** (vectorial) function for each impact, replacing each background activity by the **static value of the corresponding impact**.\n",
    "\n",
    "By providing **large vectors** of **parameter values** to those numpy functions, we can compute LCA for **thousands of values** at a time.\n",
    "\n",
    "![](https://oie-mines-paristech.github.io/lca_algebraic/doc/lca-algebraic.png)\n",
    "\n",
    "\n",
    "# Compatiblity with brightway2 \n",
    "\n",
    "Under the hood, the activities we define with **lca-algebraic** are standard **brightway2** activities. \n",
    "The amounts of exchanges are stored as **float values** or **serialized as string** in the property **formula**.\n",
    "\n",
    "Parameters are also stored in the **brightay2** projets, making it fully compatible with **brightway**.\n",
    "\n",
    "Thus, a model defined with **lca-algebraic** is stored as a regular **bw2** projet. We can use **bw2** native support for [parametrized dataset](https://2.docs.brightway.dev/intro.html#parameterized-datasets) for computing LCAs, even if much more slower than the method explain here.\n",
    "\n",
    "# Doc\n",
    "\n",
    "The followng notebook explores the main functions.\n",
    "Full documentation of the functions is [available here](https://oie-mines-paristech.github.io/lca_algebraic/doc/)"
   ]
  },
  {
   "cell_type": "code",
   "execution_count": 34,
   "metadata": {
    "ExecuteTime": {
     "end_time": "2020-06-29T13:16:02.582926Z",
     "start_time": "2020-06-29T13:16:02.555784Z"
    }
   },
   "outputs": [
    {
     "name": "stdout",
     "output_type": "stream",
     "text": [
      "The autoreload extension is already loaded. To reload it, use:\n",
      "  %reload_ext autoreload\n"
     ]
    }
   ],
   "source": [
    "%load_ext autoreload\n",
    "%autoreload 2\n",
    "import pandas as pd\n",
    "import time\n",
    "import matplotlib.pyplot as plt\n",
    "import numpy as np\n",
    "import brightway2 as bw\n",
    "\n",
    "# Custom utils defined for inter-acv\n",
    "from lca_algebraic import *\n",
    "from lca_algebraic.stats import * \n",
    "import lca_algebraic\n",
    "from sympy import init_printing, simplify\n",
    "\n",
    "init_printing()"
   ]
  },
  {
   "cell_type": "markdown",
   "metadata": {},
   "source": [
    "# Init brightway2 and databases"
   ]
  },
  {
   "cell_type": "code",
   "execution_count": 35,
   "metadata": {
    "ExecuteTime": {
     "end_time": "2020-06-29T13:16:03.704193Z",
     "start_time": "2020-06-29T13:16:03.640843Z"
    }
   },
   "outputs": [
    {
     "name": "stdout",
     "output_type": "stream",
     "text": [
      "Biosphere database already present!!! No setup is needed\n"
     ]
    },
    {
     "name": "stderr",
     "output_type": "stream",
     "text": [
      "Database 'ecoinvent 3.4' has already been imported \n",
      "Db MyModelName was here. Reseting it\n"
     ]
    }
   ],
   "source": [
    "# Init the brightway2 project :choose any project name\n",
    "initDb('MyProject')\n",
    "\n",
    "# Import Ecoinvent DB (if not already done)\n",
    "# Update the name and path to the location of the ecoinvent database\n",
    "importDb(\"ecoinvent 3.4\", './ecoinvent 3.4_cutoff_ecoSpold02/datasets')\n",
    "\n",
    "# We use a separate DB for defining our foreground model / activities\n",
    "# Choose any name\n",
    "USER_DB = 'MyModelName'\n",
    "\n",
    "# This is better to cleanup the whole foreground model each time, and redefine it in the notebook\n",
    "# instead of relying on a state or previous run.\n",
    "# Any persistent state is prone to errors.\n",
    "resetDb(USER_DB)\n",
    "\n",
    "# Parameters are stored at project level : reset them also\n",
    "resetParams(USER_DB)"
   ]
  },
  {
   "cell_type": "markdown",
   "metadata": {},
   "source": [
    "# Introduction to Numpy\n",
    "\n",
    "\n",
    "Numpy is a python libray for symbolic calculus. \n",
    "\n",
    "You write Sympy expression as you write **standard python expressions**, using **sympy symbols** in them. \n",
    "\n",
    "\n",
    "The result is then a **symbolic expression that can be manipulated**, instead of a **numeric value**."
   ]
  },
  {
   "cell_type": "code",
   "execution_count": 36,
   "metadata": {
    "ExecuteTime": {
     "end_time": "2020-06-29T13:16:04.876808Z",
     "start_time": "2020-06-29T13:16:04.837985Z"
    }
   },
   "outputs": [
    {
     "data": {
      "image/png": "[encoded data removed]",
      "text/latex": [
       "$\\displaystyle 2 a + 4$"
      ],
      "text/plain": [
       "2⋅a + 4"
      ]
     },
     "execution_count": 36,
     "metadata": {},
     "output_type": "execute_result"
    }
   ],
   "source": [
    "from sympy import symbols \n",
    "\n",
    "# create sympy symbol\n",
    "a = symbols(\"a\")\n",
    "\n",
    "# Expressions are not directly evaluated \n",
    "f = a * 2 + 4 \n",
    "f "
   ]
  },
  {
   "cell_type": "code",
   "execution_count": 37,
   "metadata": {
    "ExecuteTime": {
     "end_time": "2020-06-29T13:16:05.789694Z",
     "start_time": "2020-06-29T13:16:05.753496Z"
    }
   },
   "outputs": [
    {
     "data": {
      "image/png": "[encoded data removed]",
      "text/latex": [
       "$\\displaystyle 10$"
      ],
      "text/plain": [
       "10"
      ]
     },
     "execution_count": 37,
     "metadata": {},
     "output_type": "execute_result"
    }
   ],
   "source": [
    "# symbols can be replaced by values afterwards \n",
    "f.subs(dict(a=3))"
   ]
  },
  {
   "cell_type": "markdown",
   "metadata": {},
   "source": [
    "In practice, you don't need to care about Sympy. Just remember that : \n",
    "* The parameters defined below are **instances of sympy symbols**\n",
    "* Any **valid python expression** containing a **sympy symbol** will create a **sympy symbolic expression**"
   ]
  },
  {
   "cell_type": "markdown",
   "metadata": {},
   "source": [
    "# Define input parameters\n",
    "\n",
    "First, we define the input parameters of the model together with their distribution.\n",
    "\n",
    "The numeric parameters are **instances of sympy 'Symbol'**. \n",
    "\n",
    "Thus, any python arithmetic expression composed of parameters will result in a **symbolic expression** to be used later in the definition of the model, rather than a static numeric result."
   ]
  },
  {
   "cell_type": "code",
   "execution_count": 38,
   "metadata": {
    "ExecuteTime": {
     "end_time": "2020-06-29T13:16:07.057855Z",
     "start_time": "2020-06-29T13:16:06.948922Z"
    }
   },
   "outputs": [],
   "source": [
    "# Example of 'float' parameters\n",
    "a = newFloatParam(\n",
    "    'a', \n",
    "    default=0.5, min=0, max=2,  distrib=DistributionType.TRIANGLE, # Distribution type, linear by default\n",
    "    description=\"hello world\")\n",
    "\n",
    "b = newFloatParam(\n",
    "    'b',\n",
    "    default=0.5, # Fixed if no min /max provided\n",
    "    description=\"foo bar\")\n",
    "\n",
    "share_recycled_aluminium = newFloatParam(\n",
    "    'share_recycled_aluminium',  \n",
    "    default=0.6, min=0, max=1, std=0.2, distrib=DistributionType.NORMAL, # Normal distrib, with std dev\n",
    "    description=\"Share of reycled aluminium\")\n",
    "\n",
    "# You can define boolean parameters, taking only discrete values 0 or 1\n",
    "bool_param = newBoolParam(\n",
    "    'bool_param', \n",
    "    default=1)\n",
    "\n",
    "# Example 'enum' parameter, acting like a switch between several possibilities\n",
    "# Enum parameters are not Symbol themselves\n",
    "# They are a facility to represent many boolean parameters at once '<paramName>_<enumValue>' \n",
    "# and should be used with the 'newSwitchAct' method \n",
    "elec_switch_param = newEnumParam(\n",
    "    'elec_switch_param', \n",
    "    values=[\"us\", \"eu\"], # If provided as list, all possibilities have te same probability\n",
    "    default=\"us\", \n",
    "    description=\"Switch on electricty mix\")\n",
    "\n",
    "# Another example enum param\n",
    "techno_param = newEnumParam(\n",
    "    'techno_param', \n",
    "    values={\n",
    "        \"technoA\":0.4, \n",
    "        \"technoB\":0.1,\n",
    "        \"technoC\":0.5}, # You can provide a statistical weight for each value, by using a dict\n",
    "    default=\"technoA\", \n",
    "    description=\"Choice of techonoly\")"
   ]
  },
  {
   "cell_type": "code",
   "execution_count": 39,
   "metadata": {
    "ExecuteTime": {
     "end_time": "2020-06-29T13:16:07.743078Z",
     "start_time": "2020-06-29T13:16:07.713877Z"
    }
   },
   "outputs": [
    {
     "data": {
      "text/html": [
       "<table>\n",
       "<thead>\n",
       "<tr><th>Phase  </th><th>param                   </th><th>default  </th><th style=\"text-align: right;\">  min</th><th style=\"text-align: right;\">  max</th><th style=\"text-align: right;\">  std</th><th>distrib  </th><th>unit  </th></tr>\n",
       "</thead>\n",
       "<tbody>\n",
       "<tr><td>       </td><td>a                       </td><td>0.5      </td><td style=\"text-align: right;\">    0</td><td style=\"text-align: right;\">    2</td><td style=\"text-align: right;\">     </td><td>triangle </td><td>      </td></tr>\n",
       "<tr><td>       </td><td>b                       </td><td>0.5      </td><td style=\"text-align: right;\">     </td><td style=\"text-align: right;\">     </td><td style=\"text-align: right;\">     </td><td>fixed    </td><td>      </td></tr>\n",
       "<tr><td>       </td><td>share recycled aluminium</td><td>0.6      </td><td style=\"text-align: right;\">    0</td><td style=\"text-align: right;\">    1</td><td style=\"text-align: right;\">  0.2</td><td>normal   </td><td>      </td></tr>\n",
       "<tr><td>       </td><td>bool param              </td><td>1        </td><td style=\"text-align: right;\">    0</td><td style=\"text-align: right;\">    1</td><td style=\"text-align: right;\">     </td><td>linear   </td><td>      </td></tr>\n",
       "<tr><td>       </td><td>elec switch param       </td><td>us       </td><td style=\"text-align: right;\">     </td><td style=\"text-align: right;\">     </td><td style=\"text-align: right;\">     </td><td>linear   </td><td>      </td></tr>\n",
       "<tr><td>       </td><td>techno param            </td><td>technoA  </td><td style=\"text-align: right;\">     </td><td style=\"text-align: right;\">     </td><td style=\"text-align: right;\">     </td><td>linear   </td><td>      </td></tr>\n",
       "</tbody>\n",
       "</table>"
      ],
      "text/plain": [
       "<IPython.core.display.HTML object>"
      ]
     },
     "execution_count": 39,
     "metadata": {},
     "output_type": "execute_result"
    }
   ],
   "source": [
    "# List of parameters\n",
    "list_parameters()"
   ]
  },
  {
   "cell_type": "markdown",
   "metadata": {},
   "source": [
    "# Get references to background activities\n",
    "\n",
    "We provide two functions for easy and fast (indexed) search of activities in reference databases : \n",
    "* **findBioAct** : Search activity in **biosphere3** db\n",
    "* **findTechAct** : Search activity in **ecoinvent** db\n",
    "\n",
    "Those methods are **faster** and **safer** than using traditionnal \"list-comprehension\" search : \n",
    "They will **fail with an error** if **more than one activity** matches, preventing the model to be based on a random selection of one activity.\n"
   ]
  },
  {
   "cell_type": "code",
   "execution_count": 40,
   "metadata": {
    "ExecuteTime": {
     "end_time": "2020-06-29T13:16:09.082366Z",
     "start_time": "2020-06-29T13:16:08.763739Z"
    }
   },
   "outputs": [],
   "source": [
    "# Biosphere activities\n",
    "ground_occupuation = findBioAct('Occupation, industrial area') # Search by name\n",
    "heat = findBioAct('Heat, waste', categories=['air']) # Add category selector\n",
    "\n",
    "# Technosphere activities\n",
    "\n",
    "# You can add an optionnal location selector\n",
    "alu = findTechAct(\"aluminium alloy production, AlMg3\", loc=\"RER\")\n",
    "alu_scrap = findTechAct('aluminium scrap, new, Recycled Content cut-off')\n",
    "\n",
    "# Elec \n",
    "eu_elec = findTechAct(\"market group for electricity, medium voltage\", 'ENTSO-E')\n",
    "us_elec = findTechAct(\"market group for electricity, medium voltage\", 'US')"
   ]
  },
  {
   "cell_type": "markdown",
   "metadata": {},
   "source": [
    "# Define the model\n",
    "\n",
    "The model is defined as a nested combination of background activities with amounts.\n",
    "\n",
    "Amounts are defined either as constant float values or algebric formulas implying the parameters defined above."
   ]
  },
  {
   "cell_type": "markdown",
   "metadata": {},
   "source": [
    "## Create new activities"
   ]
  },
  {
   "cell_type": "code",
   "execution_count": 41,
   "metadata": {
    "ExecuteTime": {
     "end_time": "2020-06-29T13:16:10.988474Z",
     "start_time": "2020-06-29T13:16:10.811805Z"
    }
   },
   "outputs": [],
   "source": [
    "# Create a new activity\n",
    "activity1 = newActivity(USER_DB, # We define foreground activities in our own DB\n",
    "    \"first foreground activity\", # Name of the activity\n",
    "    \"kg\", # Unit\n",
    "    exchanges= { # We define exhanges as a dictionarry of 'activity : amount'\n",
    "        ground_occupuation:3 * b, # Amount can be a fixed value \n",
    "        heat: b + 0.2  # Amount can be a Sympy expression (any arithmetic expression of Parameters)\n",
    "    })\n",
    "\n",
    "# You can create a virtual \"switch\" activity combining several activities with a switch parameter\n",
    "elec_mix = newSwitchAct(USER_DB, \n",
    "    \"elect mix\", # Name\n",
    "    elec_switch_param, # Sith parameter\n",
    "    { # Dictionnary of enum values / activities\n",
    "        \"us\" : us_elec, # By default associated amount is 1\n",
    "        \"eu\" : (eu_elec, 0.8)  # You can also provide custom amout or formula with a tuple \n",
    "    })"
   ]
  },
  {
   "cell_type": "markdown",
   "metadata": {},
   "source": [
    "## Copy and update existing activity\n",
    "\n",
    "You can copy and update an existing background activity.\n",
    "\n",
    "Several new helper methods have been added to the class **Activity** for easy update of exchanges."
   ]
  },
  {
   "cell_type": "code",
   "execution_count": 42,
   "metadata": {
    "ExecuteTime": {
     "end_time": "2020-06-29T13:16:12.020450Z",
     "start_time": "2020-06-29T13:16:11.832095Z"
    }
   },
   "outputs": [],
   "source": [
    "alu2 = copyActivity(\n",
    "    USER_DB, # The copy of a background activity is done in our own DB, so that we can safely update it                \n",
    "    alu, # Initial activity : won't be altered\n",
    "    \"Alu2\") # New name\n",
    "\n",
    "# Update exchanges by their name \n",
    "alu2.updateExchanges({\n",
    "    \n",
    "    # Update amount : the special symbol *old_amount* references the previous amount of this exchange\n",
    "    \"aluminium, cast alloy\": old_amount * (1 - share_recycled_aluminium),\n",
    "    \n",
    "    # Update input activity. Note also that you can use '*' wildcard in exchange name\n",
    "    \"electricity*\": elec_mix,\n",
    "    \n",
    "    # Update both input activity and amount. \n",
    "    # Note that you can use '#' for specifying the location of exchange (useful for duplicate exchange names)\n",
    "    \"chromium#GLO\" : dict(amount=4.0, input=activity1)\n",
    "}) \n",
    "\n",
    "# Add exchanges \n",
    "alu2.addExchanges({alu_scrap :  12})"
   ]
  },
  {
   "cell_type": "markdown",
   "metadata": {},
   "source": [
    "## Final model\n",
    "\n",
    "Usually, we normalize the final model as the whole LCI divided by the functional value (production of the system)\n"
   ]
  },
  {
   "cell_type": "code",
   "execution_count": 43,
   "metadata": {
    "ExecuteTime": {
     "end_time": "2020-06-29T13:16:12.946836Z",
     "start_time": "2020-06-29T13:16:12.747468Z"
    }
   },
   "outputs": [],
   "source": [
    "functional_value = a + 5\n",
    "\n",
    "model = newActivity(USER_DB, \"model\", \"kg\", {\n",
    "    activity1 : b * 5 + a + 1, # Reference the activity we just created\n",
    "    alu2: 3 * share_recycled_aluminium, \n",
    "    alu:0.4 * a})\n",
    "\n",
    "normalized_model = newActivity(USER_DB, \"normalized model\", \"kg\", {\n",
    "    model : 1 / functional_value})"
   ]
  },
  {
   "cell_type": "markdown",
   "metadata": {},
   "source": [
    "## Display activities\n",
    "\n",
    "**printAct** displays the list of all exchanges of an activity.\n",
    "\n",
    "Note that symbolic expressions have not been evaluated at this stage"
   ]
  },
  {
   "cell_type": "code",
   "execution_count": 44,
   "metadata": {
    "ExecuteTime": {
     "end_time": "2020-06-29T13:16:14.357463Z",
     "start_time": "2020-06-29T13:16:14.267596Z"
    }
   },
   "outputs": [
    {
     "data": {
      "text/html": [
       "<div>\n",
       "<style scoped>\n",
       "    .dataframe tbody tr th:only-of-type {\n",
       "        vertical-align: middle;\n",
       "    }\n",
       "\n",
       "    .dataframe tbody tr th {\n",
       "        vertical-align: top;\n",
       "    }\n",
       "\n",
       "    .dataframe thead tr th {\n",
       "        text-align: left;\n",
       "    }\n",
       "</style>\n",
       "<table border=\"1\" class=\"dataframe\">\n",
       "  <thead>\n",
       "    <tr>\n",
       "      <th></th>\n",
       "      <th colspan=\"4\" halign=\"left\">first foreground activity (1.000000 kg)</th>\n",
       "    </tr>\n",
       "    <tr>\n",
       "      <th></th>\n",
       "      <th>input</th>\n",
       "      <th>amount</th>\n",
       "      <th>unit</th>\n",
       "      <th>type</th>\n",
       "    </tr>\n",
       "  </thead>\n",
       "  <tbody>\n",
       "    <tr>\n",
       "      <th>Heat, waste</th>\n",
       "      <td>'Heat, waste' (megajoule, None, ('air',))</td>\n",
       "      <td>b + 0.2</td>\n",
       "      <td>megajoule</td>\n",
       "      <td>biosphere</td>\n",
       "    </tr>\n",
       "    <tr>\n",
       "      <th>Occupation, industrial area</th>\n",
       "      <td>'Occupation, industrial area' (square meter-ye...</td>\n",
       "      <td>3*b</td>\n",
       "      <td>square meter-year</td>\n",
       "      <td>biosphere</td>\n",
       "    </tr>\n",
       "  </tbody>\n",
       "</table>\n",
       "</div>"
      ],
      "text/plain": [
       "                                       first foreground activity (1.000000 kg)  \\\n",
       "                                                                         input   \n",
       "Heat, waste                          'Heat, waste' (megajoule, None, ('air',))   \n",
       "Occupation, industrial area  'Occupation, industrial area' (square meter-ye...   \n",
       "\n",
       "                                                                    \n",
       "                              amount               unit       type  \n",
       "Heat, waste                  b + 0.2          megajoule  biosphere  \n",
       "Occupation, industrial area      3*b  square meter-year  biosphere  "
      ]
     },
     "metadata": {},
     "output_type": "display_data"
    },
    {
     "data": {
      "text/html": [
       "<div>\n",
       "<style scoped>\n",
       "    .dataframe tbody tr th:only-of-type {\n",
       "        vertical-align: middle;\n",
       "    }\n",
       "\n",
       "    .dataframe tbody tr th {\n",
       "        vertical-align: top;\n",
       "    }\n",
       "\n",
       "    .dataframe thead tr th {\n",
       "        text-align: left;\n",
       "    }\n",
       "</style>\n",
       "<table border=\"1\" class=\"dataframe\">\n",
       "  <thead>\n",
       "    <tr>\n",
       "      <th></th>\n",
       "      <th colspan=\"4\" halign=\"left\">model (1.000000 kg)</th>\n",
       "    </tr>\n",
       "    <tr>\n",
       "      <th></th>\n",
       "      <th>input</th>\n",
       "      <th>amount</th>\n",
       "      <th>unit</th>\n",
       "      <th>type</th>\n",
       "    </tr>\n",
       "  </thead>\n",
       "  <tbody>\n",
       "    <tr>\n",
       "      <th>Alu2#RER {user-db}</th>\n",
       "      <td>'Alu2' (kilogram, RER, None)</td>\n",
       "      <td>3*share_recycled_aluminium</td>\n",
       "      <td>kilogram</td>\n",
       "      <td>technosphere</td>\n",
       "    </tr>\n",
       "    <tr>\n",
       "      <th>aluminium alloy production, AlMg3#RER</th>\n",
       "      <td>'aluminium alloy production, AlMg3' (kilogram,...</td>\n",
       "      <td>0.4*a</td>\n",
       "      <td>kilogram</td>\n",
       "      <td>technosphere</td>\n",
       "    </tr>\n",
       "    <tr>\n",
       "      <th>first foreground activity {user-db}</th>\n",
       "      <td>'first foreground activity' (kg, GLO, None)</td>\n",
       "      <td>a + 5*b + 1</td>\n",
       "      <td>kg</td>\n",
       "      <td>technosphere</td>\n",
       "    </tr>\n",
       "  </tbody>\n",
       "</table>\n",
       "</div>"
      ],
      "text/plain": [
       "                                                                     model (1.000000 kg)  \\\n",
       "                                                                                   input   \n",
       "Alu2#RER {user-db}                                          'Alu2' (kilogram, RER, None)   \n",
       "aluminium alloy production, AlMg3#RER  'aluminium alloy production, AlMg3' (kilogram,...   \n",
       "first foreground activity {user-db}          'first foreground activity' (kg, GLO, None)   \n",
       "\n",
       "                                                                             \\\n",
       "                                                           amount      unit   \n",
       "Alu2#RER {user-db}                     3*share_recycled_aluminium  kilogram   \n",
       "aluminium alloy production, AlMg3#RER                       0.4*a  kilogram   \n",
       "first foreground activity {user-db}                   a + 5*b + 1        kg   \n",
       "\n",
       "                                                     \n",
       "                                               type  \n",
       "Alu2#RER {user-db}                     technosphere  \n",
       "aluminium alloy production, AlMg3#RER  technosphere  \n",
       "first foreground activity {user-db}    technosphere  "
      ]
     },
     "metadata": {},
     "output_type": "display_data"
    },
    {
     "data": {
      "text/html": [
       "<div>\n",
       "<style scoped>\n",
       "    .dataframe tbody tr th:only-of-type {\n",
       "        vertical-align: middle;\n",
       "    }\n",
       "\n",
       "    .dataframe tbody tr th {\n",
       "        vertical-align: top;\n",
       "    }\n",
       "\n",
       "    .dataframe thead tr th {\n",
       "        text-align: left;\n",
       "    }\n",
       "</style>\n",
       "<table border=\"1\" class=\"dataframe\">\n",
       "  <thead>\n",
       "    <tr>\n",
       "      <th></th>\n",
       "      <th colspan=\"4\" halign=\"left\">normalized model (1.000000 kg)</th>\n",
       "    </tr>\n",
       "    <tr>\n",
       "      <th></th>\n",
       "      <th>input</th>\n",
       "      <th>amount</th>\n",
       "      <th>unit</th>\n",
       "      <th>type</th>\n",
       "    </tr>\n",
       "  </thead>\n",
       "  <tbody>\n",
       "    <tr>\n",
       "      <th>model {user-db}</th>\n",
       "      <td>'model' (kg, GLO, None)</td>\n",
       "      <td>1/(a + 5)</td>\n",
       "      <td>kg</td>\n",
       "      <td>technosphere</td>\n",
       "    </tr>\n",
       "  </tbody>\n",
       "</table>\n",
       "</div>"
      ],
      "text/plain": [
       "                normalized model (1.000000 kg)                              \n",
       "                                         input     amount unit          type\n",
       "model {user-db}        'model' (kg, GLO, None)  1/(a + 5)   kg  technosphere"
      ]
     },
     "metadata": {},
     "output_type": "display_data"
    }
   ],
   "source": [
    "# Print_act displays activities as tables\n",
    "printAct(activity1) \n",
    "printAct(model)\n",
    "printAct(normalized_model)"
   ]
  },
  {
   "cell_type": "code",
   "execution_count": 45,
   "metadata": {
    "ExecuteTime": {
     "end_time": "2020-06-29T13:16:15.516582Z",
     "start_time": "2020-06-29T13:16:15.471209Z"
    }
   },
   "outputs": [
    {
     "data": {
      "text/html": [
       "<div>\n",
       "<style scoped>\n",
       "    .dataframe tbody tr th:only-of-type {\n",
       "        vertical-align: middle;\n",
       "    }\n",
       "\n",
       "    .dataframe tbody tr th {\n",
       "        vertical-align: top;\n",
       "    }\n",
       "\n",
       "    .dataframe thead tr th {\n",
       "        text-align: left;\n",
       "    }\n",
       "</style>\n",
       "<table border=\"1\" class=\"dataframe\">\n",
       "  <thead>\n",
       "    <tr>\n",
       "      <th></th>\n",
       "      <th colspan=\"4\" halign=\"left\">first foreground activity (1.000000 kg)</th>\n",
       "    </tr>\n",
       "    <tr>\n",
       "      <th></th>\n",
       "      <th>input</th>\n",
       "      <th>amount</th>\n",
       "      <th>unit</th>\n",
       "      <th>type</th>\n",
       "    </tr>\n",
       "  </thead>\n",
       "  <tbody>\n",
       "    <tr>\n",
       "      <th>Heat, waste</th>\n",
       "      <td>'Heat, waste' (megajoule, None, ('air',))</td>\n",
       "      <td>1.70000000000000</td>\n",
       "      <td>megajoule</td>\n",
       "      <td>biosphere</td>\n",
       "    </tr>\n",
       "    <tr>\n",
       "      <th>Occupation, industrial area</th>\n",
       "      <td>'Occupation, industrial area' (square meter-ye...</td>\n",
       "      <td>4.50000000000000</td>\n",
       "      <td>square meter-year</td>\n",
       "      <td>biosphere</td>\n",
       "    </tr>\n",
       "  </tbody>\n",
       "</table>\n",
       "</div>"
      ],
      "text/plain": [
       "                                       first foreground activity (1.000000 kg)  \\\n",
       "                                                                         input   \n",
       "Heat, waste                          'Heat, waste' (megajoule, None, ('air',))   \n",
       "Occupation, industrial area  'Occupation, industrial area' (square meter-ye...   \n",
       "\n",
       "                                                                             \n",
       "                                       amount               unit       type  \n",
       "Heat, waste                  1.70000000000000          megajoule  biosphere  \n",
       "Occupation, industrial area  4.50000000000000  square meter-year  biosphere  "
      ]
     },
     "metadata": {},
     "output_type": "display_data"
    }
   ],
   "source": [
    "# You can also compute amounts by replacing parameters with a float value \n",
    "printAct(activity1, b=1.5) "
   ]
  },
  {
   "cell_type": "code",
   "execution_count": 46,
   "metadata": {
    "ExecuteTime": {
     "end_time": "2020-06-29T13:16:16.414824Z",
     "start_time": "2020-06-29T13:16:16.145973Z"
    }
   },
   "outputs": [
    {
     "data": {
      "text/html": [
       "<style  type=\"text/css\" >\n",
       "    #T_b697ea3e_ba0a_11ea_822c_7ff15ba2773brow0_col0 {\n",
       "            background-color: yellow;\n",
       "        }    #T_b697ea3e_ba0a_11ea_822c_7ff15ba2773brow0_col1 {\n",
       "            background-color: yellow;\n",
       "        }    #T_b697ea3e_ba0a_11ea_822c_7ff15ba2773brow0_col4 {\n",
       "            background-color: yellow;\n",
       "        }    #T_b697ea3e_ba0a_11ea_822c_7ff15ba2773brow0_col5 {\n",
       "            background-color: yellow;\n",
       "        }    #T_b697ea3e_ba0a_11ea_822c_7ff15ba2773brow1_col0 {\n",
       "            background-color: yellow;\n",
       "        }    #T_b697ea3e_ba0a_11ea_822c_7ff15ba2773brow1_col1 {\n",
       "            background-color: yellow;\n",
       "        }    #T_b697ea3e_ba0a_11ea_822c_7ff15ba2773brow1_col4 {\n",
       "            background-color: yellow;\n",
       "        }    #T_b697ea3e_ba0a_11ea_822c_7ff15ba2773brow1_col5 {\n",
       "            background-color: yellow;\n",
       "        }    #T_b697ea3e_ba0a_11ea_822c_7ff15ba2773brow2_col0 {\n",
       "            background-color: yellow;\n",
       "        }    #T_b697ea3e_ba0a_11ea_822c_7ff15ba2773brow2_col1 {\n",
       "            background-color: yellow;\n",
       "        }    #T_b697ea3e_ba0a_11ea_822c_7ff15ba2773brow2_col4 {\n",
       "            background-color: yellow;\n",
       "        }    #T_b697ea3e_ba0a_11ea_822c_7ff15ba2773brow2_col5 {\n",
       "            background-color: yellow;\n",
       "        }    #T_b697ea3e_ba0a_11ea_822c_7ff15ba2773brow3_col1 {\n",
       "            background-color: yellow;\n",
       "        }    #T_b697ea3e_ba0a_11ea_822c_7ff15ba2773brow3_col5 {\n",
       "            background-color: yellow;\n",
       "        }    #T_b697ea3e_ba0a_11ea_822c_7ff15ba2773brow5_col0 {\n",
       "            background-color: yellow;\n",
       "        }    #T_b697ea3e_ba0a_11ea_822c_7ff15ba2773brow5_col1 {\n",
       "            background-color: yellow;\n",
       "        }    #T_b697ea3e_ba0a_11ea_822c_7ff15ba2773brow5_col4 {\n",
       "            background-color: yellow;\n",
       "        }    #T_b697ea3e_ba0a_11ea_822c_7ff15ba2773brow5_col5 {\n",
       "            background-color: yellow;\n",
       "        }    #T_b697ea3e_ba0a_11ea_822c_7ff15ba2773brow6_col0 {\n",
       "            background-color: yellow;\n",
       "        }    #T_b697ea3e_ba0a_11ea_822c_7ff15ba2773brow6_col1 {\n",
       "            background-color: yellow;\n",
       "        }    #T_b697ea3e_ba0a_11ea_822c_7ff15ba2773brow6_col4 {\n",
       "            background-color: yellow;\n",
       "        }    #T_b697ea3e_ba0a_11ea_822c_7ff15ba2773brow6_col5 {\n",
       "            background-color: yellow;\n",
       "        }    #T_b697ea3e_ba0a_11ea_822c_7ff15ba2773brow8_col0 {\n",
       "            background-color: yellow;\n",
       "        }    #T_b697ea3e_ba0a_11ea_822c_7ff15ba2773brow8_col1 {\n",
       "            background-color: yellow;\n",
       "        }    #T_b697ea3e_ba0a_11ea_822c_7ff15ba2773brow8_col4 {\n",
       "            background-color: yellow;\n",
       "        }    #T_b697ea3e_ba0a_11ea_822c_7ff15ba2773brow8_col5 {\n",
       "            background-color: yellow;\n",
       "        }    #T_b697ea3e_ba0a_11ea_822c_7ff15ba2773brow9_col0 {\n",
       "            background-color: yellow;\n",
       "        }    #T_b697ea3e_ba0a_11ea_822c_7ff15ba2773brow9_col1 {\n",
       "            background-color: yellow;\n",
       "        }    #T_b697ea3e_ba0a_11ea_822c_7ff15ba2773brow9_col4 {\n",
       "            background-color: yellow;\n",
       "        }    #T_b697ea3e_ba0a_11ea_822c_7ff15ba2773brow9_col5 {\n",
       "            background-color: yellow;\n",
       "        }</style><table id=\"T_b697ea3e_ba0a_11ea_822c_7ff15ba2773b\" ><thead>    <tr>        <th class=\"blank level0\" ></th>        <th class=\"col_heading level0 col0\" colspan=4>aluminium alloy production, AlMg3[RER] (1.000000 kilogram)</th>        <th class=\"col_heading level0 col4\" colspan=4>Alu2[RER] (1.000000 kilogram)</th>    </tr>    <tr>        <th class=\"blank level1\" ></th>        <th class=\"col_heading level1 col0\" >input</th>        <th class=\"col_heading level1 col1\" >amount</th>        <th class=\"col_heading level1 col2\" >unit</th>        <th class=\"col_heading level1 col3\" >type</th>        <th class=\"col_heading level1 col4\" >input</th>        <th class=\"col_heading level1 col5\" >amount</th>        <th class=\"col_heading level1 col6\" >unit</th>        <th class=\"col_heading level1 col7\" >type</th>    </tr></thead><tbody>\n",
       "                <tr>\n",
       "                        <th id=\"T_b697ea3e_ba0a_11ea_822c_7ff15ba2773blevel0_row0\" class=\"row_heading level0 row0\" >aluminium alloy, AlMg3#RER</th>\n",
       "                        <td id=\"T_b697ea3e_ba0a_11ea_822c_7ff15ba2773brow0_col0\" class=\"data row0 col0\" >'aluminium alloy production, AlMg3' (kilogram, RER, None)</td>\n",
       "                        <td id=\"T_b697ea3e_ba0a_11ea_822c_7ff15ba2773brow0_col1\" class=\"data row0 col1\" >1.000000</td>\n",
       "                        <td id=\"T_b697ea3e_ba0a_11ea_822c_7ff15ba2773brow0_col2\" class=\"data row0 col2\" >kilogram</td>\n",
       "                        <td id=\"T_b697ea3e_ba0a_11ea_822c_7ff15ba2773brow0_col3\" class=\"data row0 col3\" >production</td>\n",
       "                        <td id=\"T_b697ea3e_ba0a_11ea_822c_7ff15ba2773brow0_col4\" class=\"data row0 col4\" >nan</td>\n",
       "                        <td id=\"T_b697ea3e_ba0a_11ea_822c_7ff15ba2773brow0_col5\" class=\"data row0 col5\" >nan</td>\n",
       "                        <td id=\"T_b697ea3e_ba0a_11ea_822c_7ff15ba2773brow0_col6\" class=\"data row0 col6\" >nan</td>\n",
       "                        <td id=\"T_b697ea3e_ba0a_11ea_822c_7ff15ba2773brow0_col7\" class=\"data row0 col7\" >nan</td>\n",
       "            </tr>\n",
       "            <tr>\n",
       "                        <th id=\"T_b697ea3e_ba0a_11ea_822c_7ff15ba2773blevel0_row1\" class=\"row_heading level0 row1\" >aluminium alloy, AlMg3#RER {user-db}</th>\n",
       "                        <td id=\"T_b697ea3e_ba0a_11ea_822c_7ff15ba2773brow1_col0\" class=\"data row1 col0\" >nan</td>\n",
       "                        <td id=\"T_b697ea3e_ba0a_11ea_822c_7ff15ba2773brow1_col1\" class=\"data row1 col1\" >nan</td>\n",
       "                        <td id=\"T_b697ea3e_ba0a_11ea_822c_7ff15ba2773brow1_col2\" class=\"data row1 col2\" >nan</td>\n",
       "                        <td id=\"T_b697ea3e_ba0a_11ea_822c_7ff15ba2773brow1_col3\" class=\"data row1 col3\" >nan</td>\n",
       "                        <td id=\"T_b697ea3e_ba0a_11ea_822c_7ff15ba2773brow1_col4\" class=\"data row1 col4\" >'Alu2' (kilogram, RER, None)</td>\n",
       "                        <td id=\"T_b697ea3e_ba0a_11ea_822c_7ff15ba2773brow1_col5\" class=\"data row1 col5\" >1.000000</td>\n",
       "                        <td id=\"T_b697ea3e_ba0a_11ea_822c_7ff15ba2773brow1_col6\" class=\"data row1 col6\" >kilogram</td>\n",
       "                        <td id=\"T_b697ea3e_ba0a_11ea_822c_7ff15ba2773brow1_col7\" class=\"data row1 col7\" >production</td>\n",
       "            </tr>\n",
       "            <tr>\n",
       "                        <th id=\"T_b697ea3e_ba0a_11ea_822c_7ff15ba2773blevel0_row2\" class=\"row_heading level0 row2\" >aluminium scrap, new, Recycled Content cut-off</th>\n",
       "                        <td id=\"T_b697ea3e_ba0a_11ea_822c_7ff15ba2773brow2_col0\" class=\"data row2 col0\" >nan</td>\n",
       "                        <td id=\"T_b697ea3e_ba0a_11ea_822c_7ff15ba2773brow2_col1\" class=\"data row2 col1\" >nan</td>\n",
       "                        <td id=\"T_b697ea3e_ba0a_11ea_822c_7ff15ba2773brow2_col2\" class=\"data row2 col2\" >nan</td>\n",
       "                        <td id=\"T_b697ea3e_ba0a_11ea_822c_7ff15ba2773brow2_col3\" class=\"data row2 col3\" >nan</td>\n",
       "                        <td id=\"T_b697ea3e_ba0a_11ea_822c_7ff15ba2773brow2_col4\" class=\"data row2 col4\" >'aluminium scrap, new, Recycled Content cut-off' (kilogram, GLO, None)</td>\n",
       "                        <td id=\"T_b697ea3e_ba0a_11ea_822c_7ff15ba2773brow2_col5\" class=\"data row2 col5\" >12</td>\n",
       "                        <td id=\"T_b697ea3e_ba0a_11ea_822c_7ff15ba2773brow2_col6\" class=\"data row2 col6\" >kilogram</td>\n",
       "                        <td id=\"T_b697ea3e_ba0a_11ea_822c_7ff15ba2773brow2_col7\" class=\"data row2 col7\" >technosphere</td>\n",
       "            </tr>\n",
       "            <tr>\n",
       "                        <th id=\"T_b697ea3e_ba0a_11ea_822c_7ff15ba2773blevel0_row3\" class=\"row_heading level0 row3\" >aluminium, cast alloy</th>\n",
       "                        <td id=\"T_b697ea3e_ba0a_11ea_822c_7ff15ba2773brow3_col0\" class=\"data row3 col0\" >'market for aluminium, cast alloy' (kilogram, GLO, None)</td>\n",
       "                        <td id=\"T_b697ea3e_ba0a_11ea_822c_7ff15ba2773brow3_col1\" class=\"data row3 col1\" >0.965000</td>\n",
       "                        <td id=\"T_b697ea3e_ba0a_11ea_822c_7ff15ba2773brow3_col2\" class=\"data row3 col2\" >kilogram</td>\n",
       "                        <td id=\"T_b697ea3e_ba0a_11ea_822c_7ff15ba2773brow3_col3\" class=\"data row3 col3\" >technosphere</td>\n",
       "                        <td id=\"T_b697ea3e_ba0a_11ea_822c_7ff15ba2773brow3_col4\" class=\"data row3 col4\" >'market for aluminium, cast alloy' (kilogram, GLO, None)</td>\n",
       "                        <td id=\"T_b697ea3e_ba0a_11ea_822c_7ff15ba2773brow3_col5\" class=\"data row3 col5\" >0.965 - 0.965*share_recycled_aluminium</td>\n",
       "                        <td id=\"T_b697ea3e_ba0a_11ea_822c_7ff15ba2773brow3_col6\" class=\"data row3 col6\" >kilogram</td>\n",
       "                        <td id=\"T_b697ea3e_ba0a_11ea_822c_7ff15ba2773brow3_col7\" class=\"data row3 col7\" >technosphere</td>\n",
       "            </tr>\n",
       "            <tr>\n",
       "                        <th id=\"T_b697ea3e_ba0a_11ea_822c_7ff15ba2773blevel0_row4\" class=\"row_heading level0 row4\" >cast iron</th>\n",
       "                        <td id=\"T_b697ea3e_ba0a_11ea_822c_7ff15ba2773brow4_col0\" class=\"data row4 col0\" >'market for cast iron' (kilogram, GLO, None)</td>\n",
       "                        <td id=\"T_b697ea3e_ba0a_11ea_822c_7ff15ba2773brow4_col1\" class=\"data row4 col1\" >0.004060</td>\n",
       "                        <td id=\"T_b697ea3e_ba0a_11ea_822c_7ff15ba2773brow4_col2\" class=\"data row4 col2\" >kilogram</td>\n",
       "                        <td id=\"T_b697ea3e_ba0a_11ea_822c_7ff15ba2773brow4_col3\" class=\"data row4 col3\" >technosphere</td>\n",
       "                        <td id=\"T_b697ea3e_ba0a_11ea_822c_7ff15ba2773brow4_col4\" class=\"data row4 col4\" >'market for cast iron' (kilogram, GLO, None)</td>\n",
       "                        <td id=\"T_b697ea3e_ba0a_11ea_822c_7ff15ba2773brow4_col5\" class=\"data row4 col5\" >0.004060</td>\n",
       "                        <td id=\"T_b697ea3e_ba0a_11ea_822c_7ff15ba2773brow4_col6\" class=\"data row4 col6\" >kilogram</td>\n",
       "                        <td id=\"T_b697ea3e_ba0a_11ea_822c_7ff15ba2773brow4_col7\" class=\"data row4 col7\" >technosphere</td>\n",
       "            </tr>\n",
       "            <tr>\n",
       "                        <th id=\"T_b697ea3e_ba0a_11ea_822c_7ff15ba2773blevel0_row5\" class=\"row_heading level0 row5\" >chromium</th>\n",
       "                        <td id=\"T_b697ea3e_ba0a_11ea_822c_7ff15ba2773brow5_col0\" class=\"data row5 col0\" >'market for chromium' (kilogram, GLO, None)</td>\n",
       "                        <td id=\"T_b697ea3e_ba0a_11ea_822c_7ff15ba2773brow5_col1\" class=\"data row5 col1\" >0.003050</td>\n",
       "                        <td id=\"T_b697ea3e_ba0a_11ea_822c_7ff15ba2773brow5_col2\" class=\"data row5 col2\" >kilogram</td>\n",
       "                        <td id=\"T_b697ea3e_ba0a_11ea_822c_7ff15ba2773brow5_col3\" class=\"data row5 col3\" >technosphere</td>\n",
       "                        <td id=\"T_b697ea3e_ba0a_11ea_822c_7ff15ba2773brow5_col4\" class=\"data row5 col4\" >nan</td>\n",
       "                        <td id=\"T_b697ea3e_ba0a_11ea_822c_7ff15ba2773brow5_col5\" class=\"data row5 col5\" >nan</td>\n",
       "                        <td id=\"T_b697ea3e_ba0a_11ea_822c_7ff15ba2773brow5_col6\" class=\"data row5 col6\" >nan</td>\n",
       "                        <td id=\"T_b697ea3e_ba0a_11ea_822c_7ff15ba2773brow5_col7\" class=\"data row5 col7\" >nan</td>\n",
       "            </tr>\n",
       "            <tr>\n",
       "                        <th id=\"T_b697ea3e_ba0a_11ea_822c_7ff15ba2773blevel0_row6\" class=\"row_heading level0 row6\" >chromium {user-db}</th>\n",
       "                        <td id=\"T_b697ea3e_ba0a_11ea_822c_7ff15ba2773brow6_col0\" class=\"data row6 col0\" >nan</td>\n",
       "                        <td id=\"T_b697ea3e_ba0a_11ea_822c_7ff15ba2773brow6_col1\" class=\"data row6 col1\" >nan</td>\n",
       "                        <td id=\"T_b697ea3e_ba0a_11ea_822c_7ff15ba2773brow6_col2\" class=\"data row6 col2\" >nan</td>\n",
       "                        <td id=\"T_b697ea3e_ba0a_11ea_822c_7ff15ba2773brow6_col3\" class=\"data row6 col3\" >nan</td>\n",
       "                        <td id=\"T_b697ea3e_ba0a_11ea_822c_7ff15ba2773brow6_col4\" class=\"data row6 col4\" >'first foreground activity' (kg, GLO, None)</td>\n",
       "                        <td id=\"T_b697ea3e_ba0a_11ea_822c_7ff15ba2773brow6_col5\" class=\"data row6 col5\" >4.000000</td>\n",
       "                        <td id=\"T_b697ea3e_ba0a_11ea_822c_7ff15ba2773brow6_col6\" class=\"data row6 col6\" >kg</td>\n",
       "                        <td id=\"T_b697ea3e_ba0a_11ea_822c_7ff15ba2773brow6_col7\" class=\"data row6 col7\" >technosphere</td>\n",
       "            </tr>\n",
       "            <tr>\n",
       "                        <th id=\"T_b697ea3e_ba0a_11ea_822c_7ff15ba2773blevel0_row7\" class=\"row_heading level0 row7\" >copper</th>\n",
       "                        <td id=\"T_b697ea3e_ba0a_11ea_822c_7ff15ba2773brow7_col0\" class=\"data row7 col0\" >'market for copper' (kilogram, GLO, None)</td>\n",
       "                        <td id=\"T_b697ea3e_ba0a_11ea_822c_7ff15ba2773brow7_col1\" class=\"data row7 col1\" >0.001020</td>\n",
       "                        <td id=\"T_b697ea3e_ba0a_11ea_822c_7ff15ba2773brow7_col2\" class=\"data row7 col2\" >kilogram</td>\n",
       "                        <td id=\"T_b697ea3e_ba0a_11ea_822c_7ff15ba2773brow7_col3\" class=\"data row7 col3\" >technosphere</td>\n",
       "                        <td id=\"T_b697ea3e_ba0a_11ea_822c_7ff15ba2773brow7_col4\" class=\"data row7 col4\" >'market for copper' (kilogram, GLO, None)</td>\n",
       "                        <td id=\"T_b697ea3e_ba0a_11ea_822c_7ff15ba2773brow7_col5\" class=\"data row7 col5\" >0.001020</td>\n",
       "                        <td id=\"T_b697ea3e_ba0a_11ea_822c_7ff15ba2773brow7_col6\" class=\"data row7 col6\" >kilogram</td>\n",
       "                        <td id=\"T_b697ea3e_ba0a_11ea_822c_7ff15ba2773brow7_col7\" class=\"data row7 col7\" >technosphere</td>\n",
       "            </tr>\n",
       "            <tr>\n",
       "                        <th id=\"T_b697ea3e_ba0a_11ea_822c_7ff15ba2773blevel0_row8\" class=\"row_heading level0 row8\" >electricity, high voltage, aluminium industry {user-db}</th>\n",
       "                        <td id=\"T_b697ea3e_ba0a_11ea_822c_7ff15ba2773brow8_col0\" class=\"data row8 col0\" >nan</td>\n",
       "                        <td id=\"T_b697ea3e_ba0a_11ea_822c_7ff15ba2773brow8_col1\" class=\"data row8 col1\" >nan</td>\n",
       "                        <td id=\"T_b697ea3e_ba0a_11ea_822c_7ff15ba2773brow8_col2\" class=\"data row8 col2\" >nan</td>\n",
       "                        <td id=\"T_b697ea3e_ba0a_11ea_822c_7ff15ba2773brow8_col3\" class=\"data row8 col3\" >nan</td>\n",
       "                        <td id=\"T_b697ea3e_ba0a_11ea_822c_7ff15ba2773brow8_col4\" class=\"data row8 col4\" >'elect mix' (kilowatt hour, GLO, None)</td>\n",
       "                        <td id=\"T_b697ea3e_ba0a_11ea_822c_7ff15ba2773brow8_col5\" class=\"data row8 col5\" >1.590000</td>\n",
       "                        <td id=\"T_b697ea3e_ba0a_11ea_822c_7ff15ba2773brow8_col6\" class=\"data row8 col6\" >kilowatt hour</td>\n",
       "                        <td id=\"T_b697ea3e_ba0a_11ea_822c_7ff15ba2773brow8_col7\" class=\"data row8 col7\" >technosphere</td>\n",
       "            </tr>\n",
       "            <tr>\n",
       "                        <th id=\"T_b697ea3e_ba0a_11ea_822c_7ff15ba2773blevel0_row9\" class=\"row_heading level0 row9\" >electricity, high voltage, aluminium industry#IAI Area, EU27 & EFTA</th>\n",
       "                        <td id=\"T_b697ea3e_ba0a_11ea_822c_7ff15ba2773brow9_col0\" class=\"data row9 col0\" >'market for electricity, high voltage, aluminium industry' (kilowatt hour, IAI Area, EU27 & EFTA, None)</td>\n",
       "                        <td id=\"T_b697ea3e_ba0a_11ea_822c_7ff15ba2773brow9_col1\" class=\"data row9 col1\" >1.590000</td>\n",
       "                        <td id=\"T_b697ea3e_ba0a_11ea_822c_7ff15ba2773brow9_col2\" class=\"data row9 col2\" >kilowatt hour</td>\n",
       "                        <td id=\"T_b697ea3e_ba0a_11ea_822c_7ff15ba2773brow9_col3\" class=\"data row9 col3\" >technosphere</td>\n",
       "                        <td id=\"T_b697ea3e_ba0a_11ea_822c_7ff15ba2773brow9_col4\" class=\"data row9 col4\" >nan</td>\n",
       "                        <td id=\"T_b697ea3e_ba0a_11ea_822c_7ff15ba2773brow9_col5\" class=\"data row9 col5\" >nan</td>\n",
       "                        <td id=\"T_b697ea3e_ba0a_11ea_822c_7ff15ba2773brow9_col6\" class=\"data row9 col6\" >nan</td>\n",
       "                        <td id=\"T_b697ea3e_ba0a_11ea_822c_7ff15ba2773brow9_col7\" class=\"data row9 col7\" >nan</td>\n",
       "            </tr>\n",
       "            <tr>\n",
       "                        <th id=\"T_b697ea3e_ba0a_11ea_822c_7ff15ba2773blevel0_row10\" class=\"row_heading level0 row10\" >magnesium</th>\n",
       "                        <td id=\"T_b697ea3e_ba0a_11ea_822c_7ff15ba2773brow10_col0\" class=\"data row10 col0\" >'market for magnesium' (kilogram, GLO, None)</td>\n",
       "                        <td id=\"T_b697ea3e_ba0a_11ea_822c_7ff15ba2773brow10_col1\" class=\"data row10 col1\" >0.030500</td>\n",
       "                        <td id=\"T_b697ea3e_ba0a_11ea_822c_7ff15ba2773brow10_col2\" class=\"data row10 col2\" >kilogram</td>\n",
       "                        <td id=\"T_b697ea3e_ba0a_11ea_822c_7ff15ba2773brow10_col3\" class=\"data row10 col3\" >technosphere</td>\n",
       "                        <td id=\"T_b697ea3e_ba0a_11ea_822c_7ff15ba2773brow10_col4\" class=\"data row10 col4\" >'market for magnesium' (kilogram, GLO, None)</td>\n",
       "                        <td id=\"T_b697ea3e_ba0a_11ea_822c_7ff15ba2773brow10_col5\" class=\"data row10 col5\" >0.030500</td>\n",
       "                        <td id=\"T_b697ea3e_ba0a_11ea_822c_7ff15ba2773brow10_col6\" class=\"data row10 col6\" >kilogram</td>\n",
       "                        <td id=\"T_b697ea3e_ba0a_11ea_822c_7ff15ba2773brow10_col7\" class=\"data row10 col7\" >technosphere</td>\n",
       "            </tr>\n",
       "            <tr>\n",
       "                        <th id=\"T_b697ea3e_ba0a_11ea_822c_7ff15ba2773blevel0_row11\" class=\"row_heading level0 row11\" >manganese</th>\n",
       "                        <td id=\"T_b697ea3e_ba0a_11ea_822c_7ff15ba2773brow11_col0\" class=\"data row11 col0\" >'market for manganese' (kilogram, GLO, None)</td>\n",
       "                        <td id=\"T_b697ea3e_ba0a_11ea_822c_7ff15ba2773brow11_col1\" class=\"data row11 col1\" >0.005080</td>\n",
       "                        <td id=\"T_b697ea3e_ba0a_11ea_822c_7ff15ba2773brow11_col2\" class=\"data row11 col2\" >kilogram</td>\n",
       "                        <td id=\"T_b697ea3e_ba0a_11ea_822c_7ff15ba2773brow11_col3\" class=\"data row11 col3\" >technosphere</td>\n",
       "                        <td id=\"T_b697ea3e_ba0a_11ea_822c_7ff15ba2773brow11_col4\" class=\"data row11 col4\" >'market for manganese' (kilogram, GLO, None)</td>\n",
       "                        <td id=\"T_b697ea3e_ba0a_11ea_822c_7ff15ba2773brow11_col5\" class=\"data row11 col5\" >0.005080</td>\n",
       "                        <td id=\"T_b697ea3e_ba0a_11ea_822c_7ff15ba2773brow11_col6\" class=\"data row11 col6\" >kilogram</td>\n",
       "                        <td id=\"T_b697ea3e_ba0a_11ea_822c_7ff15ba2773brow11_col7\" class=\"data row11 col7\" >technosphere</td>\n",
       "            </tr>\n",
       "            <tr>\n",
       "                        <th id=\"T_b697ea3e_ba0a_11ea_822c_7ff15ba2773blevel0_row12\" class=\"row_heading level0 row12\" >silicon, metallurgical grade</th>\n",
       "                        <td id=\"T_b697ea3e_ba0a_11ea_822c_7ff15ba2773brow12_col0\" class=\"data row12 col0\" >'market for silicon, metallurgical grade' (kilogram, GLO, None)</td>\n",
       "                        <td id=\"T_b697ea3e_ba0a_11ea_822c_7ff15ba2773brow12_col1\" class=\"data row12 col1\" >0.004060</td>\n",
       "                        <td id=\"T_b697ea3e_ba0a_11ea_822c_7ff15ba2773brow12_col2\" class=\"data row12 col2\" >kilogram</td>\n",
       "                        <td id=\"T_b697ea3e_ba0a_11ea_822c_7ff15ba2773brow12_col3\" class=\"data row12 col3\" >technosphere</td>\n",
       "                        <td id=\"T_b697ea3e_ba0a_11ea_822c_7ff15ba2773brow12_col4\" class=\"data row12 col4\" >'market for silicon, metallurgical grade' (kilogram, GLO, None)</td>\n",
       "                        <td id=\"T_b697ea3e_ba0a_11ea_822c_7ff15ba2773brow12_col5\" class=\"data row12 col5\" >0.004060</td>\n",
       "                        <td id=\"T_b697ea3e_ba0a_11ea_822c_7ff15ba2773brow12_col6\" class=\"data row12 col6\" >kilogram</td>\n",
       "                        <td id=\"T_b697ea3e_ba0a_11ea_822c_7ff15ba2773brow12_col7\" class=\"data row12 col7\" >technosphere</td>\n",
       "            </tr>\n",
       "            <tr>\n",
       "                        <th id=\"T_b697ea3e_ba0a_11ea_822c_7ff15ba2773blevel0_row13\" class=\"row_heading level0 row13\" >zinc</th>\n",
       "                        <td id=\"T_b697ea3e_ba0a_11ea_822c_7ff15ba2773brow13_col0\" class=\"data row13 col0\" >'market for zinc' (kilogram, GLO, None)</td>\n",
       "                        <td id=\"T_b697ea3e_ba0a_11ea_822c_7ff15ba2773brow13_col1\" class=\"data row13 col1\" >0.002030</td>\n",
       "                        <td id=\"T_b697ea3e_ba0a_11ea_822c_7ff15ba2773brow13_col2\" class=\"data row13 col2\" >kilogram</td>\n",
       "                        <td id=\"T_b697ea3e_ba0a_11ea_822c_7ff15ba2773brow13_col3\" class=\"data row13 col3\" >technosphere</td>\n",
       "                        <td id=\"T_b697ea3e_ba0a_11ea_822c_7ff15ba2773brow13_col4\" class=\"data row13 col4\" >'market for zinc' (kilogram, GLO, None)</td>\n",
       "                        <td id=\"T_b697ea3e_ba0a_11ea_822c_7ff15ba2773brow13_col5\" class=\"data row13 col5\" >0.002030</td>\n",
       "                        <td id=\"T_b697ea3e_ba0a_11ea_822c_7ff15ba2773brow13_col6\" class=\"data row13 col6\" >kilogram</td>\n",
       "                        <td id=\"T_b697ea3e_ba0a_11ea_822c_7ff15ba2773brow13_col7\" class=\"data row13 col7\" >technosphere</td>\n",
       "            </tr>\n",
       "    </tbody></table>"
      ],
      "text/plain": [
       "<pandas.io.formats.style.Styler at 0x7fdb8f644470>"
      ]
     },
     "metadata": {},
     "output_type": "display_data"
    }
   ],
   "source": [
    "# You print several activities at once to compare them\n",
    "printAct(alu, alu2)"
   ]
  },
  {
   "cell_type": "markdown",
   "metadata": {},
   "source": [
    "# Select the impacts to consider"
   ]
  },
  {
   "cell_type": "code",
   "execution_count": 47,
   "metadata": {
    "ExecuteTime": {
     "end_time": "2020-06-29T13:16:18.118426Z",
     "start_time": "2020-06-29T13:16:18.094507Z"
    }
   },
   "outputs": [],
   "source": [
    "# List of impacts to consider\n",
    "impacts = [m for m in bw.methods if 'ILCD 1.0.8 2016' in str(m) and 'no LT' in str(m)]\n"
   ]
  },
  {
   "cell_type": "code",
   "execution_count": 50,
   "metadata": {
    "ExecuteTime": {
     "end_time": "2020-06-29T13:16:42.292266Z",
     "start_time": "2020-06-29T13:16:42.254969Z"
    }
   },
   "outputs": [],
   "source": [
    "# You can provide alternate names for soResource uageme methods\n",
    "set_custom_impact_labels({\n",
    "    impacts[0] : 'Resource usage',\n",
    "    impacts[1]: 'Climate change'})"
   ]
  },
  {
   "cell_type": "markdown",
   "metadata": {},
   "source": [
    "# Compute LCA\n",
    "\n",
    "We provide two methods  for computing LCA : \n",
    "* **multiLCA** : It uses **brightway2** native parametric support. It is **much slower** and kept for **comparing results**.\n",
    "* **multiLCAAlgebric** : It computes an algebric expression of the model and computes LCA once for all the background activities. Then it express each impact as a function of the parameters. This expression is then compiled into 'numpy' native code, for fast computation on vectors of samples. This version is 1 million time faster."
   ]
  },
  {
   "cell_type": "code",
   "execution_count": 51,
   "metadata": {
    "ExecuteTime": {
     "end_time": "2020-06-29T13:16:43.359389Z",
     "start_time": "2020-06-29T13:16:42.954939Z"
    }
   },
   "outputs": [
    {
     "data": {
      "text/html": [
       "<div>\n",
       "<style scoped>\n",
       "    .dataframe tbody tr th:only-of-type {\n",
       "        vertical-align: middle;\n",
       "    }\n",
       "\n",
       "    .dataframe tbody tr th {\n",
       "        vertical-align: top;\n",
       "    }\n",
       "\n",
       "    .dataframe thead th {\n",
       "        text-align: right;\n",
       "    }\n",
       "</style>\n",
       "<table border=\"1\" class=\"dataframe\">\n",
       "  <thead>\n",
       "    <tr style=\"text-align: right;\">\n",
       "      <th></th>\n",
       "      <th>Resource usage</th>\n",
       "      <th>Climate change</th>\n",
       "      <th>ecosystem quality - freshwater and terrestrial acidification</th>\n",
       "      <th>ecosystem quality - freshwater ecotoxicity</th>\n",
       "      <th>ecosystem quality - freshwater eutrophication</th>\n",
       "      <th>ecosystem quality - ionising radiation</th>\n",
       "      <th>ecosystem quality - marine eutrophication</th>\n",
       "      <th>ecosystem quality - terrestrial eutrophication</th>\n",
       "      <th>human health - carcinogenic effects</th>\n",
       "      <th>human health - ionising radiation</th>\n",
       "      <th>human health - non-carcinogenic effects</th>\n",
       "      <th>human health - ozone layer depletion</th>\n",
       "      <th>human health - photochemical ozone creation</th>\n",
       "      <th>human health - respiratory effects, inorganics</th>\n",
       "      <th>resources - land use</th>\n",
       "    </tr>\n",
       "  </thead>\n",
       "  <tbody>\n",
       "    <tr>\n",
       "      <th>normalized model</th>\n",
       "      <td>0.001918</td>\n",
       "      <td>1.313747</td>\n",
       "      <td>0.007555</td>\n",
       "      <td>1.172257</td>\n",
       "      <td>0.000092</td>\n",
       "      <td>3.406898e-07</td>\n",
       "      <td>0.001017</td>\n",
       "      <td>0.011743</td>\n",
       "      <td>5.694797e-08</td>\n",
       "      <td>0.04294</td>\n",
       "      <td>4.267009e-07</td>\n",
       "      <td>5.558090e-08</td>\n",
       "      <td>0.003601</td>\n",
       "      <td>0.001927</td>\n",
       "      <td>249.65113</td>\n",
       "    </tr>\n",
       "  </tbody>\n",
       "</table>\n",
       "</div>"
      ],
      "text/plain": [
       "                  Resource usage  Climate change  \\\n",
       "normalized model        0.001918        1.313747   \n",
       "\n",
       "                  ecosystem quality - freshwater and terrestrial acidification  \\\n",
       "normalized model                                           0.007555              \n",
       "\n",
       "                  ecosystem quality - freshwater ecotoxicity  \\\n",
       "normalized model                                    1.172257   \n",
       "\n",
       "                  ecosystem quality - freshwater eutrophication  \\\n",
       "normalized model                                       0.000092   \n",
       "\n",
       "                  ecosystem quality - ionising radiation  \\\n",
       "normalized model                            3.406898e-07   \n",
       "\n",
       "                  ecosystem quality - marine eutrophication  \\\n",
       "normalized model                                   0.001017   \n",
       "\n",
       "                  ecosystem quality - terrestrial eutrophication  \\\n",
       "normalized model                                        0.011743   \n",
       "\n",
       "                  human health - carcinogenic effects  \\\n",
       "normalized model                         5.694797e-08   \n",
       "\n",
       "                  human health - ionising radiation  \\\n",
       "normalized model                            0.04294   \n",
       "\n",
       "                  human health - non-carcinogenic effects  \\\n",
       "normalized model                             4.267009e-07   \n",
       "\n",
       "                  human health - ozone layer depletion  \\\n",
       "normalized model                          5.558090e-08   \n",
       "\n",
       "                  human health - photochemical ozone creation  \\\n",
       "normalized model                                     0.003601   \n",
       "\n",
       "                  human health - respiratory effects, inorganics  \\\n",
       "normalized model                                        0.001927   \n",
       "\n",
       "                  resources - land use  \n",
       "normalized model             249.65113  "
      ]
     },
     "execution_count": 51,
     "metadata": {},
     "output_type": "execute_result"
    }
   ],
   "source": [
    "# Uses brightway2 parameters\n",
    "multiLCA(\n",
    "    normalized_model, \n",
    "    impacts, \n",
    "                   \n",
    "    # Parameters of the model\n",
    "    a=1, \n",
    "    b=2, \n",
    "    elec_switch_param=\"us\",\n",
    "    share_recycled_aluminium=0.4)"
   ]
  },
  {
   "cell_type": "code",
   "execution_count": 52,
   "metadata": {
    "ExecuteTime": {
     "end_time": "2020-06-29T13:16:50.336757Z",
     "start_time": "2020-06-29T13:16:49.676743Z"
    }
   },
   "outputs": [
    {
     "data": {
      "text/html": [
       "<div>\n",
       "<style scoped>\n",
       "    .dataframe tbody tr th:only-of-type {\n",
       "        vertical-align: middle;\n",
       "    }\n",
       "\n",
       "    .dataframe tbody tr th {\n",
       "        vertical-align: top;\n",
       "    }\n",
       "\n",
       "    .dataframe thead th {\n",
       "        text-align: right;\n",
       "    }\n",
       "</style>\n",
       "<table border=\"1\" class=\"dataframe\">\n",
       "  <thead>\n",
       "    <tr style=\"text-align: right;\">\n",
       "      <th></th>\n",
       "      <th>Resource usage</th>\n",
       "      <th>Climate change</th>\n",
       "      <th>ecosystem quality - freshwater and terrestrial acidification</th>\n",
       "      <th>ecosystem quality - freshwater ecotoxicity</th>\n",
       "      <th>ecosystem quality - freshwater eutrophication</th>\n",
       "      <th>ecosystem quality - ionising radiation</th>\n",
       "      <th>ecosystem quality - marine eutrophication</th>\n",
       "      <th>ecosystem quality - terrestrial eutrophication</th>\n",
       "      <th>human health - carcinogenic effects</th>\n",
       "      <th>human health - ionising radiation</th>\n",
       "      <th>human health - non-carcinogenic effects</th>\n",
       "      <th>human health - ozone layer depletion</th>\n",
       "      <th>human health - photochemical ozone creation</th>\n",
       "      <th>human health - respiratory effects, inorganics</th>\n",
       "      <th>resources - land use</th>\n",
       "    </tr>\n",
       "  </thead>\n",
       "  <tbody>\n",
       "    <tr>\n",
       "      <th>normalized model</th>\n",
       "      <td>0.001918</td>\n",
       "      <td>1.313747</td>\n",
       "      <td>0.007555</td>\n",
       "      <td>1.172257</td>\n",
       "      <td>0.000092</td>\n",
       "      <td>3.406898e-07</td>\n",
       "      <td>0.001017</td>\n",
       "      <td>0.011743</td>\n",
       "      <td>5.694796e-08</td>\n",
       "      <td>0.04294</td>\n",
       "      <td>4.267008e-07</td>\n",
       "      <td>5.558090e-08</td>\n",
       "      <td>0.003601</td>\n",
       "      <td>0.001927</td>\n",
       "      <td>35.421116</td>\n",
       "    </tr>\n",
       "  </tbody>\n",
       "</table>\n",
       "</div>"
      ],
      "text/plain": [
       "                  Resource usage  Climate change  \\\n",
       "normalized model        0.001918        1.313747   \n",
       "\n",
       "                  ecosystem quality - freshwater and terrestrial acidification  \\\n",
       "normalized model                                           0.007555              \n",
       "\n",
       "                  ecosystem quality - freshwater ecotoxicity  \\\n",
       "normalized model                                    1.172257   \n",
       "\n",
       "                  ecosystem quality - freshwater eutrophication  \\\n",
       "normalized model                                       0.000092   \n",
       "\n",
       "                  ecosystem quality - ionising radiation  \\\n",
       "normalized model                            3.406898e-07   \n",
       "\n",
       "                  ecosystem quality - marine eutrophication  \\\n",
       "normalized model                                   0.001017   \n",
       "\n",
       "                  ecosystem quality - terrestrial eutrophication  \\\n",
       "normalized model                                        0.011743   \n",
       "\n",
       "                  human health - carcinogenic effects  \\\n",
       "normalized model                         5.694796e-08   \n",
       "\n",
       "                  human health - ionising radiation  \\\n",
       "normalized model                            0.04294   \n",
       "\n",
       "                  human health - non-carcinogenic effects  \\\n",
       "normalized model                             4.267008e-07   \n",
       "\n",
       "                  human health - ozone layer depletion  \\\n",
       "normalized model                          5.558090e-08   \n",
       "\n",
       "                  human health - photochemical ozone creation  \\\n",
       "normalized model                                     0.003601   \n",
       "\n",
       "                  human health - respiratory effects, inorganics  \\\n",
       "normalized model                                        0.001927   \n",
       "\n",
       "                  resources - land use  \n",
       "normalized model             35.421116  "
      ]
     },
     "execution_count": 52,
     "metadata": {},
     "output_type": "execute_result"
    }
   ],
   "source": [
    "# Compute with algebric implementation : the values should be the same\n",
    "multiLCAAlgebric(\n",
    "    normalized_model, # The model \n",
    "    impacts, # Impacts\n",
    "    \n",
    "    # Parameters of the model\n",
    "    a=1, \n",
    "    b=2,\n",
    "    elec_switch_param=\"us\",\n",
    "    share_recycled_aluminium=0.4)"
   ]
  },
  {
   "cell_type": "code",
   "execution_count": 75,
   "metadata": {
    "ExecuteTime": {
     "end_time": "2020-06-29T14:13:33.362456Z",
     "start_time": "2020-06-29T14:13:32.274982Z"
    }
   },
   "outputs": [
    {
     "data": {
      "text/html": [
       "<div>\n",
       "<style scoped>\n",
       "    .dataframe tbody tr th:only-of-type {\n",
       "        vertical-align: middle;\n",
       "    }\n",
       "\n",
       "    .dataframe tbody tr th {\n",
       "        vertical-align: top;\n",
       "    }\n",
       "\n",
       "    .dataframe thead th {\n",
       "        text-align: right;\n",
       "    }\n",
       "</style>\n",
       "<table border=\"1\" class=\"dataframe\">\n",
       "  <thead>\n",
       "    <tr style=\"text-align: right;\">\n",
       "      <th></th>\n",
       "      <th>Resource usage</th>\n",
       "      <th>Climate change</th>\n",
       "      <th>ecosystem quality - freshwater and terrestrial acidification</th>\n",
       "      <th>ecosystem quality - freshwater ecotoxicity</th>\n",
       "      <th>ecosystem quality - freshwater eutrophication</th>\n",
       "      <th>ecosystem quality - ionising radiation</th>\n",
       "      <th>ecosystem quality - marine eutrophication</th>\n",
       "      <th>ecosystem quality - terrestrial eutrophication</th>\n",
       "      <th>human health - carcinogenic effects</th>\n",
       "      <th>human health - ionising radiation</th>\n",
       "      <th>human health - non-carcinogenic effects</th>\n",
       "      <th>human health - ozone layer depletion</th>\n",
       "      <th>human health - photochemical ozone creation</th>\n",
       "      <th>human health - respiratory effects, inorganics</th>\n",
       "      <th>resources - land use</th>\n",
       "    </tr>\n",
       "  </thead>\n",
       "  <tbody>\n",
       "    <tr>\n",
       "      <th>aluminium alloy production, AlMg3[RER]</th>\n",
       "      <td>0.010063</td>\n",
       "      <td>5.731382</td>\n",
       "      <td>0.035596</td>\n",
       "      <td>5.890408</td>\n",
       "      <td>0.000352</td>\n",
       "      <td>0.000001</td>\n",
       "      <td>0.004777</td>\n",
       "      <td>0.054339</td>\n",
       "      <td>2.961301e-07</td>\n",
       "      <td>0.144029</td>\n",
       "      <td>0.000002</td>\n",
       "      <td>2.358739e-07</td>\n",
       "      <td>0.016481</td>\n",
       "      <td>0.007688</td>\n",
       "      <td>4.544623</td>\n",
       "    </tr>\n",
       "    <tr>\n",
       "      <th>Alu2[RER]</th>\n",
       "      <td>0.007194</td>\n",
       "      <td>5.088309</td>\n",
       "      <td>0.028764</td>\n",
       "      <td>4.335949</td>\n",
       "      <td>0.000366</td>\n",
       "      <td>0.000001</td>\n",
       "      <td>0.003863</td>\n",
       "      <td>0.044837</td>\n",
       "      <td>2.035257e-07</td>\n",
       "      <td>0.172125</td>\n",
       "      <td>0.000002</td>\n",
       "      <td>2.138992e-07</td>\n",
       "      <td>0.013672</td>\n",
       "      <td>0.007482</td>\n",
       "      <td>92.712588</td>\n",
       "    </tr>\n",
       "  </tbody>\n",
       "</table>\n",
       "</div>"
      ],
      "text/plain": [
       "                                        Resource usage  Climate change  \\\n",
       "aluminium alloy production, AlMg3[RER]        0.010063        5.731382   \n",
       "Alu2[RER]                                     0.007194        5.088309   \n",
       "\n",
       "                                        ecosystem quality - freshwater and terrestrial acidification  \\\n",
       "aluminium alloy production, AlMg3[RER]                                           0.035596              \n",
       "Alu2[RER]                                                                        0.028764              \n",
       "\n",
       "                                        ecosystem quality - freshwater ecotoxicity  \\\n",
       "aluminium alloy production, AlMg3[RER]                                    5.890408   \n",
       "Alu2[RER]                                                                 4.335949   \n",
       "\n",
       "                                        ecosystem quality - freshwater eutrophication  \\\n",
       "aluminium alloy production, AlMg3[RER]                                       0.000352   \n",
       "Alu2[RER]                                                                    0.000366   \n",
       "\n",
       "                                        ecosystem quality - ionising radiation  \\\n",
       "aluminium alloy production, AlMg3[RER]                                0.000001   \n",
       "Alu2[RER]                                                             0.000001   \n",
       "\n",
       "                                        ecosystem quality - marine eutrophication  \\\n",
       "aluminium alloy production, AlMg3[RER]                                   0.004777   \n",
       "Alu2[RER]                                                                0.003863   \n",
       "\n",
       "                                        ecosystem quality - terrestrial eutrophication  \\\n",
       "aluminium alloy production, AlMg3[RER]                                        0.054339   \n",
       "Alu2[RER]                                                                     0.044837   \n",
       "\n",
       "                                        human health - carcinogenic effects  \\\n",
       "aluminium alloy production, AlMg3[RER]                         2.961301e-07   \n",
       "Alu2[RER]                                                      2.035257e-07   \n",
       "\n",
       "                                        human health - ionising radiation  \\\n",
       "aluminium alloy production, AlMg3[RER]                           0.144029   \n",
       "Alu2[RER]                                                        0.172125   \n",
       "\n",
       "                                        human health - non-carcinogenic effects  \\\n",
       "aluminium alloy production, AlMg3[RER]                                 0.000002   \n",
       "Alu2[RER]                                                              0.000002   \n",
       "\n",
       "                                        human health - ozone layer depletion  \\\n",
       "aluminium alloy production, AlMg3[RER]                          2.358739e-07   \n",
       "Alu2[RER]                                                       2.138992e-07   \n",
       "\n",
       "                                        human health - photochemical ozone creation  \\\n",
       "aluminium alloy production, AlMg3[RER]                                     0.016481   \n",
       "Alu2[RER]                                                                  0.013672   \n",
       "\n",
       "                                        human health - respiratory effects, inorganics  \\\n",
       "aluminium alloy production, AlMg3[RER]                                        0.007688   \n",
       "Alu2[RER]                                                                     0.007482   \n",
       "\n",
       "                                        resources - land use  \n",
       "aluminium alloy production, AlMg3[RER]              4.544623  \n",
       "Alu2[RER]                                          92.712588  "
      ]
     },
     "execution_count": 75,
     "metadata": {},
     "output_type": "execute_result"
    }
   ],
   "source": [
    "# You can compute several LCAs at a time and compare them:\n",
    "multiLCAAlgebric(\n",
    "    [alu, alu2], # The models\n",
    "    \n",
    "    impacts, # Impacts\n",
    "    \n",
    "    # Parameters of the model\n",
    "    share_recycled_aluminium=0.3,\n",
    "    elec_switch_param=\"us\")"
   ]
  },
  {
   "cell_type": "markdown",
   "metadata": {},
   "source": [
    "## Evaluate the contribution of a subset of activites to global impact\n",
    "\n",
    "You can extract the contribution of a subset of activites to the global impact of the model"
   ]
  },
  {
   "cell_type": "code",
   "execution_count": 76,
   "metadata": {
    "ExecuteTime": {
     "end_time": "2020-06-29T14:13:43.838092Z",
     "start_time": "2020-06-29T14:13:43.399949Z"
    }
   },
   "outputs": [
    {
     "data": {
      "text/html": [
       "<div>\n",
       "<style scoped>\n",
       "    .dataframe tbody tr th:only-of-type {\n",
       "        vertical-align: middle;\n",
       "    }\n",
       "\n",
       "    .dataframe tbody tr th {\n",
       "        vertical-align: top;\n",
       "    }\n",
       "\n",
       "    .dataframe thead th {\n",
       "        text-align: right;\n",
       "    }\n",
       "</style>\n",
       "<table border=\"1\" class=\"dataframe\">\n",
       "  <thead>\n",
       "    <tr style=\"text-align: right;\">\n",
       "      <th></th>\n",
       "      <th>Resource usage</th>\n",
       "      <th>Climate change</th>\n",
       "      <th>ecosystem quality - freshwater and terrestrial acidification</th>\n",
       "      <th>ecosystem quality - freshwater ecotoxicity</th>\n",
       "      <th>ecosystem quality - freshwater eutrophication</th>\n",
       "      <th>ecosystem quality - ionising radiation</th>\n",
       "      <th>ecosystem quality - marine eutrophication</th>\n",
       "      <th>ecosystem quality - terrestrial eutrophication</th>\n",
       "      <th>human health - carcinogenic effects</th>\n",
       "      <th>human health - ionising radiation</th>\n",
       "      <th>human health - non-carcinogenic effects</th>\n",
       "      <th>human health - ozone layer depletion</th>\n",
       "      <th>human health - photochemical ozone creation</th>\n",
       "      <th>human health - respiratory effects, inorganics</th>\n",
       "      <th>resources - land use</th>\n",
       "    </tr>\n",
       "  </thead>\n",
       "  <tbody>\n",
       "    <tr>\n",
       "      <th>normalized model</th>\n",
       "      <td>0.001247</td>\n",
       "      <td>0.931655</td>\n",
       "      <td>0.005182</td>\n",
       "      <td>0.779563</td>\n",
       "      <td>0.000069</td>\n",
       "      <td>2.604286e-07</td>\n",
       "      <td>0.000698</td>\n",
       "      <td>0.008121</td>\n",
       "      <td>3.720596e-08</td>\n",
       "      <td>0.033338</td>\n",
       "      <td>2.820458e-07</td>\n",
       "      <td>3.985597e-08</td>\n",
       "      <td>0.002503</td>\n",
       "      <td>0.001415</td>\n",
       "      <td>18.468141</td>\n",
       "    </tr>\n",
       "  </tbody>\n",
       "</table>\n",
       "</div>"
      ],
      "text/plain": [
       "                  Resource usage  Climate change  \\\n",
       "normalized model        0.001247        0.931655   \n",
       "\n",
       "                  ecosystem quality - freshwater and terrestrial acidification  \\\n",
       "normalized model                                           0.005182              \n",
       "\n",
       "                  ecosystem quality - freshwater ecotoxicity  \\\n",
       "normalized model                                    0.779563   \n",
       "\n",
       "                  ecosystem quality - freshwater eutrophication  \\\n",
       "normalized model                                       0.000069   \n",
       "\n",
       "                  ecosystem quality - ionising radiation  \\\n",
       "normalized model                            2.604286e-07   \n",
       "\n",
       "                  ecosystem quality - marine eutrophication  \\\n",
       "normalized model                                   0.000698   \n",
       "\n",
       "                  ecosystem quality - terrestrial eutrophication  \\\n",
       "normalized model                                        0.008121   \n",
       "\n",
       "                  human health - carcinogenic effects  \\\n",
       "normalized model                         3.720596e-08   \n",
       "\n",
       "                  human health - ionising radiation  \\\n",
       "normalized model                           0.033338   \n",
       "\n",
       "                  human health - non-carcinogenic effects  \\\n",
       "normalized model                             2.820458e-07   \n",
       "\n",
       "                  human health - ozone layer depletion  \\\n",
       "normalized model                          3.985597e-08   \n",
       "\n",
       "                  human health - photochemical ozone creation  \\\n",
       "normalized model                                     0.002503   \n",
       "\n",
       "                  human health - respiratory effects, inorganics  \\\n",
       "normalized model                                        0.001415   \n",
       "\n",
       "                  resources - land use  \n",
       "normalized model             18.468141  "
      ]
     },
     "execution_count": 76,
     "metadata": {},
     "output_type": "execute_result"
    }
   ],
   "source": [
    "# Contribution of impact of aluminium\n",
    "multiLCAAlgebric(\n",
    "    normalized_model, # The model \n",
    "    impacts, # Impacts\n",
    "    \n",
    "    # List of sub activites to consider\n",
    "    extract_activities = [alu, alu2],\n",
    "    \n",
    "    # Parameters of the model\n",
    "    a=1, b=2, \n",
    "    elec_switch_param=\"us\",\n",
    "    share_recycled_aluminium=0.4)"
   ]
  },
  {
   "cell_type": "markdown",
   "metadata": {},
   "source": [
    "## Fast computation of many parameter values"
   ]
  },
  {
   "cell_type": "code",
   "execution_count": 55,
   "metadata": {
    "ExecuteTime": {
     "end_time": "2020-06-29T13:17:09.876425Z",
     "start_time": "2020-06-29T13:17:08.478915Z"
    }
   },
   "outputs": [
    {
     "data": {
      "text/html": [
       "<div>\n",
       "<style scoped>\n",
       "    .dataframe tbody tr th:only-of-type {\n",
       "        vertical-align: middle;\n",
       "    }\n",
       "\n",
       "    .dataframe tbody tr th {\n",
       "        vertical-align: top;\n",
       "    }\n",
       "\n",
       "    .dataframe thead th {\n",
       "        text-align: right;\n",
       "    }\n",
       "</style>\n",
       "<table border=\"1\" class=\"dataframe\">\n",
       "  <thead>\n",
       "    <tr style=\"text-align: right;\">\n",
       "      <th></th>\n",
       "      <th>Resource usage</th>\n",
       "      <th>Climate change</th>\n",
       "      <th>ecosystem quality - freshwater and terrestrial acidification</th>\n",
       "      <th>ecosystem quality - freshwater ecotoxicity</th>\n",
       "      <th>ecosystem quality - freshwater eutrophication</th>\n",
       "      <th>ecosystem quality - ionising radiation</th>\n",
       "      <th>ecosystem quality - marine eutrophication</th>\n",
       "      <th>ecosystem quality - terrestrial eutrophication</th>\n",
       "      <th>human health - carcinogenic effects</th>\n",
       "      <th>human health - ionising radiation</th>\n",
       "      <th>human health - non-carcinogenic effects</th>\n",
       "      <th>human health - ozone layer depletion</th>\n",
       "      <th>human health - photochemical ozone creation</th>\n",
       "      <th>human health - respiratory effects, inorganics</th>\n",
       "      <th>resources - land use</th>\n",
       "    </tr>\n",
       "  </thead>\n",
       "  <tbody>\n",
       "    <tr>\n",
       "      <th>0</th>\n",
       "      <td>0.005511</td>\n",
       "      <td>6.999776</td>\n",
       "      <td>0.039485</td>\n",
       "      <td>5.628570</td>\n",
       "      <td>0.000565</td>\n",
       "      <td>0.000003</td>\n",
       "      <td>0.005364</td>\n",
       "      <td>0.069420</td>\n",
       "      <td>3.499349e-07</td>\n",
       "      <td>0.341596</td>\n",
       "      <td>0.000001</td>\n",
       "      <td>3.922766e-07</td>\n",
       "      <td>0.021970</td>\n",
       "      <td>0.014016</td>\n",
       "      <td>3.716098e+02</td>\n",
       "    </tr>\n",
       "    <tr>\n",
       "      <th>1</th>\n",
       "      <td>0.009536</td>\n",
       "      <td>9.292329</td>\n",
       "      <td>0.053724</td>\n",
       "      <td>7.984734</td>\n",
       "      <td>0.000706</td>\n",
       "      <td>0.000003</td>\n",
       "      <td>0.007275</td>\n",
       "      <td>0.091155</td>\n",
       "      <td>4.683870e-07</td>\n",
       "      <td>0.399208</td>\n",
       "      <td>0.000002</td>\n",
       "      <td>4.866262e-07</td>\n",
       "      <td>0.028563</td>\n",
       "      <td>0.017091</td>\n",
       "      <td>3.956277e+02</td>\n",
       "    </tr>\n",
       "    <tr>\n",
       "      <th>2</th>\n",
       "      <td>0.013561</td>\n",
       "      <td>11.584882</td>\n",
       "      <td>0.067962</td>\n",
       "      <td>10.340897</td>\n",
       "      <td>0.000847</td>\n",
       "      <td>0.000004</td>\n",
       "      <td>0.009186</td>\n",
       "      <td>0.112891</td>\n",
       "      <td>5.868390e-07</td>\n",
       "      <td>0.456819</td>\n",
       "      <td>0.000003</td>\n",
       "      <td>5.809757e-07</td>\n",
       "      <td>0.035155</td>\n",
       "      <td>0.020167</td>\n",
       "      <td>4.196455e+02</td>\n",
       "    </tr>\n",
       "    <tr>\n",
       "      <th>3</th>\n",
       "      <td>0.017586</td>\n",
       "      <td>13.877435</td>\n",
       "      <td>0.082200</td>\n",
       "      <td>12.697060</td>\n",
       "      <td>0.000988</td>\n",
       "      <td>0.000004</td>\n",
       "      <td>0.011096</td>\n",
       "      <td>0.134626</td>\n",
       "      <td>7.052910e-07</td>\n",
       "      <td>0.514431</td>\n",
       "      <td>0.000004</td>\n",
       "      <td>6.753253e-07</td>\n",
       "      <td>0.041748</td>\n",
       "      <td>0.023242</td>\n",
       "      <td>4.436634e+02</td>\n",
       "    </tr>\n",
       "    <tr>\n",
       "      <th>4</th>\n",
       "      <td>0.021612</td>\n",
       "      <td>16.169988</td>\n",
       "      <td>0.096439</td>\n",
       "      <td>15.053223</td>\n",
       "      <td>0.001129</td>\n",
       "      <td>0.000005</td>\n",
       "      <td>0.013007</td>\n",
       "      <td>0.156362</td>\n",
       "      <td>8.237431e-07</td>\n",
       "      <td>0.572043</td>\n",
       "      <td>0.000005</td>\n",
       "      <td>7.696748e-07</td>\n",
       "      <td>0.048340</td>\n",
       "      <td>0.026318</td>\n",
       "      <td>4.676812e+02</td>\n",
       "    </tr>\n",
       "    <tr>\n",
       "      <th>...</th>\n",
       "      <td>...</td>\n",
       "      <td>...</td>\n",
       "      <td>...</td>\n",
       "      <td>...</td>\n",
       "      <td>...</td>\n",
       "      <td>...</td>\n",
       "      <td>...</td>\n",
       "      <td>...</td>\n",
       "      <td>...</td>\n",
       "      <td>...</td>\n",
       "      <td>...</td>\n",
       "      <td>...</td>\n",
       "      <td>...</td>\n",
       "      <td>...</td>\n",
       "      <td>...</td>\n",
       "    </tr>\n",
       "    <tr>\n",
       "      <th>99994</th>\n",
       "      <td>402.507202</td>\n",
       "      <td>229248.525310</td>\n",
       "      <td>1423.796676</td>\n",
       "      <td>235607.816832</td>\n",
       "      <td>14.083766</td>\n",
       "      <td>0.048157</td>\n",
       "      <td>191.055409</td>\n",
       "      <td>2173.484699</td>\n",
       "      <td>1.184484e-02</td>\n",
       "      <td>5761.164185</td>\n",
       "      <td>0.086789</td>\n",
       "      <td>9.434782e-03</td>\n",
       "      <td>659.233962</td>\n",
       "      <td>307.530314</td>\n",
       "      <td>2.402012e+06</td>\n",
       "    </tr>\n",
       "    <tr>\n",
       "      <th>99995</th>\n",
       "      <td>402.511228</td>\n",
       "      <td>229250.817863</td>\n",
       "      <td>1423.810914</td>\n",
       "      <td>235610.172995</td>\n",
       "      <td>14.083907</td>\n",
       "      <td>0.048157</td>\n",
       "      <td>191.057320</td>\n",
       "      <td>2173.506435</td>\n",
       "      <td>1.184496e-02</td>\n",
       "      <td>5761.221796</td>\n",
       "      <td>0.086790</td>\n",
       "      <td>9.434876e-03</td>\n",
       "      <td>659.240554</td>\n",
       "      <td>307.533390</td>\n",
       "      <td>2.402036e+06</td>\n",
       "    </tr>\n",
       "    <tr>\n",
       "      <th>99996</th>\n",
       "      <td>402.515253</td>\n",
       "      <td>229253.110416</td>\n",
       "      <td>1423.825153</td>\n",
       "      <td>235612.529159</td>\n",
       "      <td>14.084047</td>\n",
       "      <td>0.048158</td>\n",
       "      <td>191.059230</td>\n",
       "      <td>2173.528170</td>\n",
       "      <td>1.184508e-02</td>\n",
       "      <td>5761.279408</td>\n",
       "      <td>0.086791</td>\n",
       "      <td>9.434970e-03</td>\n",
       "      <td>659.247147</td>\n",
       "      <td>307.536465</td>\n",
       "      <td>2.402060e+06</td>\n",
       "    </tr>\n",
       "    <tr>\n",
       "      <th>99997</th>\n",
       "      <td>402.519278</td>\n",
       "      <td>229255.402968</td>\n",
       "      <td>1423.839391</td>\n",
       "      <td>235614.885322</td>\n",
       "      <td>14.084188</td>\n",
       "      <td>0.048158</td>\n",
       "      <td>191.061141</td>\n",
       "      <td>2173.549906</td>\n",
       "      <td>1.184520e-02</td>\n",
       "      <td>5761.337020</td>\n",
       "      <td>0.086792</td>\n",
       "      <td>9.435065e-03</td>\n",
       "      <td>659.253739</td>\n",
       "      <td>307.539540</td>\n",
       "      <td>2.402085e+06</td>\n",
       "    </tr>\n",
       "    <tr>\n",
       "      <th>99998</th>\n",
       "      <td>402.523303</td>\n",
       "      <td>229257.695521</td>\n",
       "      <td>1423.853629</td>\n",
       "      <td>235617.241485</td>\n",
       "      <td>14.084329</td>\n",
       "      <td>0.048159</td>\n",
       "      <td>191.063052</td>\n",
       "      <td>2173.571641</td>\n",
       "      <td>1.184532e-02</td>\n",
       "      <td>5761.394632</td>\n",
       "      <td>0.086793</td>\n",
       "      <td>9.435159e-03</td>\n",
       "      <td>659.260332</td>\n",
       "      <td>307.542616</td>\n",
       "      <td>2.402109e+06</td>\n",
       "    </tr>\n",
       "  </tbody>\n",
       "</table>\n",
       "<p>99999 rows × 15 columns</p>\n",
       "</div>"
      ],
      "text/plain": [
       "       Resource usage  Climate change  \\\n",
       "0            0.005511        6.999776   \n",
       "1            0.009536        9.292329   \n",
       "2            0.013561       11.584882   \n",
       "3            0.017586       13.877435   \n",
       "4            0.021612       16.169988   \n",
       "...               ...             ...   \n",
       "99994      402.507202   229248.525310   \n",
       "99995      402.511228   229250.817863   \n",
       "99996      402.515253   229253.110416   \n",
       "99997      402.519278   229255.402968   \n",
       "99998      402.523303   229257.695521   \n",
       "\n",
       "       ecosystem quality - freshwater and terrestrial acidification  \\\n",
       "0                                               0.039485              \n",
       "1                                               0.053724              \n",
       "2                                               0.067962              \n",
       "3                                               0.082200              \n",
       "4                                               0.096439              \n",
       "...                                                  ...              \n",
       "99994                                        1423.796676              \n",
       "99995                                        1423.810914              \n",
       "99996                                        1423.825153              \n",
       "99997                                        1423.839391              \n",
       "99998                                        1423.853629              \n",
       "\n",
       "       ecosystem quality - freshwater ecotoxicity  \\\n",
       "0                                        5.628570   \n",
       "1                                        7.984734   \n",
       "2                                       10.340897   \n",
       "3                                       12.697060   \n",
       "4                                       15.053223   \n",
       "...                                           ...   \n",
       "99994                               235607.816832   \n",
       "99995                               235610.172995   \n",
       "99996                               235612.529159   \n",
       "99997                               235614.885322   \n",
       "99998                               235617.241485   \n",
       "\n",
       "       ecosystem quality - freshwater eutrophication  \\\n",
       "0                                           0.000565   \n",
       "1                                           0.000706   \n",
       "2                                           0.000847   \n",
       "3                                           0.000988   \n",
       "4                                           0.001129   \n",
       "...                                              ...   \n",
       "99994                                      14.083766   \n",
       "99995                                      14.083907   \n",
       "99996                                      14.084047   \n",
       "99997                                      14.084188   \n",
       "99998                                      14.084329   \n",
       "\n",
       "       ecosystem quality - ionising radiation  \\\n",
       "0                                    0.000003   \n",
       "1                                    0.000003   \n",
       "2                                    0.000004   \n",
       "3                                    0.000004   \n",
       "4                                    0.000005   \n",
       "...                                       ...   \n",
       "99994                                0.048157   \n",
       "99995                                0.048157   \n",
       "99996                                0.048158   \n",
       "99997                                0.048158   \n",
       "99998                                0.048159   \n",
       "\n",
       "       ecosystem quality - marine eutrophication  \\\n",
       "0                                       0.005364   \n",
       "1                                       0.007275   \n",
       "2                                       0.009186   \n",
       "3                                       0.011096   \n",
       "4                                       0.013007   \n",
       "...                                          ...   \n",
       "99994                                 191.055409   \n",
       "99995                                 191.057320   \n",
       "99996                                 191.059230   \n",
       "99997                                 191.061141   \n",
       "99998                                 191.063052   \n",
       "\n",
       "       ecosystem quality - terrestrial eutrophication  \\\n",
       "0                                            0.069420   \n",
       "1                                            0.091155   \n",
       "2                                            0.112891   \n",
       "3                                            0.134626   \n",
       "4                                            0.156362   \n",
       "...                                               ...   \n",
       "99994                                     2173.484699   \n",
       "99995                                     2173.506435   \n",
       "99996                                     2173.528170   \n",
       "99997                                     2173.549906   \n",
       "99998                                     2173.571641   \n",
       "\n",
       "       human health - carcinogenic effects  human health - ionising radiation  \\\n",
       "0                             3.499349e-07                           0.341596   \n",
       "1                             4.683870e-07                           0.399208   \n",
       "2                             5.868390e-07                           0.456819   \n",
       "3                             7.052910e-07                           0.514431   \n",
       "4                             8.237431e-07                           0.572043   \n",
       "...                                    ...                                ...   \n",
       "99994                         1.184484e-02                        5761.164185   \n",
       "99995                         1.184496e-02                        5761.221796   \n",
       "99996                         1.184508e-02                        5761.279408   \n",
       "99997                         1.184520e-02                        5761.337020   \n",
       "99998                         1.184532e-02                        5761.394632   \n",
       "\n",
       "       human health - non-carcinogenic effects  \\\n",
       "0                                     0.000001   \n",
       "1                                     0.000002   \n",
       "2                                     0.000003   \n",
       "3                                     0.000004   \n",
       "4                                     0.000005   \n",
       "...                                        ...   \n",
       "99994                                 0.086789   \n",
       "99995                                 0.086790   \n",
       "99996                                 0.086791   \n",
       "99997                                 0.086792   \n",
       "99998                                 0.086793   \n",
       "\n",
       "       human health - ozone layer depletion  \\\n",
       "0                              3.922766e-07   \n",
       "1                              4.866262e-07   \n",
       "2                              5.809757e-07   \n",
       "3                              6.753253e-07   \n",
       "4                              7.696748e-07   \n",
       "...                                     ...   \n",
       "99994                          9.434782e-03   \n",
       "99995                          9.434876e-03   \n",
       "99996                          9.434970e-03   \n",
       "99997                          9.435065e-03   \n",
       "99998                          9.435159e-03   \n",
       "\n",
       "       human health - photochemical ozone creation  \\\n",
       "0                                         0.021970   \n",
       "1                                         0.028563   \n",
       "2                                         0.035155   \n",
       "3                                         0.041748   \n",
       "4                                         0.048340   \n",
       "...                                            ...   \n",
       "99994                                   659.233962   \n",
       "99995                                   659.240554   \n",
       "99996                                   659.247147   \n",
       "99997                                   659.253739   \n",
       "99998                                   659.260332   \n",
       "\n",
       "       human health - respiratory effects, inorganics  resources - land use  \n",
       "0                                            0.014016          3.716098e+02  \n",
       "1                                            0.017091          3.956277e+02  \n",
       "2                                            0.020167          4.196455e+02  \n",
       "3                                            0.023242          4.436634e+02  \n",
       "4                                            0.026318          4.676812e+02  \n",
       "...                                               ...                   ...  \n",
       "99994                                      307.530314          2.402012e+06  \n",
       "99995                                      307.533390          2.402036e+06  \n",
       "99996                                      307.536465          2.402060e+06  \n",
       "99997                                      307.539540          2.402085e+06  \n",
       "99998                                      307.542616          2.402109e+06  \n",
       "\n",
       "[99999 rows x 15 columns]"
      ]
     },
     "execution_count": 55,
     "metadata": {},
     "output_type": "execute_result"
    }
   ],
   "source": [
    "# Fast computation for millions of separate samples\n",
    "multiLCAAlgebric(\n",
    "    model, # The model \n",
    "    impacts, # Impacts\n",
    "    \n",
    "    # Parameters of the model\n",
    "    a=list(range(1, 100000)), # All lists should have the same size\n",
    "    share_recycled_aluminium=1, # Those parameters are fixed\n",
    "    elec_switch_param=\"eu\")"
   ]
  },
  {
   "cell_type": "markdown",
   "metadata": {},
   "source": [
    " # Statistic functions\n",
    " \n",
    " ## One at a time \n",
    " \n",
    " We provide several functions for computing **statistics** for **local variations** of parameters (one at a time).\n",
    " \n",
    " ### oat_matrix(model, impacts)\n",
    " \n",
    " Shows a **matrix of impacts x parameters** colored according to the variation of the impact in the bounds of the parameter.\n",
    "\n",
    " \n"
   ]
  },
  {
   "cell_type": "code",
   "execution_count": 56,
   "metadata": {
    "ExecuteTime": {
     "end_time": "2020-06-29T13:17:14.559211Z",
     "start_time": "2020-06-29T13:17:13.729481Z"
    }
   },
   "outputs": [
    {
     "data": {
      "image/png": "[encoded data removed]",
      "text/plain": [
       "<Figure size 1224x1224 with 2 Axes>"
      ]
     },
     "metadata": {
      "needs_background": "light"
     },
     "output_type": "display_data"
    }
   ],
   "source": [
    "oat_matrix(model, impacts)"
   ]
  },
  {
   "cell_type": "markdown",
   "metadata": {},
   "source": [
    "### oat_dashboard_matrix\n",
    "\n",
    "This functions draws a dashboard showing :\n",
    "* A dropdown list, for choosing a parameter\n",
    "* Several graphs of evolution of impacts for this parameter\n",
    "* Full table of data\n",
    "* A graph of \"bars\" representing the variation of each impact for this parameter (similar to the information given in oat_matrix) "
   ]
  },
  {
   "cell_type": "code",
   "execution_count": 57,
   "metadata": {
    "ExecuteTime": {
     "end_time": "2020-06-29T13:17:22.811495Z",
     "start_time": "2020-06-29T13:17:19.282779Z"
    }
   },
   "outputs": [
    {
     "data": {
      "application/vnd.jupyter.widget-view+json": {
       "model_id": "157e4e4f60914fedb56b78ccf87a8e1d",
       "version_major": 2,
       "version_minor": 0
      },
      "text/plain": [
       "interactive(children=(Dropdown(description='param', options=('share_recycled_aluminium', 'a', 'elec_switch_par…"
      ]
     },
     "metadata": {},
     "output_type": "display_data"
    }
   ],
   "source": [
    "oat_dashboard_interact(model, impacts)"
   ]
  },
  {
   "cell_type": "markdown",
   "metadata": {},
   "source": [
    "## Monte-carlo methods & Sobol indices\n",
    "\n",
    "Here we leverage fast computation of monte-carlo approches. \n",
    "\n",
    "We compute **global sensivity analysis** (GSA).\n",
    "Not only local ones.\n",
    "\n",
    "\n",
    "### Sobol Matrix \n",
    "\n",
    "Similar to OAT matrix, we compute Sobol indices. they represent the ratio between the variance due to a given parameter and the total variance.\n",
    "\n",
    "for easier comparison, we translate those relative sobol indices into \"deviation / mean\" importance :\n",
    "\n",
    "$$RelativeDeviation = \\frac{\\sqrt{sobol(param) \\times totalVariance(impact))}}{mean(impact)}$$\n",
    "\n",
    "\n"
   ]
  },
  {
   "cell_type": "code",
   "execution_count": 58,
   "metadata": {
    "ExecuteTime": {
     "end_time": "2020-06-29T13:17:41.913867Z",
     "start_time": "2020-06-29T13:17:40.225803Z"
    }
   },
   "outputs": [
    {
     "name": "stdout",
     "output_type": "stream",
     "text": [
      "Generating samples ...\n",
      "Transforming samples ...\n",
      "Processing Sobol indices ...\n",
      "Processing sobol for ('ILCD 1.0.8 2016 midpoint no LT (obsolete)', 'resources', 'mineral, fossils and renewables')\n",
      "Processing sobol for ('ILCD 1.0.8 2016 midpoint no LT (obsolete)', 'climate change', 'GWP 100a')\n",
      "Processing sobol for ('ILCD 1.0.8 2016 midpoint no LT (obsolete)', 'ecosystem quality', 'freshwater and terrestrial acidification')\n",
      "Processing sobol for ('ILCD 1.0.8 2016 midpoint no LT (obsolete)', 'ecosystem quality', 'freshwater ecotoxicity')\n",
      "Processing sobol for ('ILCD 1.0.8 2016 midpoint no LT (obsolete)', 'ecosystem quality', 'freshwater eutrophication')\n",
      "Processing sobol for ('ILCD 1.0.8 2016 midpoint no LT (obsolete)', 'ecosystem quality', 'ionising radiation')\n",
      "Processing sobol for ('ILCD 1.0.8 2016 midpoint no LT (obsolete)', 'ecosystem quality', 'marine eutrophication')\n",
      "Processing sobol for ('ILCD 1.0.8 2016 midpoint no LT (obsolete)', 'ecosystem quality', 'terrestrial eutrophication')\n",
      "Processing sobol for ('ILCD 1.0.8 2016 midpoint no LT (obsolete)', 'human health', 'carcinogenic effects')\n",
      "Processing sobol for ('ILCD 1.0.8 2016 midpoint no LT (obsolete)', 'human health', 'ionising radiation')\n",
      "Processing sobol for ('ILCD 1.0.8 2016 midpoint no LT (obsolete)', 'human health', 'non-carcinogenic effects')\n",
      "Processing sobol for ('ILCD 1.0.8 2016 midpoint no LT (obsolete)', 'human health', 'ozone layer depletion')\n",
      "Processing sobol for ('ILCD 1.0.8 2016 midpoint no LT (obsolete)', 'human health', 'photochemical ozone creation')\n",
      "Processing sobol for ('ILCD 1.0.8 2016 midpoint no LT (obsolete)', 'human health', 'respiratory effects, inorganics')\n",
      "Processing sobol for ('ILCD 1.0.8 2016 midpoint no LT (obsolete)', 'resources', 'land use')\n"
     ]
    },
    {
     "data": {
      "application/vnd.jupyter.widget-view+json": {
       "model_id": "889238f9be064bf8a0413c74f6fe9347",
       "version_major": 2,
       "version_minor": 0
      },
      "text/plain": [
       "interactive(children=(Dropdown(description='indice', options=('s1', 'st'), value='s1'), Dropdown(description='…"
      ]
     },
     "metadata": {},
     "output_type": "display_data"
    }
   ],
   "source": [
    "# Show sobol indices \n",
    "incer_stochastic_matrix(model, impacts)"
   ]
  },
  {
   "cell_type": "markdown",
   "metadata": {},
   "source": [
    "### Violin graphs\n",
    "\n",
    "We provide a dashboard showing **violin graphs** : the exact probabilistic distribution for each impact. Together with medians of the impacts."
   ]
  },
  {
   "cell_type": "code",
   "execution_count": 59,
   "metadata": {
    "ExecuteTime": {
     "end_time": "2020-06-29T13:17:50.892854Z",
     "start_time": "2020-06-29T13:17:46.399109Z"
    }
   },
   "outputs": [
    {
     "name": "stdout",
     "output_type": "stream",
     "text": [
      "Generating samples ...\n",
      "Transforming samples ...\n"
     ]
    },
    {
     "data": {
      "image/png": "[encoded data removed]",
      "text/plain": [
       "<Figure size 1080x1080 with 15 Axes>"
      ]
     },
     "metadata": {
      "needs_background": "light"
     },
     "output_type": "display_data"
    }
   ],
   "source": [
    "incer_stochastic_violin(model, impacts)"
   ]
  },
  {
   "cell_type": "markdown",
   "metadata": {},
   "source": [
    "### Full dashboard\n",
    "\n",
    "A dashboard groups all this information in a single interface with tabs.\n",
    "\n",
    "It also shows total variation of impacts. This last graph could be improved by showing stacked colored bars with the contribution of each parameter to this variation, according to Sobol indices. "
   ]
  },
  {
   "cell_type": "code",
   "execution_count": 24,
   "metadata": {
    "ExecuteTime": {
     "end_time": "2020-06-29T13:07:18.182530Z",
     "start_time": "2020-06-29T13:07:08.153819Z"
    }
   },
   "outputs": [
    {
     "name": "stdout",
     "output_type": "stream",
     "text": [
      "Generating samples ...\n",
      "Transforming samples ...\n",
      "Processing Sobol indices ...\n",
      "Processing sobol for ('ILCD 1.0.8 2016 midpoint no LT (obsolete)', 'resources', 'mineral, fossils and renewables')\n",
      "Processing sobol for ('ILCD 1.0.8 2016 midpoint no LT (obsolete)', 'climate change', 'GWP 100a')\n",
      "Processing sobol for ('ILCD 1.0.8 2016 midpoint no LT (obsolete)', 'ecosystem quality', 'freshwater and terrestrial acidification')\n",
      "Processing sobol for ('ILCD 1.0.8 2016 midpoint no LT (obsolete)', 'ecosystem quality', 'freshwater ecotoxicity')\n",
      "Processing sobol for ('ILCD 1.0.8 2016 midpoint no LT (obsolete)', 'ecosystem quality', 'freshwater eutrophication')\n",
      "Processing sobol for ('ILCD 1.0.8 2016 midpoint no LT (obsolete)', 'ecosystem quality', 'ionising radiation')\n",
      "Processing sobol for ('ILCD 1.0.8 2016 midpoint no LT (obsolete)', 'ecosystem quality', 'marine eutrophication')\n",
      "Processing sobol for ('ILCD 1.0.8 2016 midpoint no LT (obsolete)', 'ecosystem quality', 'terrestrial eutrophication')\n",
      "Processing sobol for ('ILCD 1.0.8 2016 midpoint no LT (obsolete)', 'human health', 'carcinogenic effects')\n",
      "Processing sobol for ('ILCD 1.0.8 2016 midpoint no LT (obsolete)', 'human health', 'ionising radiation')\n",
      "Processing sobol for ('ILCD 1.0.8 2016 midpoint no LT (obsolete)', 'human health', 'non-carcinogenic effects')\n",
      "Processing sobol for ('ILCD 1.0.8 2016 midpoint no LT (obsolete)', 'human health', 'ozone layer depletion')\n",
      "Processing sobol for ('ILCD 1.0.8 2016 midpoint no LT (obsolete)', 'human health', 'photochemical ozone creation')\n",
      "Processing sobol for ('ILCD 1.0.8 2016 midpoint no LT (obsolete)', 'human health', 'respiratory effects, inorganics')\n",
      "Processing sobol for ('ILCD 1.0.8 2016 midpoint no LT (obsolete)', 'resources', 'land use')\n"
     ]
    },
    {
     "data": {
      "application/vnd.jupyter.widget-view+json": {
       "model_id": "6954848c44494a8e8de9bc7e491115b5",
       "version_major": 2,
       "version_minor": 0
      },
      "text/plain": [
       "Tab(children=(Output(), Output(), Output(), Output()), _titles={'0': 'Violin graphs', '1': 'Impact variations'…"
      ]
     },
     "metadata": {},
     "output_type": "display_data"
    }
   ],
   "source": [
    "incer_stochastic_dashboard(model, impacts)"
   ]
  },
  {
   "cell_type": "markdown",
   "metadata": {
    "ExecuteTime": {
     "end_time": "2020-05-25T10:16:13.619326Z",
     "start_time": "2020-05-25T10:16:13.594202Z"
    }
   },
   "source": [
    "# Producing simplified models \n",
    "\n",
    "One of te outcome of the statisticall analysis above would be to identify main input parameters and produce simplidied models, fixing the minor ones.\n",
    "\n",
    "We provide several functions for doing this.\n",
    "\n",
    "## Explore initial algrebraic model"
   ]
  },
  {
   "cell_type": "code",
   "execution_count": 60,
   "metadata": {
    "ExecuteTime": {
     "end_time": "2020-06-29T13:17:56.457116Z",
     "start_time": "2020-06-29T13:17:56.064100Z"
    }
   },
   "outputs": [
    {
     "data": {
      "image/png": "[encoded data removed]",
      "text/latex": [
       "$\\displaystyle \\frac{0.4 a aluminium_{alloy production AlMg3} + 3 share_{recycled aluminium} \\left(2.8 Heat_{waste} + 6.0 Occupation_{industrial area} + 12 aluminium_{scrap new Recycled Content cut off} + 1.272 elec_{switch param eu} market_{group for electricity medium voltage1} + 1.59 elec_{switch param us} market_{group for electricity medium voltage} + market_{for aluminium cast alloy} \\left(0.965 - 0.965 share_{recycled aluminium}\\right) + 0.00406 market_{for cast iron} + 0.00102 market_{for copper} + 0.0305 market_{for magnesium} + 0.00508 market_{for manganese} + 0.00406 market_{for silicon \\mathcal{metallurgi} grade} + 0.00203 market_{for zinc}\\right) + \\left(0.7 Heat_{waste} + 1.5 Occupation_{industrial area}\\right) \\left(a + 3.5\\right)}{a + 5}$"
      ],
      "text/plain": [
       "0.4⋅a⋅aluminium_alloy_production_AlMg3 + 3⋅share_recycled_aluminium⋅(2.8⋅Heat_\n",
       "──────────────────────────────────────────────────────────────────────────────\n",
       "                                                                              \n",
       "\n",
       "waste + 6.0⋅Occupation_industrial_area + 12⋅aluminium_scrap_new_Recycled_Conte\n",
       "──────────────────────────────────────────────────────────────────────────────\n",
       "                                                                              \n",
       "\n",
       "nt_cut_off + 1.272⋅elec_switch_param_eu⋅market_group_for_electricity_medium_vo\n",
       "──────────────────────────────────────────────────────────────────────────────\n",
       "                                                                              \n",
       "\n",
       "ltage1 + 1.59⋅elec_switch_param_us⋅market_group_for_electricity_medium_voltage\n",
       "──────────────────────────────────────────────────────────────────────────────\n",
       "                                                                              \n",
       "\n",
       " + market_for_aluminium_cast_alloy⋅(0.965 - 0.965⋅share_recycled_aluminium) + \n",
       "──────────────────────────────────────────────────────────────────────────────\n",
       "        a + 5                                                                 \n",
       "\n",
       "0.00406⋅market_for_cast_iron + 0.00102⋅market_for_copper + 0.0305⋅market_for_m\n",
       "──────────────────────────────────────────────────────────────────────────────\n",
       "                                                                              \n",
       "\n",
       "agnesium + 0.00508⋅market_for_manganese + 0.00406⋅market_for_silicon_metallurg\n",
       "──────────────────────────────────────────────────────────────────────────────\n",
       "                                                                              \n",
       "\n",
       "ical_grade + 0.00203⋅market_for_zinc) + (0.7⋅Heat_waste + 1.5⋅Occupation_indus\n",
       "──────────────────────────────────────────────────────────────────────────────\n",
       "                                                                              \n",
       "\n",
       "trial_area)⋅(a + 3.5)\n",
       "─────────────────────\n",
       "                     "
      ]
     },
     "execution_count": 60,
     "metadata": {},
     "output_type": "execute_result"
    }
   ],
   "source": [
    "# First, let's look at the full expression defining our model\n",
    "expr, _ = actToExpression(normalized_model)\n",
    "expr"
   ]
  },
  {
   "cell_type": "code",
   "execution_count": 61,
   "metadata": {
    "ExecuteTime": {
     "end_time": "2020-06-29T13:18:09.284572Z",
     "start_time": "2020-06-29T13:18:08.763646Z"
    }
   },
   "outputs": [
    {
     "data": {
      "image/png": "[encoded data removed]",
      "text/latex": [
       "$\\displaystyle \\frac{0.00402525843172139 a + 3 share_{recycled aluminium} \\left(4.60785809611275 \\cdot 10^{-6} elec_{switch param eu} + 5.01761820204761 \\cdot 10^{-6} elec_{switch param us} - 0.00956905045770994 share_{recycled aluminium} + 0.0100595761919206\\right)}{a + 5}$"
      ],
      "text/plain": [
       "0.00402525843172139⋅a + 3⋅share_recycled_aluminium⋅(4.60785809611275e-6⋅elec_s\n",
       "──────────────────────────────────────────────────────────────────────────────\n",
       "                                                                              \n",
       "\n",
       "witch_param_eu + 5.01761820204761e-6⋅elec_switch_param_us - 0.0095690504577099\n",
       "──────────────────────────────────────────────────────────────────────────────\n",
       "                     a + 5                                                    \n",
       "\n",
       "4⋅share_recycled_aluminium + 0.0100595761919206)\n",
       "────────────────────────────────────────────────\n",
       "                                                "
      ]
     },
     "execution_count": 61,
     "metadata": {},
     "output_type": "execute_result"
    }
   ],
   "source": [
    "# For each impact, this expression is developped by replacing background activities with their impact value\n",
    "# Here is an internal method used by #LCAAlgebraic \n",
    "lambdas = preMultiLCAAlgebric(normalized_model, impacts)\n",
    "\n",
    "# \"lamddas\" wrap the expression together with list of required parameters and a \n",
    "# compiled (lambidfy) version of it, ready for fast compuation \n",
    "\n",
    "# Here is for example the algebraic expression for the first impact\n",
    "lambdas[0].expr"
   ]
  },
  {
   "cell_type": "markdown",
   "metadata": {
    "ExecuteTime": {
     "end_time": "2020-05-25T11:34:41.614854Z",
     "start_time": "2020-05-25T11:34:41.593135Z"
    }
   },
   "source": [
    "## Compute simplified models\n",
    "\n",
    "We provide some method to automatically select a subset of parameters, based on the **sobol indices**, and then compute simplified models for it."
   ]
  },
  {
   "cell_type": "code",
   "execution_count": 27,
   "metadata": {
    "ExecuteTime": {
     "end_time": "2020-06-29T13:07:19.554437Z",
     "start_time": "2020-06-29T13:07:19.516220Z"
    }
   },
   "outputs": [],
   "source": [
    "# We provide some method to automatically select a subset of parameters, \n",
    "# based on the sobol indices, and then copute simplified models for it"
   ]
  },
  {
   "cell_type": "code",
   "execution_count": 70,
   "metadata": {
    "ExecuteTime": {
     "end_time": "2020-06-29T13:47:09.159352Z",
     "start_time": "2020-06-29T13:46:18.733635Z"
    },
    "scrolled": false
   },
   "outputs": [
    {
     "name": "stdout",
     "output_type": "stream",
     "text": [
      "Generating samples ...\n",
      "Transforming samples ...\n",
      "Processing sobol for ('ILCD 1.0.8 2016 midpoint no LT (obsolete)', 'resources', 'mineral, fossils and renewables')\n",
      "Processing sobol for ('ILCD 1.0.8 2016 midpoint no LT (obsolete)', 'climate change', 'GWP 100a')\n",
      "Processing sobol for ('ILCD 1.0.8 2016 midpoint no LT (obsolete)', 'ecosystem quality', 'freshwater and terrestrial acidification')\n",
      "Processing sobol for ('ILCD 1.0.8 2016 midpoint no LT (obsolete)', 'ecosystem quality', 'freshwater ecotoxicity')\n",
      "Processing sobol for ('ILCD 1.0.8 2016 midpoint no LT (obsolete)', 'ecosystem quality', 'freshwater eutrophication')\n",
      "Processing sobol for ('ILCD 1.0.8 2016 midpoint no LT (obsolete)', 'ecosystem quality', 'ionising radiation')\n",
      "Processing sobol for ('ILCD 1.0.8 2016 midpoint no LT (obsolete)', 'ecosystem quality', 'marine eutrophication')\n",
      "Processing sobol for ('ILCD 1.0.8 2016 midpoint no LT (obsolete)', 'ecosystem quality', 'terrestrial eutrophication')\n",
      "Processing sobol for ('ILCD 1.0.8 2016 midpoint no LT (obsolete)', 'human health', 'carcinogenic effects')\n",
      "Processing sobol for ('ILCD 1.0.8 2016 midpoint no LT (obsolete)', 'human health', 'ionising radiation')\n",
      "Processing sobol for ('ILCD 1.0.8 2016 midpoint no LT (obsolete)', 'human health', 'non-carcinogenic effects')\n",
      "Processing sobol for ('ILCD 1.0.8 2016 midpoint no LT (obsolete)', 'human health', 'ozone layer depletion')\n",
      "Processing sobol for ('ILCD 1.0.8 2016 midpoint no LT (obsolete)', 'human health', 'photochemical ozone creation')\n",
      "Processing sobol for ('ILCD 1.0.8 2016 midpoint no LT (obsolete)', 'human health', 'respiratory effects, inorganics')\n",
      "Processing sobol for ('ILCD 1.0.8 2016 midpoint no LT (obsolete)', 'resources', 'land use')\n",
      "> Method :  Resource usage\n",
      "S1:  1.0004029764922717\n",
      "S2:  -0.01692740301200257\n",
      "ST:  1.0043867011450378\n",
      "Selected params :  ['share_recycled_aluminium', 'a'] explains:  1.0004029828598962\n",
      "(0.00403*a - 3*share_recycled_aluminium*(0.00957*share_recycled_aluminium - 0.0101))/(a + 5)\n",
      "> Method :  Climate change\n",
      "S1:  0.9744342225253507\n",
      "S2:  0.039179583070578616\n",
      "ST:  1.0215331863415167\n",
      "Selected params :  ['share_recycled_aluminium', 'elec_switch_param'] explains:  0.8480836348258377\n",
      "0.517*share_recycled_aluminium*(0.545*elec_switch_param_eu + 1.05*elec_switch_param_us - 4.3*share_recycled_aluminium + 5.32) + 0.319\n",
      "> Method :  ecosystem quality - freshwater and terrestrial acidification\n",
      "S1:  0.9935256974999263\n",
      "S2:  0.014768754657660817\n",
      "ST:  1.0029368578987186\n",
      "Selected params :  ['share_recycled_aluminium', 'a'] explains:  0.9904118835630494\n",
      "(0.0142*a - 3*share_recycled_aluminium*(0.0285*share_recycled_aluminium - 0.0371))/(a + 5)\n",
      "> Method :  ecosystem quality - freshwater ecotoxicity\n",
      "S1:  0.9919893291943871\n",
      "S2:  0.01140603135549514\n",
      "ST:  1.0054156556200609\n",
      "Selected params :  ['share_recycled_aluminium', 'a'] explains:  0.9623430084242794\n",
      "(2.36*a - 3*share_recycled_aluminium*(4.38*share_recycled_aluminium - 5.56))/(a + 5)\n",
      "> Method :  ecosystem quality - freshwater eutrophication\n",
      "S1:  0.9618688223505146\n",
      "S2:  0.05033180431868803\n",
      "ST:  1.0366745282208139\n",
      "Selected params :  ['share_recycled_aluminium', 'elec_switch_param'] explains:  0.9329589443598921\n",
      "0.52*share_recycled_aluminium*(6.2e-5*elec_switch_param_eu + 0.000125*elec_switch_param_us - 0.000231*share_recycled_aluminium + 0.00031) + 1.87e-5\n",
      "> Method :  ecosystem quality - ionising radiation\n",
      "S1:  0.9736764536713443\n",
      "S2:  0.032744433773562995\n",
      "ST:  1.028315368900667\n",
      "Selected params :  ['share_recycled_aluminium', 'elec_switch_param'] explains:  0.9693664900414903\n",
      "0.517*share_recycled_aluminium*(6.74e-7*elec_switch_param_eu + 9.56e-7*elec_switch_param_us - 4.24e-7*share_recycled_aluminium + 5.15e-7) + 6.64e-8\n",
      "> Method :  ecosystem quality - marine eutrophication\n",
      "S1:  0.9919766139637056\n",
      "S2:  0.017973281096503705\n",
      "ST:  1.0041059344044905\n",
      "Selected params :  ['share_recycled_aluminium', 'a'] explains:  0.9776466726515102\n",
      "(0.00191*a - 3*share_recycled_aluminium*(0.00372*share_recycled_aluminium - 0.00493))/(a + 5)\n",
      "> Method :  ecosystem quality - terrestrial eutrophication\n",
      "S1:  0.991940844205722\n",
      "S2:  0.022140734850701033\n",
      "ST:  1.00359335971827\n",
      "Selected params :  ['share_recycled_aluminium'] explains:  0.8058753518000495\n",
      "-0.521*share_recycled_aluminium*(0.0423*share_recycled_aluminium - 0.0579) + 0.00288\n",
      "> Method :  human health - carcinogenic effects\n",
      "S1:  0.9928322886363267\n",
      "S2:  0.020538286092353843\n",
      "ST:  1.0032095891919783\n",
      "Selected params :  ['share_recycled_aluminium', 'a'] explains:  0.987288509214058\n",
      "(1.18e-7*a - 3*share_recycled_aluminium*(1.75e-7*share_recycled_aluminium - 2.54e-7))/(a + 5)\n",
      "> Method :  human health - ionising radiation\n",
      "S1:  0.9697943214743554\n",
      "S2:  0.03638309809758687\n",
      "ST:  1.0321330512936613\n",
      "Selected params :  ['share_recycled_aluminium', 'elec_switch_param'] explains:  0.9674285505879201\n",
      "0.52*share_recycled_aluminium*(0.0833*elec_switch_param_eu + 0.123*elec_switch_param_us - 0.0543*share_recycled_aluminium + 0.0657) + 0.00768\n",
      "> Method :  human health - non-carcinogenic effects\n",
      "S1:  0.9990895332104638\n",
      "S2:  -0.012169078496076811\n",
      "ST:  1.0039789553013185\n",
      "Selected params :  ['share_recycled_aluminium', 'a'] explains:  0.9968967083201474\n",
      "(8.68e-7*a - 3*share_recycled_aluminium*(1.99e-6*share_recycled_aluminium - 2.2e-6))/(a + 5)\n",
      "> Method :  human health - ozone layer depletion\n",
      "S1:  0.9883289358633081\n",
      "S2:  0.02911750705794791\n",
      "ST:  1.0091040200916597\n",
      "Selected params :  ['share_recycled_aluminium'] explains:  0.8854360618135323\n",
      "-0.522*share_recycled_aluminium*(1.46e-7*share_recycled_aluminium - 2.52e-7) + 1.23e-8\n",
      "> Method :  human health - photochemical ozone creation\n",
      "S1:  0.9902911360250968\n",
      "S2:  0.0268098954213102\n",
      "ST:  1.0051763357992074\n",
      "Selected params :  ['share_recycled_aluminium'] explains:  0.8159282803039338\n",
      "-0.521*share_recycled_aluminium*(0.0116*share_recycled_aluminium - 0.0169) + 0.000862\n",
      "> Method :  human health - respiratory effects, inorganics\n",
      "S1:  0.978517384137115\n",
      "S2:  0.033884908127784975\n",
      "ST:  1.0210891064592342\n",
      "Selected params :  ['share_recycled_aluminium'] explains:  0.8093451582712098\n",
      "-0.523*share_recycled_aluminium*(0.00408*share_recycled_aluminium - 0.00822) + 0.000395\n",
      "> Method :  resources - land use\n",
      "S1:  0.996641654420644\n",
      "S2:  0.00690112078601964\n",
      "ST:  1.0066704765291115\n",
      "Selected params :  ['share_recycled_aluminium'] explains:  0.9712924861896681\n",
      "-0.517*share_recycled_aluminium*(3.72*share_recycled_aluminium - 93.8) + 16.7\n"
     ]
    }
   ],
   "source": [
    "simplified = sobol_simplify_model(\n",
    "    normalized_model, \n",
    "    impacts,\n",
    "    n=10000, # For large model, you may test other value and ensure ST and sum(S1) are close to 1.0 \n",
    "    fixed_mode = FixedParamMode.MEDIAN, # We replace minor parameters by median by default,\n",
    "    min_ratio=0.8) # Min ratio of varaibility to explain"
   ]
  },
  {
   "cell_type": "code",
   "execution_count": 69,
   "metadata": {
    "ExecuteTime": {
     "end_time": "2020-06-29T13:46:11.529001Z",
     "start_time": "2020-06-29T13:46:11.452707Z"
    }
   },
   "outputs": [
    {
     "data": {
      "image/png": "[encoded data removed]",
      "text/latex": [
       "$\\displaystyle \\frac{0.00403 a - 3 share_{recycled aluminium} \\left(0.00957 share_{recycled aluminium} - 0.0101\\right)}{a + 5}$"
      ],
      "text/plain": [
       "0.00403⋅a - 3⋅share_recycled_aluminium⋅(0.00957⋅share_recycled_aluminium - 0.0\n",
       "──────────────────────────────────────────────────────────────────────────────\n",
       "                                      a + 5                                   \n",
       "\n",
       "101)\n",
       "────\n",
       "    "
      ]
     },
     "execution_count": 69,
     "metadata": {},
     "output_type": "execute_result"
    }
   ],
   "source": [
    "# Let's look at the expression for first impact again \n",
    "# much simpler ! \n",
    "simplified[0].expr"
   ]
  },
  {
   "cell_type": "markdown",
   "metadata": {
    "ExecuteTime": {
     "end_time": "2020-05-25T11:42:33.673519Z",
     "start_time": "2020-05-25T11:42:33.649384Z"
    }
   },
   "source": [
    "## Compare simplified model with full model\n",
    "\n",
    "Finally, we can compare the distribution of those simplified model against the full model. We provide a function for graphical display of it, and compuation of de R-Square score.\n"
   ]
  },
  {
   "cell_type": "code",
   "execution_count": null,
   "metadata": {
    "ExecuteTime": {
     "end_time": "2020-06-29T13:07:59.101924Z",
     "start_time": "2020-06-29T13:06:26.155Z"
    }
   },
   "outputs": [],
   "source": [
    "compare_simplified(normalized_model, impacts, simplified)"
   ]
  }
 ],
 "metadata": {
  "jupytext": {
   "formats": "ipynb,Rmd"
  },
  "kernelspec": {
   "display_name": "Python 3",
   "language": "python",
   "name": "python3"
  },
  "language_info": {
   "codemirror_mode": {
    "name": "ipython",
    "version": 3
   },
   "file_extension": ".py",
   "mimetype": "text/x-python",
   "name": "python",
   "nbconvert_exporter": "python",
   "pygments_lexer": "ipython3",
   "version": "3.6.10"
  },
  "toc": {
   "base_numbering": 1,
   "nav_menu": {},
   "number_sections": true,
   "sideBar": true,
   "skip_h1_title": false,
   "title_cell": "Table of Contents",
   "title_sidebar": "Contents",
   "toc_cell": false,
   "toc_position": {
    "height": "calc(100% - 180px)",
    "left": "10px",
    "top": "150px",
    "width": "308px"
   },
   "toc_section_display": true,
   "toc_window_display": true
  },
  "varInspector": {
   "cols": {
    "lenName": 16,
    "lenType": 16,
    "lenVar": 40
   },
   "kernels_config": {
    "python": {
     "delete_cmd_postfix": "",
     "delete_cmd_prefix": "del ",
     "library": "var_list.py",
     "varRefreshCmd": "print(var_dic_list())"
    },
    "r": {
     "delete_cmd_postfix": ") ",
     "delete_cmd_prefix": "rm(",
     "library": "var_list.r",
     "varRefreshCmd": "cat(var_dic_list()) "
    }
   },
   "types_to_exclude": [
    "module",
    "function",
    "builtin_function_or_method",
    "instance",
    "_Feature"
   ],
   "window_display": false
  }
 },
 "nbformat": 4,
 "nbformat_minor": 2
}
