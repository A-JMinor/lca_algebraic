{
 "cells": [
  {
   "cell_type": "markdown",
   "metadata": {},
   "source": [
    "# Imports\n",
    "\n",
    "Besides external libraries, we import several function from the local file : `utils.py`"
   ]
  },
  {
   "cell_type": "code",
   "execution_count": null,
   "metadata": {},
   "outputs": [],
   "source": [
    "%load_ext autoreload\n",
    "%autoreload 2\n",
    "import pandas as pd\n",
    "import time\n",
    "import matplotlib.pyplot as plt\n",
    "import numpy as np\n",
    "import brightway2 as bw\n",
    "\n",
    "# Custom utils defined for inter-acv\n",
    "from utils import *\n",
    "from expression import *"
   ]
  },
  {
   "cell_type": "markdown",
   "metadata": {},
   "source": [
    "# Init brightway2 and databases"
   ]
  },
  {
   "cell_type": "code",
   "execution_count": null,
   "metadata": {},
   "outputs": [],
   "source": [
    "# Setup bw2\n",
    "bw.projects.set_current('B_Publication')\n",
    "bw.bw2setup()\n",
    "\n",
    "# Import Ecoinvent DB (if not already done)\n",
    "# Update the PATH to suit your installation\n",
    "importDb(ECOINVENT_DB_NAME, './ecoinvent 3.4_cutoff_ecoSpold02/datasets')\n",
    "\n",
    "# We use a separate DB for defining our model, reset it beforehand\n",
    "resetDb(ACV_DB_NAME)\n",
    "\n",
    "# Parameters are stored at project level : reset them\n",
    "resetParams()"
   ]
  },
  {
   "cell_type": "markdown",
   "metadata": {},
   "source": [
    "# Define parameters\n",
    "\n",
    "We define the parameters of the model.\n",
    "\n",
    "The numeric parametes are instances of sympy' 'Symbol' . Thus, any python arithmetic expression composed of parameters will not result into direct evaluation, but the creation of a symbolic formula that can be manipulated later."
   ]
  },
  {
   "cell_type": "code",
   "execution_count": null,
   "metadata": {},
   "outputs": [],
   "source": [
    "# Example 'float' parameter\n",
    "a = newParamDef(\n",
    "    'a', \n",
    "    ParamType.NUMBER, \n",
    "    default=0.5, \n",
    "    description=\"hello world\")\n",
    "\n",
    "b = newParamDef(\n",
    "    'b', \n",
    "    ParamType.NUMBER, \n",
    "    default=0.5, \n",
    "    description=\"foo bar\")\n",
    "\n",
    "# Example 'enum' parameter, acting like a switch between several possibilities\n",
    "# Enum parameters are not Symbol themselves\n",
    "# They are a facility to represent many parameters at once '<paramName>_<enumValue>' \n",
    "# and should be used with the 'switch' method \n",
    "elec_switch_param = newParamDef(\n",
    "    'elec_switch_param', \n",
    "    ParamType.ENUM, \n",
    "    values=[\"us\", \"eu\"], \n",
    "    default=\"us\", \n",
    "    description=\"Switch on electricty mix\")"
   ]
  },
  {
   "cell_type": "markdown",
   "metadata": {},
   "source": [
    "# Get references to background activities and products\n",
    "\n",
    "`utils` provide two functions for easy and fast search of activities in reference databases : \n",
    "* **findBioAct** : Search activity in **biosphere3** db\n",
    "* **findTechAct** : Search activity in **ecoinvent** db\n"
   ]
  },
  {
   "cell_type": "code",
   "execution_count": null,
   "metadata": {},
   "outputs": [],
   "source": [
    "# Biosphere activities\n",
    "ground_occupuation = findBioAct('Occupation, industrial area')\n",
    "heat = findBioAct('Heat, waste', categories=['air'])\n",
    "\n",
    "# Technosphere activities\n",
    "alu = findTechAct(\"aluminium alloy production\", \"RER\")\n",
    "\n",
    "# Elec \n",
    "eu_elec = findTechAct(\"market group for electricity, medium voltage\", 'ENTSO-E')\n",
    "us_elec = findTechAct(\"market group for electricity, medium voltage\", 'US')"
   ]
  },
  {
   "cell_type": "markdown",
   "metadata": {},
   "source": [
    "# Define the model\n",
    "\n",
    "The model is defined as a nested combination of reference activities and amount. \n",
    "Amounts are defined either as constant float values or algebric formulas implying the parameters defined above."
   ]
  },
  {
   "cell_type": "code",
   "execution_count": null,
   "metadata": {},
   "outputs": [],
   "source": [
    "# Create new, parametrized activity\n",
    "\n",
    "# You can create a virtual \"switch\" activity combining an enum param and several other activities \n",
    "elec_switch = switch(elec_switch_param, {\n",
    "    \"us\" : us_elec,\n",
    "    \"eu\" : eu_elec})\n",
    "\n",
    "# Create a new activity\n",
    "activity1 = newActivity(\n",
    "    name=\"act1\", unit=\"kg\", # Any extra named arg will be added as activity attribute\n",
    "    exchanges= { # We define exhanges as a dict of 'activity : amount'\n",
    "        ground_occupuation:3 + a, # Amount can be a fixed value \n",
    "        heat: b + 0.2,\n",
    "        elec_switch:4}) # Amount can be a Sympy expression (any arithmetic expression of Parameters)\n",
    "\n",
    "# The final model is just the root activity referencing the others\n",
    "model = newActivity(\"model\", \"kg\", {\n",
    "        activity1 : b * 5 + a + 1, # Reference the activity we just created\n",
    "        heat: 3,\n",
    "        alu:0.4 * a}) "
   ]
  },
  {
   "cell_type": "code",
   "execution_count": null,
   "metadata": {},
   "outputs": [],
   "source": [
    "# Print_act displays activities as \"pandas\" tables\n",
    "print_act(activity1) \n",
    "print_act(model)\n",
    "          \n",
    "# Note that symbolic expressions have not been evaluated at this stage"
   ]
  },
  {
   "cell_type": "markdown",
   "metadata": {},
   "source": [
    "# Select the impacts to consider"
   ]
  },
  {
   "cell_type": "code",
   "execution_count": null,
   "metadata": {},
   "outputs": [],
   "source": [
    "# List of impacts to consider\n",
    "impacts = [m for m in bw.methods if 'ILCD 1.0.8 2016' in str(m) and 'no LT' in str(m)]"
   ]
  },
  {
   "cell_type": "markdown",
   "metadata": {},
   "source": [
    "# Compute LCA\n",
    "\n",
    "We provide two methods to compute LCA : \n",
    "* **multiLCA** : It uses brightway2 parametric capabilities. It is much slower and kept for comparing results.\n",
    "* **multiLCAAlgebric** : It computes an algebric expression of the model and computes LCA once for all the background activities. Then it express each impact as a function of the parameter. This expression is compiled into 'numpy' native code, for fast computation on vectors of samples. This version is 1 million time faster."
   ]
  },
  {
   "cell_type": "code",
   "execution_count": null,
   "metadata": {},
   "outputs": [],
   "source": [
    "# Uses brightway2 parameters\n",
    "multiLCA(us_elec, impacts, \n",
    "                   \n",
    "    # Parameters of the model\n",
    "    a=1, \n",
    "    b=2, \n",
    "    elec_switch_param=\"us\")"
   ]
  },
  {
   "cell_type": "code",
   "execution_count": null,
   "metadata": {},
   "outputs": [],
   "source": [
    "# Compute with algebric implementation : the values should be the same\n",
    "multiLCAAlgebric(\n",
    "    elec_switch, # The model \n",
    "    impacts, # Impacts\n",
    "    \n",
    "    # Parameters of the model\n",
    "    a=1, \n",
    "    b=2,\n",
    "    elec_switch_param=\"us\")"
   ]
  },
  {
   "cell_type": "code",
   "execution_count": null,
   "metadata": {},
   "outputs": [],
   "source": [
    "# Here is what the symbolic model looks like \n",
    "expr, _ = actToExpression(model)\n",
    "expr"
   ]
  },
  {
   "cell_type": "code",
   "execution_count": null,
   "metadata": {},
   "outputs": [],
   "source": [
    "# Fast computation for millions of separate samples\n",
    "multiLCAWithParamsAlgebric(\n",
    "    model, # The model \n",
    "    impacts, # Impacts\n",
    "    \n",
    "    # Parameters of the model\n",
    "    alpha=list(range(1, 100000)), # LIst should be the same size for each param\n",
    "    beta=list(range(1, 100000)),\n",
    "    elec_switch_param=\"eu\")"
   ]
  },
  {
   "cell_type": "code",
   "execution_count": null,
   "metadata": {},
   "outputs": [],
   "source": []
  }
 ],
 "metadata": {
  "jupytext": {
   "formats": "ipynb,Rmd",
   "text_representation": {
    "extension": ".Rmd",
    "format_name": "rmarkdown",
    "format_version": "1.2",
    "jupytext_version": "1.3.2"
   }
  },
  "kernelspec": {
   "display_name": "Python 3",
   "language": "python",
   "name": "python3"
  },
  "language_info": {
   "codemirror_mode": {
    "name": "ipython",
    "version": 3
   },
   "file_extension": ".py",
   "mimetype": "text/x-python",
   "name": "python",
   "nbconvert_exporter": "python",
   "pygments_lexer": "ipython3",
   "version": "3.6.10"
  },
  "toc": {
   "base_numbering": 1,
   "nav_menu": {},
   "number_sections": true,
   "sideBar": true,
   "skip_h1_title": false,
   "title_cell": "Table of Contents",
   "title_sidebar": "Contents",
   "toc_cell": false,
   "toc_position": {},
   "toc_section_display": true,
   "toc_window_display": false
  }
 },
 "nbformat": 4,
 "nbformat_minor": 2
}
