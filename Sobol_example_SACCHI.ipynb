{
 "cells": [
  {
   "cell_type": "code",
   "execution_count": 62,
   "metadata": {},
   "outputs": [],
   "source": [
    "import brightway2 as bw\n",
    "from bw2data.parameters import*\n",
    "import numpy as np\n",
    "from SALib.sample import saltelli\n",
    "from SALib.analyze import sobol"
   ]
  },
  {
   "cell_type": "markdown",
   "metadata": {},
   "source": [
    "# We create an new DB and a power generation activity\n",
    "### Very simple, the power generation activity does not have an input but only a CO2 emission and an electricity output\n",
    "### the CO2 depends here on the power plant efficiency, the fuel LHV, CO2 intensity and its biomass content"
   ]
  },
  {
   "cell_type": "code",
   "execution_count": 63,
   "metadata": {},
   "outputs": [
    {
     "name": "stderr",
     "output_type": "stream",
     "text": [
      "Writing activities to SQLite3 database:\n",
      "0%  100%\n",
      "[#] | ETA: 00:00:00\n",
      "Total time elapsed: 00:00:00\n"
     ]
    },
    {
     "name": "stdout",
     "output_type": "stream",
     "text": [
      "Biosphere database already present!!! No setup is needed\n",
      "Title: Writing activities to SQLite3 database:\n",
      "  Started: 11/26/2018 10:49:55\n",
      "  Finished: 11/26/2018 10:49:55\n",
      "  Total time elapsed: 00:00:00\n",
      "  CPU %: 0.00\n",
      "  Memory %: 0.63\n"
     ]
    }
   ],
   "source": [
    "bw.projects.set_current(\"power_plant_example\")\n",
    "bw.bw2setup()\n",
    "\n",
    "database = bw.Database(\"db\")\n",
    "power_plant_data = {\n",
    "    (\"db\", \"electricity power plant\"): {\n",
    "        \"name\": \"electricity production\",\n",
    "        'unit': 'kWh',\n",
    "        'location': 'CH',\n",
    "        \"exchanges\": [{\n",
    "            \"amount\": 0.5,\n",
    "            \"input\": ('biosphere3', 'f9749677-9c9f-4678-ab55-c607dfdc2cb9'), #Carbon dioxide, fossil\n",
    "            \"type\": \"biosphere\",\n",
    "            \"uncertainty type\":0,\n",
    "            \"unit\": \"kg\",\n",
    "            \"formula\":\"(3.6/conversion_efficiency)*(fuel_CO2_intensity/fuel_LHV)*(1-fuel_biomass_share)\"} #this is the formula containing parameters\n",
    "        ,\n",
    "        {\n",
    "            \"amount\": 1,\n",
    "            \"input\": ('db', 'electricity power plant'), #1 kWh of electricity\n",
    "            \"type\": \"production\",\n",
    "            \"uncertainty type\":0,\n",
    "            \"unit\": \"kWh\"}\n",
    "        ]}}\n",
    "database.write(power_plant_data)"
   ]
  },
  {
   "cell_type": "markdown",
   "metadata": {},
   "source": [
    "# we select a method for characterization\n",
    "# we declare our parameters to BW and where they can be found\n",
    "# we gather the parameters in a parameter group and ask BW to refresh the exchange values"
   ]
  },
  {
   "cell_type": "code",
   "execution_count": 64,
   "metadata": {},
   "outputs": [],
   "source": [
    "method = ('CML 2001', 'climate change', 'GWP 100a')\n",
    "activity_data=[\n",
    "        {\"name\":\"fuel_LHV\", \"amount\":15, \"database\":\"db\", \"code\":\"electricity power plant\"},\n",
    "        {\"name\":\"fuel_CO2_intensity\", \"amount\":1.5, \"database\":\"db\", \"code\":\"electricity power plant\"},\n",
    "        {\"name\":\"fuel_biomass_share\", \"amount\":.25, \"database\":\"db\", \"code\":\"electricity power plant\"},\n",
    "        {\"name\":\"conversion_efficiency\", \"amount\":.6, \"database\":\"db\", \"code\":\"electricity power plant\"}]\n",
    "parameters.new_activity_parameters(activity_data, \"act_param\", overwrite=True)\n",
    "parameters.add_exchanges_to_group(\"act_param\", bw.Database(\"db\").get(\"electricity power plant\"))\n",
    "ActivityParameter.recalculate_exchanges(\"act_param\")"
   ]
  },
  {
   "cell_type": "markdown",
   "metadata": {},
   "source": [
    "# We create a BW calculation function that updates the parameters values in the exchanges and returns a CO2 value"
   ]
  },
  {
   "cell_type": "code",
   "execution_count": 65,
   "metadata": {},
   "outputs": [],
   "source": [
    "def bw_calc(param_list):\n",
    "    ActivityParameter.update(amount=param_list[0]).where(ActivityParameter.name == \"fuel_LHV\").execute()\n",
    "    ActivityParameter.update(amount=param_list[1]).where(ActivityParameter.name == \"fuel_CO2_intensity\").execute()\n",
    "    ActivityParameter.update(amount=param_list[2]).where(ActivityParameter.name == \"fuel_biomass_share\").execute()\n",
    "    ActivityParameter.update(amount=param_list[3]).where(ActivityParameter.name == \"conversion_efficiency\").execute()\n",
    "    ActivityParameter.recalculate_exchanges(\"act_param\")\n",
    "    my_lca=bw.LCA({bw.Database(\"db\").get('electricity power plant'):1}, method)\n",
    "    my_lca.lci()\n",
    "    my_lca.lcia()\n",
    "    return my_lca.score  "
   ]
  },
  {
   "cell_type": "markdown",
   "metadata": {},
   "source": [
    "# We declare our problem space: the parameters as well as the boundary values we think they might take (e.g. 95% CI)."
   ]
  },
  {
   "cell_type": "code",
   "execution_count": 66,
   "metadata": {},
   "outputs": [],
   "source": [
    "problem = {\n",
    "    'num_vars': 4,\n",
    "    'names': ['fuel_LHV', 'fuel_CO2_intensity', 'fuel_biomass_share', 'conversion_efficiency'],\n",
    "    'bounds': [[10, 15],\n",
    "               [1.5, 2],\n",
    "               [.2, .4],\n",
    "               [.5, .7]]\n",
    "}"
   ]
  },
  {
   "cell_type": "markdown",
   "metadata": {},
   "source": [
    "# we generate a sobol sequence from the problem space given.\n",
    "## here, the argument given is 100,meaning it will generate 100*(2*4+2) = 1000 samples, each of them contains four random values for our 4 parameters."
   ]
  },
  {
   "cell_type": "code",
   "execution_count": 67,
   "metadata": {},
   "outputs": [],
   "source": [
    "param_values = saltelli.sample(problem, 100, calc_second_order=True)\n",
    "Y = np.zeros([param_values.shape[0]])"
   ]
  },
  {
   "cell_type": "markdown",
   "metadata": {},
   "source": [
    "# we feed the Sobol sequence to the BW function and retrieve the results in an array (Y). This step can take a while."
   ]
  },
  {
   "cell_type": "code",
   "execution_count": 68,
   "metadata": {},
   "outputs": [],
   "source": [
    "for i, X in enumerate(param_values):\n",
    "    Y[i] = bw_calc(X)"
   ]
  },
  {
   "cell_type": "markdown",
   "metadata": {},
   "source": [
    "# we calculate the Sobol indices"
   ]
  },
  {
   "cell_type": "code",
   "execution_count": 69,
   "metadata": {},
   "outputs": [
    {
     "name": "stdout",
     "output_type": "stream",
     "text": [
      "{'S1': array([ 0.31644445,  0.17680569,  0.17840504,  0.24053761]), 'S1_conf': array([ 0.15427923,  0.12385726,  0.12503546,  0.14691116]), 'ST': array([ 0.32294062,  0.17776315,  0.18750861,  0.24183004]), 'ST_conf': array([ 0.10693683,  0.05529663,  0.04797578,  0.06458563]), 'S2': array([[        nan,  0.01073416,  0.00250264, -0.01441787],\n",
      "       [        nan,         nan,  0.01648918, -0.03710391],\n",
      "       [        nan,         nan,         nan, -0.03093666],\n",
      "       [        nan,         nan,         nan,         nan]]), 'S2_conf': array([[        nan,  0.22470228,  0.21775779,  0.21626284],\n",
      "       [        nan,         nan,  0.19717882,  0.21309387],\n",
      "       [        nan,         nan,         nan,  0.18631655],\n",
      "       [        nan,         nan,         nan,         nan]])}\n"
     ]
    }
   ],
   "source": [
    "Si = sobol.analyze(problem, Y, calc_second_order=True)\n",
    "#display first, second and total order indices\n",
    "#make sure to have samples large enough to give meaningful second order relations\n",
    "print(Si)"
   ]
  },
  {
   "cell_type": "code",
   "execution_count": 70,
   "metadata": {},
   "outputs": [
    {
     "data": {
      "text/plain": [
       "array([ 0.32294062,  0.17776315,  0.18750861,  0.24183004])"
      ]
     },
     "execution_count": 70,
     "metadata": {},
     "output_type": "execute_result"
    }
   ],
   "source": [
    "Si[\"ST\"]"
   ]
  },
  {
   "cell_type": "code",
   "execution_count": 71,
   "metadata": {},
   "outputs": [
    {
     "data": {
      "text/plain": [
       "array([ 0.31644445,  0.17680569,  0.17840504,  0.24053761])"
      ]
     },
     "execution_count": 71,
     "metadata": {},
     "output_type": "execute_result"
    }
   ],
   "source": [
    "Si[\"S1\"]"
   ]
  }
 ],
 "metadata": {
  "kernelspec": {
   "display_name": "Python 3",
   "language": "python",
   "name": "python3"
  },
  "language_info": {
   "codemirror_mode": {
    "name": "ipython",
    "version": 3
   },
   "file_extension": ".py",
   "mimetype": "text/x-python",
   "name": "python",
   "nbconvert_exporter": "python",
   "pygments_lexer": "ipython3",
   "version": "3.6.3"
  }
 },
 "nbformat": 4,
 "nbformat_minor": 2
}
