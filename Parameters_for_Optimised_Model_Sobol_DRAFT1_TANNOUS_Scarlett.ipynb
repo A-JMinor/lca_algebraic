{
 "cells": [
  {
   "cell_type": "markdown",
   "metadata": {},
   "source": [
    "This Notebook is a complementary Notebook to the 'Optimized_Model_for_Sobol_DRAFT1_TANNOUS_Scarlett' Notebook. It is where the parameters are stocked independatly of their generating functions. Additionally, it is where the calculations methods are established and set to launch the expected scenarios. \n",
    "\n",
    "It should be noted that this Notebook is in progress. It is at its very early stages. However, it lists the steps through which the parameters should be stocked, handled, and tested. These steps were inspired by the code that Romain SACCHI has extracted from Sensitivity Analyses (SA) libraries and organized in a well-documented way. It will be also provided along with this Notebook and the 'Optimized_Model_for_Sobol_DRAFT1_TANNOUS_Scarlett' Notebook. \n",
    "\n",
    "I highly recommend reading the following reference https://salib.readthedocs.io/en/latest/ consisting of a documentation of the SA library and its function and going into the details of original Sobol code of SACCHI."
   ]
  },
  {
   "cell_type": "code",
   "execution_count": 1,
   "metadata": {},
   "outputs": [
    {
     "name": "stdout",
     "output_type": "stream",
     "text": [
      "Using matplotlib backend: Qt5Agg\n"
     ]
    }
   ],
   "source": [
    "import pandas as pd\n",
    "import matplotlib.pyplot as plt\n",
    "import numpy as np\n",
    "import brightway2 as bw\n",
    "from scipy.interpolate import InterpolatedUnivariateSpline\n",
    "plt.style.use('ggplot')\n",
    "%matplotlib auto"
   ]
  },
  {
   "cell_type": "code",
   "execution_count": 2,
   "metadata": {},
   "outputs": [],
   "source": [
    "from bw2data.parameters import ActivityParameter, DatabaseParameter, ProjectParameter, Group\n",
    "from SALib.sample import saltelli\n",
    "from SALib.analyze import sobol"
   ]
  },
  {
   "cell_type": "code",
   "execution_count": 3,
   "metadata": {},
   "outputs": [
    {
     "data": {
      "text/plain": [
       "'default'"
      ]
     },
     "execution_count": 3,
     "metadata": {},
     "output_type": "execute_result"
    }
   ],
   "source": [
    "bw.projects.current"
   ]
  },
  {
   "cell_type": "code",
   "execution_count": 4,
   "metadata": {},
   "outputs": [],
   "source": [
    "bw.projects.set_current('incer_acv')"
   ]
  },
  {
   "cell_type": "code",
   "execution_count": 5,
   "metadata": {},
   "outputs": [
    {
     "data": {
      "text/plain": [
       "Databases dictionary with 2 object(s):\n",
       "\tbiosphere3\n",
       "\tecoinvent 3.4 cut off"
      ]
     },
     "execution_count": 5,
     "metadata": {},
     "output_type": "execute_result"
    }
   ],
   "source": [
    "bw.databases"
   ]
  },
  {
   "cell_type": "code",
   "execution_count": 6,
   "metadata": {},
   "outputs": [],
   "source": [
    "eidb = bw.Database('ecoinvent 3.4 cut off')\n",
    "bio3 = bw.Database('biosphere3')"
   ]
  },
  {
   "cell_type": "code",
   "execution_count": 7,
   "metadata": {},
   "outputs": [
    {
     "data": {
      "text/plain": [
       "4246"
      ]
     },
     "execution_count": 7,
     "metadata": {},
     "output_type": "execute_result"
    }
   ],
   "source": [
    "len(bio3)"
   ]
  },
  {
   "cell_type": "code",
   "execution_count": 8,
   "metadata": {},
   "outputs": [
    {
     "data": {
      "text/plain": [
       "14906"
      ]
     },
     "execution_count": 8,
     "metadata": {},
     "output_type": "execute_result"
    }
   ],
   "source": [
    "len(eidb)"
   ]
  },
  {
   "cell_type": "markdown",
   "metadata": {},
   "source": [
    "# Parameters"
   ]
  },
  {
   "cell_type": "code",
   "execution_count": 9,
   "metadata": {},
   "outputs": [],
   "source": [
    "alu_adjusted = [act for act in eidb if 'aluminium alloy production, AlMg3 adjusted' == act['name']][0]"
   ]
  },
  {
   "cell_type": "code",
   "execution_count": 10,
   "metadata": {},
   "outputs": [],
   "source": [
    "inverter_P_per_kg = [act for act in eidb if 'Inverter production, P kW per kg' in act['name']][0]"
   ]
  },
  {
   "cell_type": "code",
   "execution_count": 11,
   "metadata": {},
   "outputs": [],
   "source": [
    "# default parameters\n",
    "my_parameters = [\n",
    "    {\n",
    "    'database': alu_adjusted['database'],\n",
    "    'code': alu_adjusted['code'],\n",
    "    'name': 'share_recycled_aluminium',\n",
    "    'amount': 0.0\n",
    "    #we can also add formula\n",
    "},\n",
    "{\n",
    "    'database': alu_adjusted['database'],\n",
    "    'code': alu_adjusted['code'],\n",
    "    'name': 'default_electricity_mix',\n",
    "    'amount': 1.0\n",
    "},\n",
    "{\n",
    "    'database': alu_adjusted['database'],\n",
    "    'code': alu_adjusted['code'],\n",
    "    'name': 'fr_electricity_mix',\n",
    "    'amount':0.0\n",
    "},\n",
    "{\n",
    "    'database': alu_adjusted['database'],\n",
    "    'code': alu_adjusted['code'],\n",
    "    'name': 'us_electricity_mix',\n",
    "    'amount': 0.0\n",
    "},\n",
    "{\n",
    "    'database': alu_adjusted['database'],\n",
    "    'code': alu_adjusted['code'],\n",
    "    'name': 'cn_electricity_mix',\n",
    "    'amount': 0.0\n",
    "},\n",
    "{\n",
    "    'database': alu_adjusted['database'],\n",
    "    'code': alu_adjusted['code'],\n",
    "    'name': 'eu_electricity_mix',\n",
    "    'amount': 0.0\n",
    "},\n",
    "{\n",
    "    'database': alu_adjusted['database'],\n",
    "    'code': alu_adjusted['code'],\n",
    "    'name': 'row_electricity_mix',\n",
    "    'amount': 0.0     \n",
    "        \n",
    "},\n",
    "{   \n",
    "    'database': inverter_P_per_kg['database'],\n",
    "    'code': inverter_P_per_kg['code'],\n",
    "    'name': 'P',\n",
    "    'amount': 500\n",
    "\n",
    "\n",
    "}\n",
    "######### ATTENTTION: before this step, P and P_module should be defined    \n",
    "# {\n",
    "#     'database': ground_system_adjusted['database'],\n",
    "#     'name': 'surface',\n",
    "#     #A mettre tous les formules dans les echanges des datasets\n",
    "#     #'amount': P*1e3 / (P_module * 1.6)\n",
    "#     #'formula': 'P*1e3 / (P_module * 1.6)'\n",
    "#     #the 1.6 is the surface of 1 module\n",
    "# }    \n",
    "# {\n",
    "#     'database': roof_system_with_recycling['database'],\n",
    "#     'code': roof_system_with_recycling['code'],\n",
    "#     'name': 'roof',\n",
    "#     #the amount here will change between 0 and 1\n",
    "#     'amount': 0.0,\n",
    "#     'formula': 'roof*surface'\n",
    "#     #surface is the parameter defined previously surface  = P*1e3 / (P_module * 1.6)\n",
    "    \n",
    "#     # for the amount, i should include the surface\n",
    "#     # this amount is related to act['fomrula'] = %f roof (this is o or 1) %(amount)\n",
    "#     # the surface can be added as a dictionary in the \n",
    "#     #the surface formula should be adapted to P/Pmod*surface\n",
    "# },\n",
    "# {\n",
    "#     'database': ground_system_adjusted['database'],\n",
    "#     'code': ground_system_adjusted['code'],\n",
    "#     'name': 'roof',\n",
    "#     #the amount here will change between 0 and 1\n",
    "#     'amount': 0.0,\n",
    "#     'formula': '(1-roof)*surface'\n",
    "#     #surface is the parameter defined previously surface  = P*1e3 / (P_module * 1.6)\n",
    "# },\n",
    "# '''\n",
    "# the P parameter controlling the amount of electrical installation\n",
    "# can be defined in the final function \n",
    "# weight_of_electrical_installation = electrical_installation_weight(P)\n",
    "# add_to_dict(dict_activities, key = electrical_installation_3kW, value = weight_of_electrical_installation/33)\n",
    "    \n",
    "#     {\n",
    "#     'database': electrical_installation_3kW['database'],\n",
    "#     'code': electrical_installation_3kW['code']\n",
    "#     'name': 'P'\n",
    "#     'formula'\n",
    "# }\n",
    "# '''\n",
    "\n",
    "# {\n",
    "#     'database': inverter_P_['database'],\n",
    "#     'code': inverter_final['code'],\n",
    "#     'name': 'recycling_rate',\n",
    "#     'amount': 0.0,\n",
    "    \n",
    "#     'database': inverter_2_5kW_adjusted['database']\n",
    "#     'code': inverter_2_5kW_adjusted['code']\n",
    "#     'name': 'recycling_rate'\n",
    "#     'amount':\n",
    "    \n",
    "# ########################### Silicon adusted ############################################\n",
    "# {    'database': silicon_adjusted['database'],\n",
    "#     'code': silicon_adjusted['code'],\n",
    "#     'name': 'silicon_electricity_intensity',\n",
    "#     'amount': 0.0,\n",
    "# },\n",
    "# {\n",
    "    \n",
    "#     'database': silicon_adjusted['database'],\n",
    "#     'code': silicon_adjusted['code'],\n",
    "#     'name': 'default_electricity_mix',\n",
    "#     'amount': 1.0\n",
    "# },\n",
    "# {\n",
    "#     'database': silicon_adjusted['database'],\n",
    "#     'code': silicon_adjusted['code'],\n",
    "#     'name': 'fr_electricity_mix',\n",
    "#     'amount':0.0\n",
    "# },\n",
    "# {\n",
    "#     'database': silicon_adjusted['database'],\n",
    "#     'code': silicon_adjusted['code'],\n",
    "#     'name': 'us_electricity_mix',\n",
    "#     'amount': 0.0\n",
    "# },\n",
    "# {\n",
    "#     'database': silicon_adjusted['database'],\n",
    "#     'code': silicon_adjusted['code'],\n",
    "#     'name': 'cn_electricity_mix',\n",
    "#     'amount': 0.0\n",
    "# },\n",
    "# {\n",
    "#     'database': silicon_adjusted['database'],\n",
    "#     'code': silicon_adjusted['code'],\n",
    "#     'name': 'eu_electricity_mix',\n",
    "#     'amount': 0.0\n",
    "# },\n",
    "# {\n",
    "    \n",
    "    \n",
    "# }\n",
    "    \n",
    "    \n",
    "    \n",
    "    \n",
    "    \n",
    "    \n",
    "    \n",
    "# }\n",
    "]"
   ]
  },
  {
   "cell_type": "code",
   "execution_count": 12,
   "metadata": {},
   "outputs": [],
   "source": [
    "# create a parameters groups with paramters\n",
    "bw.parameters.new_activity_parameters(my_parameters, \"custom_group\", overwrite=True)"
   ]
  },
  {
   "cell_type": "code",
   "execution_count": 13,
   "metadata": {},
   "outputs": [
    {
     "data": {
      "text/plain": [
       "2"
      ]
     },
     "execution_count": 13,
     "metadata": {},
     "output_type": "execute_result"
    }
   ],
   "source": [
    "# enable parameters change for my activity the activity\n",
    "# without this line the parameters have no effect\n",
    "bw.parameters.add_exchanges_to_group(\"custom_group\", alu_adjusted)\n",
    "bw.parameters.add_exchanges_to_group(\"custom_group\", inverter_P_per_kg)"
   ]
  },
  {
   "cell_type": "code",
   "execution_count": 14,
   "metadata": {},
   "outputs": [],
   "source": [
    "# Update all parameters and related activity\n",
    "ActivityParameter.recalculate_exchanges(\"custom_group\")"
   ]
  },
  {
   "cell_type": "markdown",
   "metadata": {},
   "source": [
    "# Calculations"
   ]
  },
  {
   "cell_type": "code",
   "execution_count": 15,
   "metadata": {},
   "outputs": [],
   "source": [
    "CC_method = [m for m in bw.methods if 'IPCC 2013' in str(m) and  'climate change' in str(m) and 'GWP 100a' in str(m) and not 'no LT' in str(m) ][0]\n"
   ]
  },
  {
   "cell_type": "code",
   "execution_count": 16,
   "metadata": {},
   "outputs": [],
   "source": [
    "lca = bw.LCA(demand = {inverter_P_per_kg:1}, method = CC_method)\n",
    "\n",
    "def bw_calculate(param_list):\n",
    "    ActivityParameter.update(amount=param_list[0]).where(ActivityParameter.name == \"share_recycled_aluminium\").execute()\n",
    "\n",
    "    #print(\"XXXXXXXXXXXXXXXXXXXXXXXXXXXXXXXXXXX\", i)\n",
    "    \n",
    "    ActivityParameter.update(amount=0.0).where(ActivityParameter.name == \"default_electricity_mix\").execute()\n",
    "    ActivityParameter.update(amount=0.0).where(ActivityParameter.name == \"fr_electricity_mix\").execute()\n",
    "    ActivityParameter.update(amount=0.0).where(ActivityParameter.name == \"us_electricity_mix\").execute()\n",
    "    ActivityParameter.update(amount=0.0).where(ActivityParameter.name == \"cn_electricity_mix\").execute()\n",
    "    ActivityParameter.update(amount=0.0).where(ActivityParameter.name == \"eu_electricity_mix\").execute()\n",
    "    #ActivityParameter.update(amount=0.0).where(ActivityParameter.name == \"row_electricity_mix\").execute()\n",
    "    if 1 < param_list[1] <= 2:\n",
    "        ActivityParameter.update(amount=1.0).where(ActivityParameter.name == \"fr_electricity_mix\").execute()\n",
    "    elif 2 < param_list[1] <= 3:\n",
    "        ActivityParameter.update(amount=1.0).where(ActivityParameter.name == \"us_electricity_mix\").execute()\n",
    "    elif 3 < param_list[1] <= 4:\n",
    "        ActivityParameter.update(amount=1.0).where(ActivityParameter.name == \"eu_electricity_mix\").execute()\n",
    "    elif 4 < param_list[1] <= 5:\n",
    "        ActivityParameter.update(amount=1.0).where(ActivityParameter.name == \"cn_electricity_mix\").execute()\n",
    "    else:\n",
    "        ActivityParameter.update(amount=1.0).where(ActivityParameter.name == \"default_electricity_mix\").execute()\n",
    "    ActivityParameter.update(amount=500).where(ActivityParameter.name == \"P\").execute()\n",
    "    \n",
    "    ActivityParameter.recalculate_exchanges(\"custom_group\")\n",
    "    lca.lci()\n",
    "    lca.lcia()\n",
    "    lca.score\n",
    "    return lca.score"
   ]
  },
  {
   "cell_type": "code",
   "execution_count": 18,
   "metadata": {},
   "outputs": [
    {
     "name": "stdout",
     "output_type": "stream",
     "text": [
      "749240.0760894103\n"
     ]
    }
   ],
   "source": [
    "print(bw_calculate([0.0, 0]))"
   ]
  },
  {
   "cell_type": "code",
   "execution_count": 17,
   "metadata": {},
   "outputs": [],
   "source": [
    "problem = {\n",
    "    'num_vars': 1,\n",
    "    'names': ['P', 'sharedxx'],\n",
    "    'bounds': [[2.5, 1.1],\n",
    "              [0, 5]]\n",
    "}"
   ]
  },
  {
   "cell_type": "code",
   "execution_count": null,
   "metadata": {},
   "outputs": [],
   "source": [
    "param_values = saltelli.sample(problem, 10, calc_second_order=True)"
   ]
  },
  {
   "cell_type": "code",
   "execution_count": null,
   "metadata": {},
   "outputs": [],
   "source": [
    "Y = np.zeros([param_values.shape[0]])"
   ]
  },
  {
   "cell_type": "code",
   "execution_count": null,
   "metadata": {},
   "outputs": [],
   "source": [
    "for i, X in enumerate(param_values):\n",
    "    print(X)\n",
    "    Y[i] = bw_calculate(X)"
   ]
  },
  {
   "cell_type": "code",
   "execution_count": null,
   "metadata": {},
   "outputs": [],
   "source": [
    "Si = sobol.analyze(problem, Y, calc_second_order=True)"
   ]
  },
  {
   "cell_type": "code",
   "execution_count": null,
   "metadata": {},
   "outputs": [],
   "source": [
    "Si[\"ST\"]"
   ]
  },
  {
   "cell_type": "code",
   "execution_count": null,
   "metadata": {},
   "outputs": [],
   "source": [
    "Si[\"S1\"]"
   ]
  },
  {
   "cell_type": "markdown",
   "metadata": {},
   "source": [
    "# Timing"
   ]
  },
  {
   "cell_type": "code",
   "execution_count": null,
   "metadata": {},
   "outputs": [],
   "source": [
    "import time"
   ]
  },
  {
   "cell_type": "code",
   "execution_count": null,
   "metadata": {},
   "outputs": [],
   "source": [
    "star_time = time.time()"
   ]
  },
  {
   "cell_type": "code",
   "execution_count": null,
   "metadata": {},
   "outputs": [],
   "source": [
    "time_lapse = time.end() - star_time"
   ]
  }
 ],
 "metadata": {
  "kernelspec": {
   "display_name": "Python 3",
   "language": "python",
   "name": "python3"
  },
  "language_info": {
   "codemirror_mode": {
    "name": "ipython",
    "version": 3
   },
   "file_extension": ".py",
   "mimetype": "text/x-python",
   "name": "python",
   "nbconvert_exporter": "python",
   "pygments_lexer": "ipython3",
   "version": "3.6.10"
  },
  "toc": {
   "base_numbering": 1,
   "nav_menu": {},
   "number_sections": true,
   "sideBar": true,
   "skip_h1_title": false,
   "title_cell": "Table of Contents",
   "title_sidebar": "Contents",
   "toc_cell": false,
   "toc_position": {},
   "toc_section_display": true,
   "toc_window_display": true
  }
 },
 "nbformat": 4,
 "nbformat_minor": 2
}
