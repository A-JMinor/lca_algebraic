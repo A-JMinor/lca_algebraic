{
 "cells": [
  {
   "cell_type": "markdown",
   "metadata": {},
   "source": [
    "# Introduction\n",
    "\n",
    "This notebook presents **lca-algebraic** a small libray above **brightay2**, designed for the definition of **parametric inventories** with fast computation of LCA impacts, suitable for **monte-carlo** analyis.\n",
    "\n",
    "**lca-algebraic** provides a set of  **helper functions** for : \n",
    "* **compact** & **human readable** definition of activites :  \n",
    "    * search background (tech and biosphere) activities \n",
    "    * create new foreground activites with parametrized amounts\n",
    "    * parametrize / update existing background activities (extending the class **Activity**)\n",
    "* Definition of parameters\n",
    "* Computation of LCAs \n",
    "* Computation of statistics \n",
    "\n",
    "  \n",
    "# Principles \n",
    "\n",
    "The main idea of this libray is to move from **procedural definition** of models (slow and prone to errors) to a **declarative / purely functionnal** definition of parametric models (models as **pure functions**). \n",
    "\n",
    "This enables **fast computation of LCA impacts**. \n",
    "We leverage the **power of symbolic calculus** provided by the great libary [SymPy](https://www.sympy.org/en/index.html).\n",
    "\n",
    "We define our model in a **separate database**, as a nested combination of : \n",
    "* other foreground activities\n",
    "* background activities :\n",
    "    * Technical, refering **ecoinvent DB**\n",
    "    * Biopshere, refering **brightway2** biosphere activities\n",
    "    \n",
    "The **amounts** in exchanges are expressed either as **static amounts**, or **symbolic expressions** of pre-defined **parameters**.\n",
    "\n",
    "Each activity of our **root model** is defined as a **parametrized combination** of the **foreground activities**, which can themselves be expressed by the **background activities**.\n",
    "\n",
    "When computing LCA for foreground models, the library develops the model as a combination of **only background activities**. It computes **once for all** the impact of **all required background activities** and compiles a **fast numpy** (vectorial) function for each impact, replacing each background activity by the **static value of the corresponding impact**.\n",
    "\n",
    "By providing **large vectors** of **parameter values** to those numpy functions, we can compute LCA for **thousands of values** at a time.\n",
    "\n",
    "![](https://oie-mines-paristech.github.io/lca_algebraic/doc/lca-algebraic.png)\n",
    "\n",
    "\n",
    "# Compatiblity with brightway2 \n",
    "\n",
    "Under the hood, the activities we define with **lca-algebraic** are standard **brightway2** activities. \n",
    "The amounts of exchanges are stored as **float values** or **serialized as string** in the property **formula**.\n",
    "\n",
    "Parameters are also stored in the **brightay2** projets, making it fully compatible with **brightway**.\n",
    "\n",
    "Thus, a model defined with **lca-algebraic** is stored as a regular **bw2** projet. We can use **bw2** native support for [parametrized dataset](https://2.docs.brightway.dev/intro.html#parameterized-datasets) for computing LCAs, even if much more slower than the method explain here.\n",
    "\n",
    "# Doc\n",
    "\n",
    "The followng notebook explores the main functions.\n",
    "Full documentation of the functions is [available here](https://oie-mines-paristech.github.io/lca_algebraic/doc/)"
   ]
  },
  {
   "cell_type": "code",
   "execution_count": 1,
   "metadata": {
    "ExecuteTime": {
     "end_time": "2020-04-16T10:00:27.949569Z",
     "start_time": "2020-04-16T10:00:23.081734Z"
    }
   },
   "outputs": [
    {
     "name": "stderr",
     "output_type": "stream",
     "text": [
      "/home/rjolivet/anaconda3/envs/acv3.6/lib/python3.6/site-packages/statsmodels/tools/_testing.py:19: FutureWarning: pandas.util.testing is deprecated. Use the functions in the public API at pandas.testing instead.\n",
      "  import pandas.util.testing as tm\n"
     ]
    }
   ],
   "source": [
    "%load_ext autoreload\n",
    "%autoreload 2\n",
    "import pandas as pd\n",
    "import time\n",
    "import matplotlib.pyplot as plt\n",
    "import numpy as np\n",
    "import brightway2 as bw\n",
    "\n",
    "# Custom utils defined for inter-acv\n",
    "from lca_algebraic import *\n",
    "import lca_algebraic\n",
    "from sympy import init_printing, simplify\n",
    "\n",
    "init_printing()"
   ]
  },
  {
   "cell_type": "markdown",
   "metadata": {},
   "source": [
    "# Init brightway2 and databases"
   ]
  },
  {
   "cell_type": "code",
   "execution_count": 2,
   "metadata": {
    "ExecuteTime": {
     "end_time": "2020-04-16T10:00:28.313810Z",
     "start_time": "2020-04-16T10:00:27.952307Z"
    }
   },
   "outputs": [
    {
     "name": "stdout",
     "output_type": "stream",
     "text": [
      "Biosphere database already present!!! No setup is needed\n"
     ]
    },
    {
     "name": "stderr",
     "output_type": "stream",
     "text": [
      "Database 'ecoinvent 3.4' has already been imported \n",
      "Db MyModelName was here. Reseting it\n"
     ]
    }
   ],
   "source": [
    "# Init the brightway2 project :choose any project name\n",
    "initDb('MyProject')\n",
    "\n",
    "# Import Ecoinvent DB (if not already done)\n",
    "# Update the name and path to the location of the ecoinvent database\n",
    "importDb(\"ecoinvent 3.4\", './ecoinvent 3.4_cutoff_ecoSpold02/datasets')\n",
    "\n",
    "# We use a separate DB for defining our foreground model / activities\n",
    "# Choose any name\n",
    "USER_DB = 'MyModelName'\n",
    "\n",
    "# This is better to cleanup the whole foreground model each time, \n",
    "# instead of relying on a state or previous run.\n",
    "# Any persistent state is prone to errors.\n",
    "resetDb(USER_DB)\n",
    "\n",
    "# Parameters are stored at project level : reset them also\n",
    "resetParams(USER_DB)"
   ]
  },
  {
   "cell_type": "markdown",
   "metadata": {},
   "source": [
    "# Introduction to Numpy\n",
    "\n",
    "\n",
    "Numpy is a python libray for symbolic calculus. \n",
    "\n",
    "You write Sympy expression as you write **standard python expressions**, using **sympy symbols** in them. \n",
    "\n",
    "\n",
    "The result is then a **symbolic expression that can be manipulated**, instead of a **numeric value**."
   ]
  },
  {
   "cell_type": "code",
   "execution_count": 3,
   "metadata": {
    "ExecuteTime": {
     "end_time": "2020-04-16T10:00:28.913155Z",
     "start_time": "2020-04-16T10:00:28.318385Z"
    }
   },
   "outputs": [
    {
     "data": {
      "image/png": "[encoded data removed]",
      "text/latex": [
       "$\\displaystyle 2 a + 4$"
      ],
      "text/plain": [
       "2⋅a + 4"
      ]
     },
     "execution_count": 3,
     "metadata": {},
     "output_type": "execute_result"
    }
   ],
   "source": [
    "from sympy import symbols \n",
    "\n",
    "# create sympy symbol\n",
    "a = symbols(\"a\")\n",
    "\n",
    "# Expression are not directly evaluated \n",
    "f = a * 2 + 4 \n",
    "f "
   ]
  },
  {
   "cell_type": "code",
   "execution_count": 4,
   "metadata": {
    "ExecuteTime": {
     "end_time": "2020-04-16T10:00:28.970715Z",
     "start_time": "2020-04-16T10:00:28.916531Z"
    }
   },
   "outputs": [
    {
     "data": {
      "image/png": "[encoded data removed]",
      "text/latex": [
       "$\\displaystyle 10$"
      ],
      "text/plain": [
       "10"
      ]
     },
     "execution_count": 4,
     "metadata": {},
     "output_type": "execute_result"
    }
   ],
   "source": [
    "# symbols can be replaced by values afterwards \n",
    "f.subs(dict(a=3))"
   ]
  },
  {
   "cell_type": "markdown",
   "metadata": {},
   "source": [
    "In practice, you don't need to care about Sympy. Just remember that : \n",
    "* The parameters defined below are **instances of sympy symbols**\n",
    "* Any **valid python expression** containing a **sympy symbol** will create a **sympy symbolic expression**"
   ]
  },
  {
   "cell_type": "markdown",
   "metadata": {},
   "source": [
    "# Define parameters\n",
    "\n",
    "We define the parameters of the model.\n",
    "\n",
    "The numeric parameters are **instances of sympy 'Symbol'**. \n",
    "\n",
    "Thus, any python arithmetic expression composed of parameters will result in a **symbolic expression** for later evaluation, instead of a numeric result."
   ]
  },
  {
   "cell_type": "code",
   "execution_count": 5,
   "metadata": {
    "ExecuteTime": {
     "end_time": "2020-04-16T10:00:29.141733Z",
     "start_time": "2020-04-16T10:00:28.973861Z"
    }
   },
   "outputs": [],
   "source": [
    "# Example of 'float' parameters\n",
    "\n",
    "a = newFloatParam(\n",
    "    'a', \n",
    "    default=0.5, min=0, max=2,  distrib=DistributionType.TRIANGLE, # Distribution type, linear by default\n",
    "    description=\"hello world\")\n",
    "\n",
    "b = newFloatParam(\n",
    "    'b',\n",
    "    default=0.5, # Fixed if no min /max provided\n",
    "    description=\"foo bar\")\n",
    "\n",
    "share_recycled_aluminium = newFloatParam(\n",
    "    'share_recycled_aluminium',  \n",
    "    default=0.6, min=0, max=1, std=0.2, distrib=DistributionType.NORMAL, # Normal distrib, with std dev\n",
    "    description=\"Share of reycled aluminium\")\n",
    "\n",
    "# Yuo can define boolean parameters, taking only discrete values 0 or 1\n",
    "bool_param = newBoolParam(\n",
    "    'bool_param', \n",
    "    default=1)\n",
    "\n",
    "# Example 'enum' parameter, acting like a switch between several possibilities\n",
    "# Enum parameters are not Symbol themselves\n",
    "# They are a facility to represent many boolean parameters at once '<paramName>_<enumValue>' \n",
    "# and should be used with the 'newSwitchAct' method \n",
    "elec_switch_param = newEnumParam(\n",
    "    'elec_switch_param', \n",
    "    values=[\"us\", \"eu\"], \n",
    "    default=\"us\", \n",
    "    description=\"Switch on electricty mix\")\n",
    "\n",
    "# Another example enum param\n",
    "techno_param = newEnumParam(\n",
    "    'techno_param', \n",
    "    values=[\"technoA\", \"technoB\", \"technoC\"], \n",
    "    default=\"technoA\", \n",
    "    description=\"Choice of techonoly\")"
   ]
  },
  {
   "cell_type": "markdown",
   "metadata": {},
   "source": [
    "# Get references to background activities\n",
    "\n",
    "`utils` provide two functions for easy and fast (indexed) search of activities in reference databases : \n",
    "* **findBioAct** : Search activity in **biosphere3** db\n",
    "* **findTechAct** : Search activity in **ecoinvent** db\n",
    "\n",
    "Those methods are **faster** and **safer** than using traditionnal \"list-comprehension\" search : \n",
    "They will **fail with an error** if **more than one activity** matches, preventing the model to be based on a random selection of one activity.\n"
   ]
  },
  {
   "cell_type": "code",
   "execution_count": 6,
   "metadata": {
    "ExecuteTime": {
     "end_time": "2020-04-16T10:00:33.038416Z",
     "start_time": "2020-04-16T10:00:29.145887Z"
    }
   },
   "outputs": [],
   "source": [
    "# Biosphere activities\n",
    "ground_occupuation = findBioAct('Occupation, industrial area')\n",
    "heat = findBioAct('Heat, waste', categories=['air'])\n",
    "\n",
    "# Technosphere activities\n",
    "\n",
    "# You can add an optionnal location selector\n",
    "alu = findTechAct(\"aluminium alloy production, AlMg3\", loc=\"RER\")\n",
    "alu_scrap = findTechAct('aluminium scrap, new, Recycled Content cut-off')\n",
    "\n",
    "# Elec \n",
    "eu_elec = findTechAct(\"market group for electricity, medium voltage\", 'ENTSO-E')\n",
    "us_elec = findTechAct(\"market group for electricity, medium voltage\", 'US')"
   ]
  },
  {
   "cell_type": "markdown",
   "metadata": {},
   "source": [
    "# Define the model\n",
    "\n",
    "The model is defined as a nested combination of background activities with amounts.\n",
    "\n",
    "Amounts are defined either as constant float values or algebric formulas implying the parameters defined above."
   ]
  },
  {
   "cell_type": "markdown",
   "metadata": {},
   "source": [
    "## Create new activities"
   ]
  },
  {
   "cell_type": "code",
   "execution_count": 7,
   "metadata": {
    "ExecuteTime": {
     "end_time": "2020-04-16T10:00:33.295917Z",
     "start_time": "2020-04-16T10:00:33.041952Z"
    }
   },
   "outputs": [],
   "source": [
    "# Create a new activity\n",
    "activity1 = newActivity(USER_DB, # We define foreground activities in our own DB\n",
    "    \"first foreground activity\", # Name of the activity\n",
    "    \"kg\", # Unit\n",
    "    exchanges= { # We define exhanges as a dictionarry of 'activity : amount'\n",
    "        ground_occupuation:3 * b, # Amount can be a fixed value \n",
    "        heat: b + 0.2  # Amount can be a Sympy expression (any arithmetic expression of Parameters)\n",
    "    })\n",
    "\n",
    "# You can create a virtual \"switch\" activity combining several activities with a switch parameter\n",
    "\n",
    "elec_mix = newSwitchAct(USER_DB, \n",
    "    \"elect mix\", # Name\n",
    "    elec_switch_param, # Sith parameter\n",
    "    { # Dictionnary of enum values / activities\n",
    "        \"us\" : us_elec, # By default associated amount is 1\n",
    "        \"eu\" : (eu_elec, 0.8)  # You can also provide custom amout or formula with a tuple \n",
    "    })"
   ]
  },
  {
   "cell_type": "markdown",
   "metadata": {},
   "source": [
    "## Copy and update existing activity\n",
    "\n",
    "You can copy and update an existing background activity.\n",
    "\n",
    "Several new helper methods have been added to the class **Activity** for easy update of exchanges."
   ]
  },
  {
   "cell_type": "code",
   "execution_count": 8,
   "metadata": {
    "ExecuteTime": {
     "end_time": "2020-04-16T10:00:33.572871Z",
     "start_time": "2020-04-16T10:00:33.301482Z"
    }
   },
   "outputs": [],
   "source": [
    "alu2 = copyActivity(\n",
    "    USER_DB, # The copy of a background activity is done in our own DB, so that we can safely update it                \n",
    "    alu, # Initial activity : won't be altered\n",
    "    \"Alu2\") # New name\n",
    "\n",
    "# Update exchanges by their name \n",
    "alu2.updateExchanges({\n",
    "    \n",
    "    # Update amount : the special symbol *old_amount* references the previous amount of this exchange\n",
    "    \"aluminium, cast alloy\": old_amount * (1 - share_recycled_aluminium),\n",
    "    \n",
    "    # Update input activity. Note also that you can use '*' wildcard in exchange name\n",
    "    \"electricity*\": elec_mix,\n",
    "    \n",
    "    # Update both input activity and amount. \n",
    "    # Note that you can use '#' for specifying the location of exchange (useful for duplicate exchange names)\n",
    "    \"chromium#GLO\" : dict(amount=4.0, input=activity1)\n",
    "}) \n",
    "\n",
    "# Add exchanges \n",
    "alu2.addExchanges({alu_scrap :  12})"
   ]
  },
  {
   "cell_type": "markdown",
   "metadata": {},
   "source": [
    "## Final model\n",
    "The final model is just the root foreground activity referencing the others"
   ]
  },
  {
   "cell_type": "code",
   "execution_count": 9,
   "metadata": {
    "ExecuteTime": {
     "end_time": "2020-04-16T10:00:33.753951Z",
     "start_time": "2020-04-16T10:00:33.576564Z"
    }
   },
   "outputs": [],
   "source": [
    "model = newActivity(USER_DB, \"model\", \"kg\", {\n",
    "    activity1 : b * 5 + a + 1, # Reference the activity we just created\n",
    "    alu2: 3 * share_recycled_aluminium, \n",
    "    alu:0.4 * a})"
   ]
  },
  {
   "cell_type": "markdown",
   "metadata": {},
   "source": [
    "## Display activities\n",
    "\n",
    "**printAct** displays the list of all exchanges of an activity.\n",
    "\n",
    "Note that symbolic expressions have not been evaluated at this stage"
   ]
  },
  {
   "cell_type": "code",
   "execution_count": 10,
   "metadata": {
    "ExecuteTime": {
     "end_time": "2020-04-16T10:00:33.922805Z",
     "start_time": "2020-04-16T10:00:33.757375Z"
    }
   },
   "outputs": [
    {
     "data": {
      "text/html": [
       "<div>\n",
       "<style scoped>\n",
       "    .dataframe tbody tr th:only-of-type {\n",
       "        vertical-align: middle;\n",
       "    }\n",
       "\n",
       "    .dataframe tbody tr th {\n",
       "        vertical-align: top;\n",
       "    }\n",
       "\n",
       "    .dataframe thead tr th {\n",
       "        text-align: left;\n",
       "    }\n",
       "</style>\n",
       "<table border=\"1\" class=\"dataframe\">\n",
       "  <thead>\n",
       "    <tr>\n",
       "      <th></th>\n",
       "      <th colspan=\"4\" halign=\"left\">first foreground activity (1.000000 kg)</th>\n",
       "    </tr>\n",
       "    <tr>\n",
       "      <th></th>\n",
       "      <th>input</th>\n",
       "      <th>amount</th>\n",
       "      <th>unit</th>\n",
       "      <th>type</th>\n",
       "    </tr>\n",
       "  </thead>\n",
       "  <tbody>\n",
       "    <tr>\n",
       "      <th>Heat, waste</th>\n",
       "      <td>'Heat, waste' (megajoule, None, ('air',))</td>\n",
       "      <td>b + 0.2</td>\n",
       "      <td>megajoule</td>\n",
       "      <td>biosphere</td>\n",
       "    </tr>\n",
       "    <tr>\n",
       "      <th>Occupation, industrial area</th>\n",
       "      <td>'Occupation, industrial area' (square meter-ye...</td>\n",
       "      <td>3*b</td>\n",
       "      <td>square meter-year</td>\n",
       "      <td>biosphere</td>\n",
       "    </tr>\n",
       "  </tbody>\n",
       "</table>\n",
       "</div>"
      ],
      "text/plain": [
       "                                       first foreground activity (1.000000 kg)  \\\n",
       "                                                                         input   \n",
       "Heat, waste                          'Heat, waste' (megajoule, None, ('air',))   \n",
       "Occupation, industrial area  'Occupation, industrial area' (square meter-ye...   \n",
       "\n",
       "                                                                    \n",
       "                              amount               unit       type  \n",
       "Heat, waste                  b + 0.2          megajoule  biosphere  \n",
       "Occupation, industrial area      3*b  square meter-year  biosphere  "
      ]
     },
     "metadata": {},
     "output_type": "display_data"
    },
    {
     "data": {
      "text/html": [
       "<div>\n",
       "<style scoped>\n",
       "    .dataframe tbody tr th:only-of-type {\n",
       "        vertical-align: middle;\n",
       "    }\n",
       "\n",
       "    .dataframe tbody tr th {\n",
       "        vertical-align: top;\n",
       "    }\n",
       "\n",
       "    .dataframe thead tr th {\n",
       "        text-align: left;\n",
       "    }\n",
       "</style>\n",
       "<table border=\"1\" class=\"dataframe\">\n",
       "  <thead>\n",
       "    <tr>\n",
       "      <th></th>\n",
       "      <th colspan=\"4\" halign=\"left\">model (1.000000 kg)</th>\n",
       "    </tr>\n",
       "    <tr>\n",
       "      <th></th>\n",
       "      <th>input</th>\n",
       "      <th>amount</th>\n",
       "      <th>unit</th>\n",
       "      <th>type</th>\n",
       "    </tr>\n",
       "  </thead>\n",
       "  <tbody>\n",
       "    <tr>\n",
       "      <th>Alu2#RER {user-db}</th>\n",
       "      <td>'Alu2' (kilogram, RER, None)</td>\n",
       "      <td>3*share_recycled_aluminium</td>\n",
       "      <td>kilogram</td>\n",
       "      <td>technosphere</td>\n",
       "    </tr>\n",
       "    <tr>\n",
       "      <th>aluminium alloy production, AlMg3#RER</th>\n",
       "      <td>'aluminium alloy production, AlMg3' (kilogram,...</td>\n",
       "      <td>0.4*a</td>\n",
       "      <td>kilogram</td>\n",
       "      <td>technosphere</td>\n",
       "    </tr>\n",
       "    <tr>\n",
       "      <th>first foreground activity {user-db}</th>\n",
       "      <td>'first foreground activity' (kg, GLO, None)</td>\n",
       "      <td>a + 5*b + 1</td>\n",
       "      <td>kg</td>\n",
       "      <td>technosphere</td>\n",
       "    </tr>\n",
       "  </tbody>\n",
       "</table>\n",
       "</div>"
      ],
      "text/plain": [
       "                                                                     model (1.000000 kg)  \\\n",
       "                                                                                   input   \n",
       "Alu2#RER {user-db}                                          'Alu2' (kilogram, RER, None)   \n",
       "aluminium alloy production, AlMg3#RER  'aluminium alloy production, AlMg3' (kilogram,...   \n",
       "first foreground activity {user-db}          'first foreground activity' (kg, GLO, None)   \n",
       "\n",
       "                                                                             \\\n",
       "                                                           amount      unit   \n",
       "Alu2#RER {user-db}                     3*share_recycled_aluminium  kilogram   \n",
       "aluminium alloy production, AlMg3#RER                       0.4*a  kilogram   \n",
       "first foreground activity {user-db}                   a + 5*b + 1        kg   \n",
       "\n",
       "                                                     \n",
       "                                               type  \n",
       "Alu2#RER {user-db}                     technosphere  \n",
       "aluminium alloy production, AlMg3#RER  technosphere  \n",
       "first foreground activity {user-db}    technosphere  "
      ]
     },
     "metadata": {},
     "output_type": "display_data"
    }
   ],
   "source": [
    "# Print_act displays activities as tables\n",
    "printAct(activity1) \n",
    "printAct(model)"
   ]
  },
  {
   "cell_type": "code",
   "execution_count": 11,
   "metadata": {
    "ExecuteTime": {
     "end_time": "2020-04-16T10:00:34.021077Z",
     "start_time": "2020-04-16T10:00:33.930384Z"
    }
   },
   "outputs": [
    {
     "data": {
      "text/html": [
       "<div>\n",
       "<style scoped>\n",
       "    .dataframe tbody tr th:only-of-type {\n",
       "        vertical-align: middle;\n",
       "    }\n",
       "\n",
       "    .dataframe tbody tr th {\n",
       "        vertical-align: top;\n",
       "    }\n",
       "\n",
       "    .dataframe thead tr th {\n",
       "        text-align: left;\n",
       "    }\n",
       "</style>\n",
       "<table border=\"1\" class=\"dataframe\">\n",
       "  <thead>\n",
       "    <tr>\n",
       "      <th></th>\n",
       "      <th colspan=\"4\" halign=\"left\">first foreground activity (1.000000 kg)</th>\n",
       "    </tr>\n",
       "    <tr>\n",
       "      <th></th>\n",
       "      <th>input</th>\n",
       "      <th>amount</th>\n",
       "      <th>unit</th>\n",
       "      <th>type</th>\n",
       "    </tr>\n",
       "  </thead>\n",
       "  <tbody>\n",
       "    <tr>\n",
       "      <th>Heat, waste</th>\n",
       "      <td>'Heat, waste' (megajoule, None, ('air',))</td>\n",
       "      <td>1.70000000000000</td>\n",
       "      <td>megajoule</td>\n",
       "      <td>biosphere</td>\n",
       "    </tr>\n",
       "    <tr>\n",
       "      <th>Occupation, industrial area</th>\n",
       "      <td>'Occupation, industrial area' (square meter-ye...</td>\n",
       "      <td>4.50000000000000</td>\n",
       "      <td>square meter-year</td>\n",
       "      <td>biosphere</td>\n",
       "    </tr>\n",
       "  </tbody>\n",
       "</table>\n",
       "</div>"
      ],
      "text/plain": [
       "                                       first foreground activity (1.000000 kg)  \\\n",
       "                                                                         input   \n",
       "Heat, waste                          'Heat, waste' (megajoule, None, ('air',))   \n",
       "Occupation, industrial area  'Occupation, industrial area' (square meter-ye...   \n",
       "\n",
       "                                                                             \n",
       "                                       amount               unit       type  \n",
       "Heat, waste                  1.70000000000000          megajoule  biosphere  \n",
       "Occupation, industrial area  4.50000000000000  square meter-year  biosphere  "
      ]
     },
     "metadata": {},
     "output_type": "display_data"
    }
   ],
   "source": [
    "# You can also compute amounts by replacing parameters with a float value \n",
    "printAct(activity1, b=1.5) "
   ]
  },
  {
   "cell_type": "code",
   "execution_count": 12,
   "metadata": {
    "ExecuteTime": {
     "end_time": "2020-04-16T10:00:34.962197Z",
     "start_time": "2020-04-16T10:00:34.024613Z"
    }
   },
   "outputs": [
    {
     "data": {
      "text/html": [
       "<style  type=\"text/css\" >\n",
       "    #T_1d8ffcc6_7fc9_11ea_a441_b9d210088f5arow0_col0 {\n",
       "            background-color: yellow;\n",
       "        }    #T_1d8ffcc6_7fc9_11ea_a441_b9d210088f5arow0_col1 {\n",
       "            background-color: yellow;\n",
       "        }    #T_1d8ffcc6_7fc9_11ea_a441_b9d210088f5arow0_col4 {\n",
       "            background-color: yellow;\n",
       "        }    #T_1d8ffcc6_7fc9_11ea_a441_b9d210088f5arow0_col5 {\n",
       "            background-color: yellow;\n",
       "        }    #T_1d8ffcc6_7fc9_11ea_a441_b9d210088f5arow1_col0 {\n",
       "            background-color: yellow;\n",
       "        }    #T_1d8ffcc6_7fc9_11ea_a441_b9d210088f5arow1_col1 {\n",
       "            background-color: yellow;\n",
       "        }    #T_1d8ffcc6_7fc9_11ea_a441_b9d210088f5arow1_col4 {\n",
       "            background-color: yellow;\n",
       "        }    #T_1d8ffcc6_7fc9_11ea_a441_b9d210088f5arow1_col5 {\n",
       "            background-color: yellow;\n",
       "        }    #T_1d8ffcc6_7fc9_11ea_a441_b9d210088f5arow2_col0 {\n",
       "            background-color: yellow;\n",
       "        }    #T_1d8ffcc6_7fc9_11ea_a441_b9d210088f5arow2_col1 {\n",
       "            background-color: yellow;\n",
       "        }    #T_1d8ffcc6_7fc9_11ea_a441_b9d210088f5arow2_col4 {\n",
       "            background-color: yellow;\n",
       "        }    #T_1d8ffcc6_7fc9_11ea_a441_b9d210088f5arow2_col5 {\n",
       "            background-color: yellow;\n",
       "        }    #T_1d8ffcc6_7fc9_11ea_a441_b9d210088f5arow3_col1 {\n",
       "            background-color: yellow;\n",
       "        }    #T_1d8ffcc6_7fc9_11ea_a441_b9d210088f5arow3_col5 {\n",
       "            background-color: yellow;\n",
       "        }    #T_1d8ffcc6_7fc9_11ea_a441_b9d210088f5arow5_col0 {\n",
       "            background-color: yellow;\n",
       "        }    #T_1d8ffcc6_7fc9_11ea_a441_b9d210088f5arow5_col1 {\n",
       "            background-color: yellow;\n",
       "        }    #T_1d8ffcc6_7fc9_11ea_a441_b9d210088f5arow5_col4 {\n",
       "            background-color: yellow;\n",
       "        }    #T_1d8ffcc6_7fc9_11ea_a441_b9d210088f5arow5_col5 {\n",
       "            background-color: yellow;\n",
       "        }    #T_1d8ffcc6_7fc9_11ea_a441_b9d210088f5arow6_col0 {\n",
       "            background-color: yellow;\n",
       "        }    #T_1d8ffcc6_7fc9_11ea_a441_b9d210088f5arow6_col1 {\n",
       "            background-color: yellow;\n",
       "        }    #T_1d8ffcc6_7fc9_11ea_a441_b9d210088f5arow6_col4 {\n",
       "            background-color: yellow;\n",
       "        }    #T_1d8ffcc6_7fc9_11ea_a441_b9d210088f5arow6_col5 {\n",
       "            background-color: yellow;\n",
       "        }    #T_1d8ffcc6_7fc9_11ea_a441_b9d210088f5arow8_col0 {\n",
       "            background-color: yellow;\n",
       "        }    #T_1d8ffcc6_7fc9_11ea_a441_b9d210088f5arow8_col1 {\n",
       "            background-color: yellow;\n",
       "        }    #T_1d8ffcc6_7fc9_11ea_a441_b9d210088f5arow8_col4 {\n",
       "            background-color: yellow;\n",
       "        }    #T_1d8ffcc6_7fc9_11ea_a441_b9d210088f5arow8_col5 {\n",
       "            background-color: yellow;\n",
       "        }    #T_1d8ffcc6_7fc9_11ea_a441_b9d210088f5arow9_col0 {\n",
       "            background-color: yellow;\n",
       "        }    #T_1d8ffcc6_7fc9_11ea_a441_b9d210088f5arow9_col1 {\n",
       "            background-color: yellow;\n",
       "        }    #T_1d8ffcc6_7fc9_11ea_a441_b9d210088f5arow9_col4 {\n",
       "            background-color: yellow;\n",
       "        }    #T_1d8ffcc6_7fc9_11ea_a441_b9d210088f5arow9_col5 {\n",
       "            background-color: yellow;\n",
       "        }</style><table id=\"T_1d8ffcc6_7fc9_11ea_a441_b9d210088f5a\" ><thead>    <tr>        <th class=\"blank level0\" ></th>        <th class=\"col_heading level0 col0\" colspan=4>aluminium alloy production, AlMg3[RER] (1.000000 kilogram)</th>        <th class=\"col_heading level0 col4\" colspan=4>Alu2[RER] (1.000000 kilogram)</th>    </tr>    <tr>        <th class=\"blank level1\" ></th>        <th class=\"col_heading level1 col0\" >input</th>        <th class=\"col_heading level1 col1\" >amount</th>        <th class=\"col_heading level1 col2\" >unit</th>        <th class=\"col_heading level1 col3\" >type</th>        <th class=\"col_heading level1 col4\" >input</th>        <th class=\"col_heading level1 col5\" >amount</th>        <th class=\"col_heading level1 col6\" >unit</th>        <th class=\"col_heading level1 col7\" >type</th>    </tr></thead><tbody>\n",
       "                <tr>\n",
       "                        <th id=\"T_1d8ffcc6_7fc9_11ea_a441_b9d210088f5alevel0_row0\" class=\"row_heading level0 row0\" >aluminium alloy, AlMg3#RER</th>\n",
       "                        <td id=\"T_1d8ffcc6_7fc9_11ea_a441_b9d210088f5arow0_col0\" class=\"data row0 col0\" >'aluminium alloy production, AlMg3' (kilogram, RER, None)</td>\n",
       "                        <td id=\"T_1d8ffcc6_7fc9_11ea_a441_b9d210088f5arow0_col1\" class=\"data row0 col1\" >1.000000</td>\n",
       "                        <td id=\"T_1d8ffcc6_7fc9_11ea_a441_b9d210088f5arow0_col2\" class=\"data row0 col2\" >kilogram</td>\n",
       "                        <td id=\"T_1d8ffcc6_7fc9_11ea_a441_b9d210088f5arow0_col3\" class=\"data row0 col3\" >production</td>\n",
       "                        <td id=\"T_1d8ffcc6_7fc9_11ea_a441_b9d210088f5arow0_col4\" class=\"data row0 col4\" >nan</td>\n",
       "                        <td id=\"T_1d8ffcc6_7fc9_11ea_a441_b9d210088f5arow0_col5\" class=\"data row0 col5\" >nan</td>\n",
       "                        <td id=\"T_1d8ffcc6_7fc9_11ea_a441_b9d210088f5arow0_col6\" class=\"data row0 col6\" >nan</td>\n",
       "                        <td id=\"T_1d8ffcc6_7fc9_11ea_a441_b9d210088f5arow0_col7\" class=\"data row0 col7\" >nan</td>\n",
       "            </tr>\n",
       "            <tr>\n",
       "                        <th id=\"T_1d8ffcc6_7fc9_11ea_a441_b9d210088f5alevel0_row1\" class=\"row_heading level0 row1\" >aluminium alloy, AlMg3#RER {user-db}</th>\n",
       "                        <td id=\"T_1d8ffcc6_7fc9_11ea_a441_b9d210088f5arow1_col0\" class=\"data row1 col0\" >nan</td>\n",
       "                        <td id=\"T_1d8ffcc6_7fc9_11ea_a441_b9d210088f5arow1_col1\" class=\"data row1 col1\" >nan</td>\n",
       "                        <td id=\"T_1d8ffcc6_7fc9_11ea_a441_b9d210088f5arow1_col2\" class=\"data row1 col2\" >nan</td>\n",
       "                        <td id=\"T_1d8ffcc6_7fc9_11ea_a441_b9d210088f5arow1_col3\" class=\"data row1 col3\" >nan</td>\n",
       "                        <td id=\"T_1d8ffcc6_7fc9_11ea_a441_b9d210088f5arow1_col4\" class=\"data row1 col4\" >'Alu2' (kilogram, RER, None)</td>\n",
       "                        <td id=\"T_1d8ffcc6_7fc9_11ea_a441_b9d210088f5arow1_col5\" class=\"data row1 col5\" >1.000000</td>\n",
       "                        <td id=\"T_1d8ffcc6_7fc9_11ea_a441_b9d210088f5arow1_col6\" class=\"data row1 col6\" >kilogram</td>\n",
       "                        <td id=\"T_1d8ffcc6_7fc9_11ea_a441_b9d210088f5arow1_col7\" class=\"data row1 col7\" >production</td>\n",
       "            </tr>\n",
       "            <tr>\n",
       "                        <th id=\"T_1d8ffcc6_7fc9_11ea_a441_b9d210088f5alevel0_row2\" class=\"row_heading level0 row2\" >aluminium scrap, new, Recycled Content cut-off</th>\n",
       "                        <td id=\"T_1d8ffcc6_7fc9_11ea_a441_b9d210088f5arow2_col0\" class=\"data row2 col0\" >nan</td>\n",
       "                        <td id=\"T_1d8ffcc6_7fc9_11ea_a441_b9d210088f5arow2_col1\" class=\"data row2 col1\" >nan</td>\n",
       "                        <td id=\"T_1d8ffcc6_7fc9_11ea_a441_b9d210088f5arow2_col2\" class=\"data row2 col2\" >nan</td>\n",
       "                        <td id=\"T_1d8ffcc6_7fc9_11ea_a441_b9d210088f5arow2_col3\" class=\"data row2 col3\" >nan</td>\n",
       "                        <td id=\"T_1d8ffcc6_7fc9_11ea_a441_b9d210088f5arow2_col4\" class=\"data row2 col4\" >'aluminium scrap, new, Recycled Content cut-off' (kilogram, GLO, None)</td>\n",
       "                        <td id=\"T_1d8ffcc6_7fc9_11ea_a441_b9d210088f5arow2_col5\" class=\"data row2 col5\" >12</td>\n",
       "                        <td id=\"T_1d8ffcc6_7fc9_11ea_a441_b9d210088f5arow2_col6\" class=\"data row2 col6\" >kilogram</td>\n",
       "                        <td id=\"T_1d8ffcc6_7fc9_11ea_a441_b9d210088f5arow2_col7\" class=\"data row2 col7\" >technosphere</td>\n",
       "            </tr>\n",
       "            <tr>\n",
       "                        <th id=\"T_1d8ffcc6_7fc9_11ea_a441_b9d210088f5alevel0_row3\" class=\"row_heading level0 row3\" >aluminium, cast alloy</th>\n",
       "                        <td id=\"T_1d8ffcc6_7fc9_11ea_a441_b9d210088f5arow3_col0\" class=\"data row3 col0\" >'market for aluminium, cast alloy' (kilogram, GLO, None)</td>\n",
       "                        <td id=\"T_1d8ffcc6_7fc9_11ea_a441_b9d210088f5arow3_col1\" class=\"data row3 col1\" >0.965000</td>\n",
       "                        <td id=\"T_1d8ffcc6_7fc9_11ea_a441_b9d210088f5arow3_col2\" class=\"data row3 col2\" >kilogram</td>\n",
       "                        <td id=\"T_1d8ffcc6_7fc9_11ea_a441_b9d210088f5arow3_col3\" class=\"data row3 col3\" >technosphere</td>\n",
       "                        <td id=\"T_1d8ffcc6_7fc9_11ea_a441_b9d210088f5arow3_col4\" class=\"data row3 col4\" >'market for aluminium, cast alloy' (kilogram, GLO, None)</td>\n",
       "                        <td id=\"T_1d8ffcc6_7fc9_11ea_a441_b9d210088f5arow3_col5\" class=\"data row3 col5\" >0.965 - 0.965*share_recycled_aluminium</td>\n",
       "                        <td id=\"T_1d8ffcc6_7fc9_11ea_a441_b9d210088f5arow3_col6\" class=\"data row3 col6\" >kilogram</td>\n",
       "                        <td id=\"T_1d8ffcc6_7fc9_11ea_a441_b9d210088f5arow3_col7\" class=\"data row3 col7\" >technosphere</td>\n",
       "            </tr>\n",
       "            <tr>\n",
       "                        <th id=\"T_1d8ffcc6_7fc9_11ea_a441_b9d210088f5alevel0_row4\" class=\"row_heading level0 row4\" >cast iron</th>\n",
       "                        <td id=\"T_1d8ffcc6_7fc9_11ea_a441_b9d210088f5arow4_col0\" class=\"data row4 col0\" >'market for cast iron' (kilogram, GLO, None)</td>\n",
       "                        <td id=\"T_1d8ffcc6_7fc9_11ea_a441_b9d210088f5arow4_col1\" class=\"data row4 col1\" >0.004060</td>\n",
       "                        <td id=\"T_1d8ffcc6_7fc9_11ea_a441_b9d210088f5arow4_col2\" class=\"data row4 col2\" >kilogram</td>\n",
       "                        <td id=\"T_1d8ffcc6_7fc9_11ea_a441_b9d210088f5arow4_col3\" class=\"data row4 col3\" >technosphere</td>\n",
       "                        <td id=\"T_1d8ffcc6_7fc9_11ea_a441_b9d210088f5arow4_col4\" class=\"data row4 col4\" >'market for cast iron' (kilogram, GLO, None)</td>\n",
       "                        <td id=\"T_1d8ffcc6_7fc9_11ea_a441_b9d210088f5arow4_col5\" class=\"data row4 col5\" >0.004060</td>\n",
       "                        <td id=\"T_1d8ffcc6_7fc9_11ea_a441_b9d210088f5arow4_col6\" class=\"data row4 col6\" >kilogram</td>\n",
       "                        <td id=\"T_1d8ffcc6_7fc9_11ea_a441_b9d210088f5arow4_col7\" class=\"data row4 col7\" >technosphere</td>\n",
       "            </tr>\n",
       "            <tr>\n",
       "                        <th id=\"T_1d8ffcc6_7fc9_11ea_a441_b9d210088f5alevel0_row5\" class=\"row_heading level0 row5\" >chromium</th>\n",
       "                        <td id=\"T_1d8ffcc6_7fc9_11ea_a441_b9d210088f5arow5_col0\" class=\"data row5 col0\" >'market for chromium' (kilogram, GLO, None)</td>\n",
       "                        <td id=\"T_1d8ffcc6_7fc9_11ea_a441_b9d210088f5arow5_col1\" class=\"data row5 col1\" >0.003050</td>\n",
       "                        <td id=\"T_1d8ffcc6_7fc9_11ea_a441_b9d210088f5arow5_col2\" class=\"data row5 col2\" >kilogram</td>\n",
       "                        <td id=\"T_1d8ffcc6_7fc9_11ea_a441_b9d210088f5arow5_col3\" class=\"data row5 col3\" >technosphere</td>\n",
       "                        <td id=\"T_1d8ffcc6_7fc9_11ea_a441_b9d210088f5arow5_col4\" class=\"data row5 col4\" >nan</td>\n",
       "                        <td id=\"T_1d8ffcc6_7fc9_11ea_a441_b9d210088f5arow5_col5\" class=\"data row5 col5\" >nan</td>\n",
       "                        <td id=\"T_1d8ffcc6_7fc9_11ea_a441_b9d210088f5arow5_col6\" class=\"data row5 col6\" >nan</td>\n",
       "                        <td id=\"T_1d8ffcc6_7fc9_11ea_a441_b9d210088f5arow5_col7\" class=\"data row5 col7\" >nan</td>\n",
       "            </tr>\n",
       "            <tr>\n",
       "                        <th id=\"T_1d8ffcc6_7fc9_11ea_a441_b9d210088f5alevel0_row6\" class=\"row_heading level0 row6\" >chromium {user-db}</th>\n",
       "                        <td id=\"T_1d8ffcc6_7fc9_11ea_a441_b9d210088f5arow6_col0\" class=\"data row6 col0\" >nan</td>\n",
       "                        <td id=\"T_1d8ffcc6_7fc9_11ea_a441_b9d210088f5arow6_col1\" class=\"data row6 col1\" >nan</td>\n",
       "                        <td id=\"T_1d8ffcc6_7fc9_11ea_a441_b9d210088f5arow6_col2\" class=\"data row6 col2\" >nan</td>\n",
       "                        <td id=\"T_1d8ffcc6_7fc9_11ea_a441_b9d210088f5arow6_col3\" class=\"data row6 col3\" >nan</td>\n",
       "                        <td id=\"T_1d8ffcc6_7fc9_11ea_a441_b9d210088f5arow6_col4\" class=\"data row6 col4\" >'first foreground activity' (kg, GLO, None)</td>\n",
       "                        <td id=\"T_1d8ffcc6_7fc9_11ea_a441_b9d210088f5arow6_col5\" class=\"data row6 col5\" >4.000000</td>\n",
       "                        <td id=\"T_1d8ffcc6_7fc9_11ea_a441_b9d210088f5arow6_col6\" class=\"data row6 col6\" >kg</td>\n",
       "                        <td id=\"T_1d8ffcc6_7fc9_11ea_a441_b9d210088f5arow6_col7\" class=\"data row6 col7\" >technosphere</td>\n",
       "            </tr>\n",
       "            <tr>\n",
       "                        <th id=\"T_1d8ffcc6_7fc9_11ea_a441_b9d210088f5alevel0_row7\" class=\"row_heading level0 row7\" >copper</th>\n",
       "                        <td id=\"T_1d8ffcc6_7fc9_11ea_a441_b9d210088f5arow7_col0\" class=\"data row7 col0\" >'market for copper' (kilogram, GLO, None)</td>\n",
       "                        <td id=\"T_1d8ffcc6_7fc9_11ea_a441_b9d210088f5arow7_col1\" class=\"data row7 col1\" >0.001020</td>\n",
       "                        <td id=\"T_1d8ffcc6_7fc9_11ea_a441_b9d210088f5arow7_col2\" class=\"data row7 col2\" >kilogram</td>\n",
       "                        <td id=\"T_1d8ffcc6_7fc9_11ea_a441_b9d210088f5arow7_col3\" class=\"data row7 col3\" >technosphere</td>\n",
       "                        <td id=\"T_1d8ffcc6_7fc9_11ea_a441_b9d210088f5arow7_col4\" class=\"data row7 col4\" >'market for copper' (kilogram, GLO, None)</td>\n",
       "                        <td id=\"T_1d8ffcc6_7fc9_11ea_a441_b9d210088f5arow7_col5\" class=\"data row7 col5\" >0.001020</td>\n",
       "                        <td id=\"T_1d8ffcc6_7fc9_11ea_a441_b9d210088f5arow7_col6\" class=\"data row7 col6\" >kilogram</td>\n",
       "                        <td id=\"T_1d8ffcc6_7fc9_11ea_a441_b9d210088f5arow7_col7\" class=\"data row7 col7\" >technosphere</td>\n",
       "            </tr>\n",
       "            <tr>\n",
       "                        <th id=\"T_1d8ffcc6_7fc9_11ea_a441_b9d210088f5alevel0_row8\" class=\"row_heading level0 row8\" >electricity, high voltage, aluminium industry {user-db}</th>\n",
       "                        <td id=\"T_1d8ffcc6_7fc9_11ea_a441_b9d210088f5arow8_col0\" class=\"data row8 col0\" >nan</td>\n",
       "                        <td id=\"T_1d8ffcc6_7fc9_11ea_a441_b9d210088f5arow8_col1\" class=\"data row8 col1\" >nan</td>\n",
       "                        <td id=\"T_1d8ffcc6_7fc9_11ea_a441_b9d210088f5arow8_col2\" class=\"data row8 col2\" >nan</td>\n",
       "                        <td id=\"T_1d8ffcc6_7fc9_11ea_a441_b9d210088f5arow8_col3\" class=\"data row8 col3\" >nan</td>\n",
       "                        <td id=\"T_1d8ffcc6_7fc9_11ea_a441_b9d210088f5arow8_col4\" class=\"data row8 col4\" >'elect mix' (kilowatt hour, GLO, None)</td>\n",
       "                        <td id=\"T_1d8ffcc6_7fc9_11ea_a441_b9d210088f5arow8_col5\" class=\"data row8 col5\" >1.590000</td>\n",
       "                        <td id=\"T_1d8ffcc6_7fc9_11ea_a441_b9d210088f5arow8_col6\" class=\"data row8 col6\" >kilowatt hour</td>\n",
       "                        <td id=\"T_1d8ffcc6_7fc9_11ea_a441_b9d210088f5arow8_col7\" class=\"data row8 col7\" >technosphere</td>\n",
       "            </tr>\n",
       "            <tr>\n",
       "                        <th id=\"T_1d8ffcc6_7fc9_11ea_a441_b9d210088f5alevel0_row9\" class=\"row_heading level0 row9\" >electricity, high voltage, aluminium industry#IAI Area, EU27 & EFTA</th>\n",
       "                        <td id=\"T_1d8ffcc6_7fc9_11ea_a441_b9d210088f5arow9_col0\" class=\"data row9 col0\" >'market for electricity, high voltage, aluminium industry' (kilowatt hour, IAI Area, EU27 & EFTA, None)</td>\n",
       "                        <td id=\"T_1d8ffcc6_7fc9_11ea_a441_b9d210088f5arow9_col1\" class=\"data row9 col1\" >1.590000</td>\n",
       "                        <td id=\"T_1d8ffcc6_7fc9_11ea_a441_b9d210088f5arow9_col2\" class=\"data row9 col2\" >kilowatt hour</td>\n",
       "                        <td id=\"T_1d8ffcc6_7fc9_11ea_a441_b9d210088f5arow9_col3\" class=\"data row9 col3\" >technosphere</td>\n",
       "                        <td id=\"T_1d8ffcc6_7fc9_11ea_a441_b9d210088f5arow9_col4\" class=\"data row9 col4\" >nan</td>\n",
       "                        <td id=\"T_1d8ffcc6_7fc9_11ea_a441_b9d210088f5arow9_col5\" class=\"data row9 col5\" >nan</td>\n",
       "                        <td id=\"T_1d8ffcc6_7fc9_11ea_a441_b9d210088f5arow9_col6\" class=\"data row9 col6\" >nan</td>\n",
       "                        <td id=\"T_1d8ffcc6_7fc9_11ea_a441_b9d210088f5arow9_col7\" class=\"data row9 col7\" >nan</td>\n",
       "            </tr>\n",
       "            <tr>\n",
       "                        <th id=\"T_1d8ffcc6_7fc9_11ea_a441_b9d210088f5alevel0_row10\" class=\"row_heading level0 row10\" >magnesium</th>\n",
       "                        <td id=\"T_1d8ffcc6_7fc9_11ea_a441_b9d210088f5arow10_col0\" class=\"data row10 col0\" >'market for magnesium' (kilogram, GLO, None)</td>\n",
       "                        <td id=\"T_1d8ffcc6_7fc9_11ea_a441_b9d210088f5arow10_col1\" class=\"data row10 col1\" >0.030500</td>\n",
       "                        <td id=\"T_1d8ffcc6_7fc9_11ea_a441_b9d210088f5arow10_col2\" class=\"data row10 col2\" >kilogram</td>\n",
       "                        <td id=\"T_1d8ffcc6_7fc9_11ea_a441_b9d210088f5arow10_col3\" class=\"data row10 col3\" >technosphere</td>\n",
       "                        <td id=\"T_1d8ffcc6_7fc9_11ea_a441_b9d210088f5arow10_col4\" class=\"data row10 col4\" >'market for magnesium' (kilogram, GLO, None)</td>\n",
       "                        <td id=\"T_1d8ffcc6_7fc9_11ea_a441_b9d210088f5arow10_col5\" class=\"data row10 col5\" >0.030500</td>\n",
       "                        <td id=\"T_1d8ffcc6_7fc9_11ea_a441_b9d210088f5arow10_col6\" class=\"data row10 col6\" >kilogram</td>\n",
       "                        <td id=\"T_1d8ffcc6_7fc9_11ea_a441_b9d210088f5arow10_col7\" class=\"data row10 col7\" >technosphere</td>\n",
       "            </tr>\n",
       "            <tr>\n",
       "                        <th id=\"T_1d8ffcc6_7fc9_11ea_a441_b9d210088f5alevel0_row11\" class=\"row_heading level0 row11\" >manganese</th>\n",
       "                        <td id=\"T_1d8ffcc6_7fc9_11ea_a441_b9d210088f5arow11_col0\" class=\"data row11 col0\" >'market for manganese' (kilogram, GLO, None)</td>\n",
       "                        <td id=\"T_1d8ffcc6_7fc9_11ea_a441_b9d210088f5arow11_col1\" class=\"data row11 col1\" >0.005080</td>\n",
       "                        <td id=\"T_1d8ffcc6_7fc9_11ea_a441_b9d210088f5arow11_col2\" class=\"data row11 col2\" >kilogram</td>\n",
       "                        <td id=\"T_1d8ffcc6_7fc9_11ea_a441_b9d210088f5arow11_col3\" class=\"data row11 col3\" >technosphere</td>\n",
       "                        <td id=\"T_1d8ffcc6_7fc9_11ea_a441_b9d210088f5arow11_col4\" class=\"data row11 col4\" >'market for manganese' (kilogram, GLO, None)</td>\n",
       "                        <td id=\"T_1d8ffcc6_7fc9_11ea_a441_b9d210088f5arow11_col5\" class=\"data row11 col5\" >0.005080</td>\n",
       "                        <td id=\"T_1d8ffcc6_7fc9_11ea_a441_b9d210088f5arow11_col6\" class=\"data row11 col6\" >kilogram</td>\n",
       "                        <td id=\"T_1d8ffcc6_7fc9_11ea_a441_b9d210088f5arow11_col7\" class=\"data row11 col7\" >technosphere</td>\n",
       "            </tr>\n",
       "            <tr>\n",
       "                        <th id=\"T_1d8ffcc6_7fc9_11ea_a441_b9d210088f5alevel0_row12\" class=\"row_heading level0 row12\" >silicon, metallurgical grade</th>\n",
       "                        <td id=\"T_1d8ffcc6_7fc9_11ea_a441_b9d210088f5arow12_col0\" class=\"data row12 col0\" >'market for silicon, metallurgical grade' (kilogram, GLO, None)</td>\n",
       "                        <td id=\"T_1d8ffcc6_7fc9_11ea_a441_b9d210088f5arow12_col1\" class=\"data row12 col1\" >0.004060</td>\n",
       "                        <td id=\"T_1d8ffcc6_7fc9_11ea_a441_b9d210088f5arow12_col2\" class=\"data row12 col2\" >kilogram</td>\n",
       "                        <td id=\"T_1d8ffcc6_7fc9_11ea_a441_b9d210088f5arow12_col3\" class=\"data row12 col3\" >technosphere</td>\n",
       "                        <td id=\"T_1d8ffcc6_7fc9_11ea_a441_b9d210088f5arow12_col4\" class=\"data row12 col4\" >'market for silicon, metallurgical grade' (kilogram, GLO, None)</td>\n",
       "                        <td id=\"T_1d8ffcc6_7fc9_11ea_a441_b9d210088f5arow12_col5\" class=\"data row12 col5\" >0.004060</td>\n",
       "                        <td id=\"T_1d8ffcc6_7fc9_11ea_a441_b9d210088f5arow12_col6\" class=\"data row12 col6\" >kilogram</td>\n",
       "                        <td id=\"T_1d8ffcc6_7fc9_11ea_a441_b9d210088f5arow12_col7\" class=\"data row12 col7\" >technosphere</td>\n",
       "            </tr>\n",
       "            <tr>\n",
       "                        <th id=\"T_1d8ffcc6_7fc9_11ea_a441_b9d210088f5alevel0_row13\" class=\"row_heading level0 row13\" >zinc</th>\n",
       "                        <td id=\"T_1d8ffcc6_7fc9_11ea_a441_b9d210088f5arow13_col0\" class=\"data row13 col0\" >'market for zinc' (kilogram, GLO, None)</td>\n",
       "                        <td id=\"T_1d8ffcc6_7fc9_11ea_a441_b9d210088f5arow13_col1\" class=\"data row13 col1\" >0.002030</td>\n",
       "                        <td id=\"T_1d8ffcc6_7fc9_11ea_a441_b9d210088f5arow13_col2\" class=\"data row13 col2\" >kilogram</td>\n",
       "                        <td id=\"T_1d8ffcc6_7fc9_11ea_a441_b9d210088f5arow13_col3\" class=\"data row13 col3\" >technosphere</td>\n",
       "                        <td id=\"T_1d8ffcc6_7fc9_11ea_a441_b9d210088f5arow13_col4\" class=\"data row13 col4\" >'market for zinc' (kilogram, GLO, None)</td>\n",
       "                        <td id=\"T_1d8ffcc6_7fc9_11ea_a441_b9d210088f5arow13_col5\" class=\"data row13 col5\" >0.002030</td>\n",
       "                        <td id=\"T_1d8ffcc6_7fc9_11ea_a441_b9d210088f5arow13_col6\" class=\"data row13 col6\" >kilogram</td>\n",
       "                        <td id=\"T_1d8ffcc6_7fc9_11ea_a441_b9d210088f5arow13_col7\" class=\"data row13 col7\" >technosphere</td>\n",
       "            </tr>\n",
       "    </tbody></table>"
      ],
      "text/plain": [
       "<pandas.io.formats.style.Styler at 0x7fb2d04afc50>"
      ]
     },
     "metadata": {},
     "output_type": "display_data"
    }
   ],
   "source": [
    "# You print several activities at once to compare them\n",
    "printAct(alu, alu2)"
   ]
  },
  {
   "cell_type": "markdown",
   "metadata": {},
   "source": [
    "# Select the impacts to consider"
   ]
  },
  {
   "cell_type": "code",
   "execution_count": 13,
   "metadata": {
    "ExecuteTime": {
     "end_time": "2020-04-16T10:00:35.022890Z",
     "start_time": "2020-04-16T10:00:34.965329Z"
    }
   },
   "outputs": [],
   "source": [
    "# List of impacts to consider\n",
    "impacts = [m for m in bw.methods if 'ILCD 1.0.8 2016' in str(m) and 'no LT' in str(m)]"
   ]
  },
  {
   "cell_type": "markdown",
   "metadata": {},
   "source": [
    "# Compute LCA\n",
    "\n",
    "We provide two methods  for computing LCA : \n",
    "* **multiLCA** : It uses **brightway2** native parametric support. It is **much slower** and kept for **comparing results**.\n",
    "* **multiLCAAlgebric** : It computes an algebric expression of the model and computes LCA once for all the background activities. Then it express each impact as a function of the parameters. This expression is then compiled into 'numpy' native code, for fast computation on vectors of samples. This version is 1 million time faster."
   ]
  },
  {
   "cell_type": "code",
   "execution_count": 14,
   "metadata": {
    "ExecuteTime": {
     "end_time": "2020-04-16T10:00:36.539564Z",
     "start_time": "2020-04-16T10:00:35.025987Z"
    }
   },
   "outputs": [
    {
     "data": {
      "text/html": [
       "<div>\n",
       "<style scoped>\n",
       "    .dataframe tbody tr th:only-of-type {\n",
       "        vertical-align: middle;\n",
       "    }\n",
       "\n",
       "    .dataframe tbody tr th {\n",
       "        vertical-align: top;\n",
       "    }\n",
       "\n",
       "    .dataframe thead th {\n",
       "        text-align: right;\n",
       "    }\n",
       "</style>\n",
       "<table border=\"1\" class=\"dataframe\">\n",
       "  <thead>\n",
       "    <tr style=\"text-align: right;\">\n",
       "      <th></th>\n",
       "      <th>resources - mineral, fossils and renewables</th>\n",
       "      <th>climate change - GWP 100a</th>\n",
       "      <th>ecosystem quality - freshwater and terrestrial acidification</th>\n",
       "      <th>ecosystem quality - freshwater ecotoxicity</th>\n",
       "      <th>ecosystem quality - freshwater eutrophication</th>\n",
       "      <th>ecosystem quality - ionising radiation</th>\n",
       "      <th>ecosystem quality - marine eutrophication</th>\n",
       "      <th>ecosystem quality - terrestrial eutrophication</th>\n",
       "      <th>human health - carcinogenic effects</th>\n",
       "      <th>human health - ionising radiation</th>\n",
       "      <th>human health - non-carcinogenic effects</th>\n",
       "      <th>human health - ozone layer depletion</th>\n",
       "      <th>human health - photochemical ozone creation</th>\n",
       "      <th>human health - respiratory effects, inorganics</th>\n",
       "      <th>resources - land use</th>\n",
       "    </tr>\n",
       "  </thead>\n",
       "  <tbody>\n",
       "    <tr>\n",
       "      <th>model</th>\n",
       "      <td>0.01151</td>\n",
       "      <td>7.882483</td>\n",
       "      <td>0.045329</td>\n",
       "      <td>7.033544</td>\n",
       "      <td>0.000553</td>\n",
       "      <td>0.000002</td>\n",
       "      <td>0.0061</td>\n",
       "      <td>0.070459</td>\n",
       "      <td>3.416878e-07</td>\n",
       "      <td>0.257641</td>\n",
       "      <td>0.000003</td>\n",
       "      <td>3.334854e-07</td>\n",
       "      <td>0.021609</td>\n",
       "      <td>0.011564</td>\n",
       "      <td>1497.906733</td>\n",
       "    </tr>\n",
       "  </tbody>\n",
       "</table>\n",
       "</div>"
      ],
      "text/plain": [
       "       resources - mineral, fossils and renewables  climate change - GWP 100a  \\\n",
       "model                                      0.01151                   7.882483   \n",
       "\n",
       "       ecosystem quality - freshwater and terrestrial acidification  \\\n",
       "model                                           0.045329              \n",
       "\n",
       "       ecosystem quality - freshwater ecotoxicity  \\\n",
       "model                                    7.033544   \n",
       "\n",
       "       ecosystem quality - freshwater eutrophication  \\\n",
       "model                                       0.000553   \n",
       "\n",
       "       ecosystem quality - ionising radiation  \\\n",
       "model                                0.000002   \n",
       "\n",
       "       ecosystem quality - marine eutrophication  \\\n",
       "model                                     0.0061   \n",
       "\n",
       "       ecosystem quality - terrestrial eutrophication  \\\n",
       "model                                        0.070459   \n",
       "\n",
       "       human health - carcinogenic effects  human health - ionising radiation  \\\n",
       "model                         3.416878e-07                           0.257641   \n",
       "\n",
       "       human health - non-carcinogenic effects  \\\n",
       "model                                 0.000003   \n",
       "\n",
       "       human health - ozone layer depletion  \\\n",
       "model                          3.334854e-07   \n",
       "\n",
       "       human health - photochemical ozone creation  \\\n",
       "model                                     0.021609   \n",
       "\n",
       "       human health - respiratory effects, inorganics  resources - land use  \n",
       "model                                        0.011564           1497.906733  "
      ]
     },
     "execution_count": 14,
     "metadata": {},
     "output_type": "execute_result"
    }
   ],
   "source": [
    "# Uses brightway2 parameters\n",
    "multiLCA(\n",
    "    model, \n",
    "    impacts, \n",
    "                   \n",
    "    # Parameters of the model\n",
    "    a=1, \n",
    "    b=2, \n",
    "    elec_switch_param=\"us\",\n",
    "    share_recycled_aluminium=0.4)"
   ]
  },
  {
   "cell_type": "code",
   "execution_count": 15,
   "metadata": {
    "ExecuteTime": {
     "end_time": "2020-04-16T10:00:38.774124Z",
     "start_time": "2020-04-16T10:00:36.545153Z"
    }
   },
   "outputs": [
    {
     "data": {
      "text/html": [
       "<div>\n",
       "<style scoped>\n",
       "    .dataframe tbody tr th:only-of-type {\n",
       "        vertical-align: middle;\n",
       "    }\n",
       "\n",
       "    .dataframe tbody tr th {\n",
       "        vertical-align: top;\n",
       "    }\n",
       "\n",
       "    .dataframe thead th {\n",
       "        text-align: right;\n",
       "    }\n",
       "</style>\n",
       "<table border=\"1\" class=\"dataframe\">\n",
       "  <thead>\n",
       "    <tr style=\"text-align: right;\">\n",
       "      <th></th>\n",
       "      <th>resources - mineral, fossils and renewables</th>\n",
       "      <th>climate change - GWP 100a</th>\n",
       "      <th>ecosystem quality - freshwater and terrestrial acidification</th>\n",
       "      <th>ecosystem quality - freshwater ecotoxicity</th>\n",
       "      <th>ecosystem quality - freshwater eutrophication</th>\n",
       "      <th>ecosystem quality - ionising radiation</th>\n",
       "      <th>ecosystem quality - marine eutrophication</th>\n",
       "      <th>ecosystem quality - terrestrial eutrophication</th>\n",
       "      <th>human health - carcinogenic effects</th>\n",
       "      <th>human health - ionising radiation</th>\n",
       "      <th>human health - non-carcinogenic effects</th>\n",
       "      <th>human health - ozone layer depletion</th>\n",
       "      <th>human health - photochemical ozone creation</th>\n",
       "      <th>human health - respiratory effects, inorganics</th>\n",
       "      <th>resources - land use</th>\n",
       "    </tr>\n",
       "  </thead>\n",
       "  <tbody>\n",
       "    <tr>\n",
       "      <th>model</th>\n",
       "      <td>0.01151</td>\n",
       "      <td>7.882482</td>\n",
       "      <td>0.045329</td>\n",
       "      <td>7.033544</td>\n",
       "      <td>0.000553</td>\n",
       "      <td>0.000002</td>\n",
       "      <td>0.0061</td>\n",
       "      <td>0.070459</td>\n",
       "      <td>3.416878e-07</td>\n",
       "      <td>0.257641</td>\n",
       "      <td>0.000003</td>\n",
       "      <td>3.334854e-07</td>\n",
       "      <td>0.021609</td>\n",
       "      <td>0.011564</td>\n",
       "      <td>212.526699</td>\n",
       "    </tr>\n",
       "  </tbody>\n",
       "</table>\n",
       "</div>"
      ],
      "text/plain": [
       "       resources - mineral, fossils and renewables  climate change - GWP 100a  \\\n",
       "model                                      0.01151                   7.882482   \n",
       "\n",
       "       ecosystem quality - freshwater and terrestrial acidification  \\\n",
       "model                                           0.045329              \n",
       "\n",
       "       ecosystem quality - freshwater ecotoxicity  \\\n",
       "model                                    7.033544   \n",
       "\n",
       "       ecosystem quality - freshwater eutrophication  \\\n",
       "model                                       0.000553   \n",
       "\n",
       "       ecosystem quality - ionising radiation  \\\n",
       "model                                0.000002   \n",
       "\n",
       "       ecosystem quality - marine eutrophication  \\\n",
       "model                                     0.0061   \n",
       "\n",
       "       ecosystem quality - terrestrial eutrophication  \\\n",
       "model                                        0.070459   \n",
       "\n",
       "       human health - carcinogenic effects  human health - ionising radiation  \\\n",
       "model                         3.416878e-07                           0.257641   \n",
       "\n",
       "       human health - non-carcinogenic effects  \\\n",
       "model                                 0.000003   \n",
       "\n",
       "       human health - ozone layer depletion  \\\n",
       "model                          3.334854e-07   \n",
       "\n",
       "       human health - photochemical ozone creation  \\\n",
       "model                                     0.021609   \n",
       "\n",
       "       human health - respiratory effects, inorganics  resources - land use  \n",
       "model                                        0.011564            212.526699  "
      ]
     },
     "execution_count": 15,
     "metadata": {},
     "output_type": "execute_result"
    }
   ],
   "source": [
    "# Compute with algebric implementation : the values should be the same\n",
    "multiLCAAlgebric(\n",
    "    model, # The model \n",
    "    impacts, # Impacts\n",
    "    \n",
    "    # Parameters of the model\n",
    "    a=1, \n",
    "    elec_switch_param=\"us\",\n",
    "    share_recycled_aluminium=0.4)"
   ]
  },
  {
   "cell_type": "code",
   "execution_count": 16,
   "metadata": {
    "ExecuteTime": {
     "end_time": "2020-04-16T10:00:40.230479Z",
     "start_time": "2020-04-16T10:00:38.779062Z"
    }
   },
   "outputs": [
    {
     "data": {
      "image/png": "[encoded data removed]",
      "text/latex": [
       "$\\displaystyle 0.4 a aluminium_{alloy production AlMg3} + 3 share_{recycled aluminium} \\left(2.8 Heat_{waste} + 6.0 Occupation_{industrial area} + 12 aluminium_{scrap new Recycled Content cut off} + 1.272 elec_{switch param eu} market_{group for electricity medium voltage1} + 1.59 elec_{switch param us} market_{group for electricity medium voltage} + market_{for aluminium cast alloy} \\left(0.965 - 0.965 share_{recycled aluminium}\\right) + 0.00406 market_{for cast iron} + 0.00102 market_{for copper} + 0.0305 market_{for magnesium} + 0.00508 market_{for manganese} + 0.00406 market_{for silicon \\mathcal{metallurgi} grade} + 0.00203 market_{for zinc}\\right) + \\left(0.7 Heat_{waste} + 1.5 Occupation_{industrial area}\\right) \\left(a + 3.5\\right)$"
      ],
      "text/plain": [
       "0.4⋅a⋅aluminium_alloy_production_AlMg3 + 3⋅share_recycled_aluminium⋅(2.8⋅Heat_\n",
       "waste + 6.0⋅Occupation_industrial_area + 12⋅aluminium_scrap_new_Recycled_Conte\n",
       "nt_cut_off + 1.272⋅elec_switch_param_eu⋅market_group_for_electricity_medium_vo\n",
       "ltage1 + 1.59⋅elec_switch_param_us⋅market_group_for_electricity_medium_voltage\n",
       " + market_for_aluminium_cast_alloy⋅(0.965 - 0.965⋅share_recycled_aluminium) + \n",
       "0.00406⋅market_for_cast_iron + 0.00102⋅market_for_copper + 0.0305⋅market_for_m\n",
       "agnesium + 0.00508⋅market_for_manganese + 0.00406⋅market_for_silicon_metallurg\n",
       "ical_grade + 0.00203⋅market_for_zinc) + (0.7⋅Heat_waste + 1.5⋅Occupation_indus\n",
       "trial_area)⋅(a + 3.5)"
      ]
     },
     "execution_count": 16,
     "metadata": {},
     "output_type": "execute_result"
    }
   ],
   "source": [
    "# Here is what the symbolic model looks like :\n",
    "expr, _ = actToExpression(model)\n",
    "expr"
   ]
  },
  {
   "cell_type": "code",
   "execution_count": 17,
   "metadata": {
    "ExecuteTime": {
     "end_time": "2020-04-16T10:00:43.923989Z",
     "start_time": "2020-04-16T10:00:40.234949Z"
    }
   },
   "outputs": [
    {
     "data": {
      "image/png": "[encoded data removed]",
      "text/latex": [
       "$\\displaystyle 3 share_{recycled aluminium} \\left(4.6078580961124 \\cdot 10^{-6} elec_{switch param eu} + 5.01761820204617 \\cdot 10^{-6} elec_{switch param us} - 0.00956905045770992 share_{recycled aluminium} + 0.0100595761919205\\right) + 0.00201262921586069$"
      ],
      "text/plain": [
       "3⋅share_recycled_aluminium⋅(4.6078580961124e-6⋅elec_switch_param_eu + 5.017618\n",
       "20204617e-6⋅elec_switch_param_us - 0.00956905045770992⋅share_recycled_aluminiu\n",
       "m + 0.0100595761919205) + 0.00201262921586069"
      ]
     },
     "execution_count": 17,
     "metadata": {},
     "output_type": "execute_result"
    }
   ],
   "source": [
    "# This method provides a symbolic expresion of the model, it can be simplified by fixing additional parameters\n",
    "ex = simplifiedModel(model, impacts, extraFixedParams=[a])\n",
    "ex[0]"
   ]
  },
  {
   "cell_type": "code",
   "execution_count": 18,
   "metadata": {
    "ExecuteTime": {
     "end_time": "2020-04-16T10:00:47.438764Z",
     "start_time": "2020-04-16T10:00:43.926957Z"
    }
   },
   "outputs": [
    {
     "name": "stderr",
     "output_type": "stream",
     "text": [
      "Param share_recycled_aluminium not required for model 'aluminium alloy production, AlMg3' (kilogram, RER, None)\n",
      "Param elec_switch_param not required for model 'aluminium alloy production, AlMg3' (kilogram, RER, None)\n"
     ]
    },
    {
     "data": {
      "text/html": [
       "<div>\n",
       "<style scoped>\n",
       "    .dataframe tbody tr th:only-of-type {\n",
       "        vertical-align: middle;\n",
       "    }\n",
       "\n",
       "    .dataframe tbody tr th {\n",
       "        vertical-align: top;\n",
       "    }\n",
       "\n",
       "    .dataframe thead th {\n",
       "        text-align: right;\n",
       "    }\n",
       "</style>\n",
       "<table border=\"1\" class=\"dataframe\">\n",
       "  <thead>\n",
       "    <tr style=\"text-align: right;\">\n",
       "      <th></th>\n",
       "      <th>resources - mineral, fossils and renewables</th>\n",
       "      <th>climate change - GWP 100a</th>\n",
       "      <th>ecosystem quality - freshwater and terrestrial acidification</th>\n",
       "      <th>ecosystem quality - freshwater ecotoxicity</th>\n",
       "      <th>ecosystem quality - freshwater eutrophication</th>\n",
       "      <th>ecosystem quality - ionising radiation</th>\n",
       "      <th>ecosystem quality - marine eutrophication</th>\n",
       "      <th>ecosystem quality - terrestrial eutrophication</th>\n",
       "      <th>human health - carcinogenic effects</th>\n",
       "      <th>human health - ionising radiation</th>\n",
       "      <th>human health - non-carcinogenic effects</th>\n",
       "      <th>human health - ozone layer depletion</th>\n",
       "      <th>human health - photochemical ozone creation</th>\n",
       "      <th>human health - respiratory effects, inorganics</th>\n",
       "      <th>resources - land use</th>\n",
       "    </tr>\n",
       "  </thead>\n",
       "  <tbody>\n",
       "    <tr>\n",
       "      <th>aluminium alloy production, AlMg3[RER]</th>\n",
       "      <td>0.010063</td>\n",
       "      <td>5.731382</td>\n",
       "      <td>0.035596</td>\n",
       "      <td>5.890408</td>\n",
       "      <td>0.000352</td>\n",
       "      <td>0.000001</td>\n",
       "      <td>0.004777</td>\n",
       "      <td>0.054339</td>\n",
       "      <td>2.961301e-07</td>\n",
       "      <td>0.144029</td>\n",
       "      <td>0.000002</td>\n",
       "      <td>2.358739e-07</td>\n",
       "      <td>0.016481</td>\n",
       "      <td>0.007688</td>\n",
       "      <td>4.544623</td>\n",
       "    </tr>\n",
       "    <tr>\n",
       "      <th>Alu2[RER]</th>\n",
       "      <td>0.007194</td>\n",
       "      <td>5.088309</td>\n",
       "      <td>0.028764</td>\n",
       "      <td>4.335949</td>\n",
       "      <td>0.000366</td>\n",
       "      <td>0.000001</td>\n",
       "      <td>0.003863</td>\n",
       "      <td>0.044837</td>\n",
       "      <td>2.035257e-07</td>\n",
       "      <td>0.172125</td>\n",
       "      <td>0.000002</td>\n",
       "      <td>2.138992e-07</td>\n",
       "      <td>0.013672</td>\n",
       "      <td>0.007482</td>\n",
       "      <td>92.712588</td>\n",
       "    </tr>\n",
       "  </tbody>\n",
       "</table>\n",
       "</div>"
      ],
      "text/plain": [
       "                                        resources - mineral, fossils and renewables  \\\n",
       "aluminium alloy production, AlMg3[RER]                                     0.010063   \n",
       "Alu2[RER]                                                                  0.007194   \n",
       "\n",
       "                                        climate change - GWP 100a  \\\n",
       "aluminium alloy production, AlMg3[RER]                   5.731382   \n",
       "Alu2[RER]                                                5.088309   \n",
       "\n",
       "                                        ecosystem quality - freshwater and terrestrial acidification  \\\n",
       "aluminium alloy production, AlMg3[RER]                                           0.035596              \n",
       "Alu2[RER]                                                                        0.028764              \n",
       "\n",
       "                                        ecosystem quality - freshwater ecotoxicity  \\\n",
       "aluminium alloy production, AlMg3[RER]                                    5.890408   \n",
       "Alu2[RER]                                                                 4.335949   \n",
       "\n",
       "                                        ecosystem quality - freshwater eutrophication  \\\n",
       "aluminium alloy production, AlMg3[RER]                                       0.000352   \n",
       "Alu2[RER]                                                                    0.000366   \n",
       "\n",
       "                                        ecosystem quality - ionising radiation  \\\n",
       "aluminium alloy production, AlMg3[RER]                                0.000001   \n",
       "Alu2[RER]                                                             0.000001   \n",
       "\n",
       "                                        ecosystem quality - marine eutrophication  \\\n",
       "aluminium alloy production, AlMg3[RER]                                   0.004777   \n",
       "Alu2[RER]                                                                0.003863   \n",
       "\n",
       "                                        ecosystem quality - terrestrial eutrophication  \\\n",
       "aluminium alloy production, AlMg3[RER]                                        0.054339   \n",
       "Alu2[RER]                                                                     0.044837   \n",
       "\n",
       "                                        human health - carcinogenic effects  \\\n",
       "aluminium alloy production, AlMg3[RER]                         2.961301e-07   \n",
       "Alu2[RER]                                                      2.035257e-07   \n",
       "\n",
       "                                        human health - ionising radiation  \\\n",
       "aluminium alloy production, AlMg3[RER]                           0.144029   \n",
       "Alu2[RER]                                                        0.172125   \n",
       "\n",
       "                                        human health - non-carcinogenic effects  \\\n",
       "aluminium alloy production, AlMg3[RER]                                 0.000002   \n",
       "Alu2[RER]                                                              0.000002   \n",
       "\n",
       "                                        human health - ozone layer depletion  \\\n",
       "aluminium alloy production, AlMg3[RER]                          2.358739e-07   \n",
       "Alu2[RER]                                                       2.138992e-07   \n",
       "\n",
       "                                        human health - photochemical ozone creation  \\\n",
       "aluminium alloy production, AlMg3[RER]                                     0.016481   \n",
       "Alu2[RER]                                                                  0.013672   \n",
       "\n",
       "                                        human health - respiratory effects, inorganics  \\\n",
       "aluminium alloy production, AlMg3[RER]                                        0.007688   \n",
       "Alu2[RER]                                                                     0.007482   \n",
       "\n",
       "                                        resources - land use  \n",
       "aluminium alloy production, AlMg3[RER]              4.544623  \n",
       "Alu2[RER]                                          92.712588  "
      ]
     },
     "execution_count": 18,
     "metadata": {},
     "output_type": "execute_result"
    }
   ],
   "source": [
    "# You can compute several LCAs at a time :\n",
    "multiLCAAlgebric(\n",
    "    [alu, alu2], # The models\n",
    "    \n",
    "    impacts, # Impacts\n",
    "    \n",
    "    # Parameters of the model\n",
    "    share_recycled_aluminium=0.3,\n",
    "    elec_switch_param=\"us\")"
   ]
  },
  {
   "cell_type": "code",
   "execution_count": 19,
   "metadata": {
    "ExecuteTime": {
     "end_time": "2020-04-16T10:00:51.419370Z",
     "start_time": "2020-04-16T10:00:47.443322Z"
    }
   },
   "outputs": [
    {
     "data": {
      "text/html": [
       "<div>\n",
       "<style scoped>\n",
       "    .dataframe tbody tr th:only-of-type {\n",
       "        vertical-align: middle;\n",
       "    }\n",
       "\n",
       "    .dataframe tbody tr th {\n",
       "        vertical-align: top;\n",
       "    }\n",
       "\n",
       "    .dataframe thead th {\n",
       "        text-align: right;\n",
       "    }\n",
       "</style>\n",
       "<table border=\"1\" class=\"dataframe\">\n",
       "  <thead>\n",
       "    <tr style=\"text-align: right;\">\n",
       "      <th></th>\n",
       "      <th>resources - mineral, fossils and renewables</th>\n",
       "      <th>climate change - GWP 100a</th>\n",
       "      <th>ecosystem quality - freshwater and terrestrial acidification</th>\n",
       "      <th>ecosystem quality - freshwater ecotoxicity</th>\n",
       "      <th>ecosystem quality - freshwater eutrophication</th>\n",
       "      <th>ecosystem quality - ionising radiation</th>\n",
       "      <th>ecosystem quality - marine eutrophication</th>\n",
       "      <th>ecosystem quality - terrestrial eutrophication</th>\n",
       "      <th>human health - carcinogenic effects</th>\n",
       "      <th>human health - ionising radiation</th>\n",
       "      <th>human health - non-carcinogenic effects</th>\n",
       "      <th>human health - ozone layer depletion</th>\n",
       "      <th>human health - photochemical ozone creation</th>\n",
       "      <th>human health - respiratory effects, inorganics</th>\n",
       "      <th>resources - land use</th>\n",
       "    </tr>\n",
       "  </thead>\n",
       "  <tbody>\n",
       "    <tr>\n",
       "      <th>0</th>\n",
       "      <td>0.005511</td>\n",
       "      <td>6.999776e+00</td>\n",
       "      <td>0.039485</td>\n",
       "      <td>5.628570e+00</td>\n",
       "      <td>0.000565</td>\n",
       "      <td>0.000003</td>\n",
       "      <td>0.005364</td>\n",
       "      <td>0.069420</td>\n",
       "      <td>3.499349e-07</td>\n",
       "      <td>0.341596</td>\n",
       "      <td>0.000001</td>\n",
       "      <td>3.922766e-07</td>\n",
       "      <td>0.021970</td>\n",
       "      <td>0.014016</td>\n",
       "      <td>3.716098e+02</td>\n",
       "    </tr>\n",
       "    <tr>\n",
       "      <th>1</th>\n",
       "      <td>0.009536</td>\n",
       "      <td>9.292329e+00</td>\n",
       "      <td>0.053724</td>\n",
       "      <td>7.984734e+00</td>\n",
       "      <td>0.000706</td>\n",
       "      <td>0.000003</td>\n",
       "      <td>0.007275</td>\n",
       "      <td>0.091155</td>\n",
       "      <td>4.683870e-07</td>\n",
       "      <td>0.399208</td>\n",
       "      <td>0.000002</td>\n",
       "      <td>4.866262e-07</td>\n",
       "      <td>0.028563</td>\n",
       "      <td>0.017091</td>\n",
       "      <td>3.956277e+02</td>\n",
       "    </tr>\n",
       "    <tr>\n",
       "      <th>2</th>\n",
       "      <td>0.013561</td>\n",
       "      <td>1.158488e+01</td>\n",
       "      <td>0.067962</td>\n",
       "      <td>1.034090e+01</td>\n",
       "      <td>0.000847</td>\n",
       "      <td>0.000004</td>\n",
       "      <td>0.009186</td>\n",
       "      <td>0.112891</td>\n",
       "      <td>5.868390e-07</td>\n",
       "      <td>0.456819</td>\n",
       "      <td>0.000003</td>\n",
       "      <td>5.809757e-07</td>\n",
       "      <td>0.035155</td>\n",
       "      <td>0.020167</td>\n",
       "      <td>4.196455e+02</td>\n",
       "    </tr>\n",
       "    <tr>\n",
       "      <th>3</th>\n",
       "      <td>0.017586</td>\n",
       "      <td>1.387743e+01</td>\n",
       "      <td>0.082200</td>\n",
       "      <td>1.269706e+01</td>\n",
       "      <td>0.000988</td>\n",
       "      <td>0.000004</td>\n",
       "      <td>0.011096</td>\n",
       "      <td>0.134626</td>\n",
       "      <td>7.052910e-07</td>\n",
       "      <td>0.514431</td>\n",
       "      <td>0.000004</td>\n",
       "      <td>6.753253e-07</td>\n",
       "      <td>0.041748</td>\n",
       "      <td>0.023242</td>\n",
       "      <td>4.436634e+02</td>\n",
       "    </tr>\n",
       "    <tr>\n",
       "      <th>4</th>\n",
       "      <td>0.021612</td>\n",
       "      <td>1.616999e+01</td>\n",
       "      <td>0.096439</td>\n",
       "      <td>1.505322e+01</td>\n",
       "      <td>0.001129</td>\n",
       "      <td>0.000005</td>\n",
       "      <td>0.013007</td>\n",
       "      <td>0.156362</td>\n",
       "      <td>8.237431e-07</td>\n",
       "      <td>0.572043</td>\n",
       "      <td>0.000005</td>\n",
       "      <td>7.696748e-07</td>\n",
       "      <td>0.048340</td>\n",
       "      <td>0.026318</td>\n",
       "      <td>4.676812e+02</td>\n",
       "    </tr>\n",
       "    <tr>\n",
       "      <th>...</th>\n",
       "      <td>...</td>\n",
       "      <td>...</td>\n",
       "      <td>...</td>\n",
       "      <td>...</td>\n",
       "      <td>...</td>\n",
       "      <td>...</td>\n",
       "      <td>...</td>\n",
       "      <td>...</td>\n",
       "      <td>...</td>\n",
       "      <td>...</td>\n",
       "      <td>...</td>\n",
       "      <td>...</td>\n",
       "      <td>...</td>\n",
       "      <td>...</td>\n",
       "      <td>...</td>\n",
       "    </tr>\n",
       "    <tr>\n",
       "      <th>999994</th>\n",
       "      <td>4025.239791</td>\n",
       "      <td>2.292546e+06</td>\n",
       "      <td>14238.380265</td>\n",
       "      <td>2.356155e+06</td>\n",
       "      <td>140.840173</td>\n",
       "      <td>0.481567</td>\n",
       "      <td>1910.608984</td>\n",
       "      <td>21735.395929</td>\n",
       "      <td>1.184517e-01</td>\n",
       "      <td>57611.678514</td>\n",
       "      <td>0.867927</td>\n",
       "      <td>9.434938e-02</td>\n",
       "      <td>6592.497880</td>\n",
       "      <td>3075.343067</td>\n",
       "      <td>2.401808e+07</td>\n",
       "    </tr>\n",
       "    <tr>\n",
       "      <th>999995</th>\n",
       "      <td>4025.243816</td>\n",
       "      <td>2.292548e+06</td>\n",
       "      <td>14238.394503</td>\n",
       "      <td>2.356157e+06</td>\n",
       "      <td>140.840314</td>\n",
       "      <td>0.481568</td>\n",
       "      <td>1910.610895</td>\n",
       "      <td>21735.417664</td>\n",
       "      <td>1.184518e-01</td>\n",
       "      <td>57611.736126</td>\n",
       "      <td>0.867928</td>\n",
       "      <td>9.434948e-02</td>\n",
       "      <td>6592.504473</td>\n",
       "      <td>3075.346143</td>\n",
       "      <td>2.401810e+07</td>\n",
       "    </tr>\n",
       "    <tr>\n",
       "      <th>999996</th>\n",
       "      <td>4025.247841</td>\n",
       "      <td>2.292551e+06</td>\n",
       "      <td>14238.408741</td>\n",
       "      <td>2.356159e+06</td>\n",
       "      <td>140.840455</td>\n",
       "      <td>0.481568</td>\n",
       "      <td>1910.612806</td>\n",
       "      <td>21735.439400</td>\n",
       "      <td>1.184519e-01</td>\n",
       "      <td>57611.793737</td>\n",
       "      <td>0.867928</td>\n",
       "      <td>9.434957e-02</td>\n",
       "      <td>6592.511065</td>\n",
       "      <td>3075.349218</td>\n",
       "      <td>2.401813e+07</td>\n",
       "    </tr>\n",
       "    <tr>\n",
       "      <th>999997</th>\n",
       "      <td>4025.251867</td>\n",
       "      <td>2.292553e+06</td>\n",
       "      <td>14238.422980</td>\n",
       "      <td>2.356162e+06</td>\n",
       "      <td>140.840596</td>\n",
       "      <td>0.481569</td>\n",
       "      <td>1910.614716</td>\n",
       "      <td>21735.461135</td>\n",
       "      <td>1.184520e-01</td>\n",
       "      <td>57611.851349</td>\n",
       "      <td>0.867929</td>\n",
       "      <td>9.434966e-02</td>\n",
       "      <td>6592.517658</td>\n",
       "      <td>3075.352293</td>\n",
       "      <td>2.401815e+07</td>\n",
       "    </tr>\n",
       "    <tr>\n",
       "      <th>999998</th>\n",
       "      <td>4025.255892</td>\n",
       "      <td>2.292555e+06</td>\n",
       "      <td>14238.437218</td>\n",
       "      <td>2.356164e+06</td>\n",
       "      <td>140.840737</td>\n",
       "      <td>0.481569</td>\n",
       "      <td>1910.616627</td>\n",
       "      <td>21735.482871</td>\n",
       "      <td>1.184521e-01</td>\n",
       "      <td>57611.908961</td>\n",
       "      <td>0.867930</td>\n",
       "      <td>9.434976e-02</td>\n",
       "      <td>6592.524250</td>\n",
       "      <td>3075.355369</td>\n",
       "      <td>2.401817e+07</td>\n",
       "    </tr>\n",
       "  </tbody>\n",
       "</table>\n",
       "<p>999999 rows × 15 columns</p>\n",
       "</div>"
      ],
      "text/plain": [
       "        resources - mineral, fossils and renewables  \\\n",
       "0                                          0.005511   \n",
       "1                                          0.009536   \n",
       "2                                          0.013561   \n",
       "3                                          0.017586   \n",
       "4                                          0.021612   \n",
       "...                                             ...   \n",
       "999994                                  4025.239791   \n",
       "999995                                  4025.243816   \n",
       "999996                                  4025.247841   \n",
       "999997                                  4025.251867   \n",
       "999998                                  4025.255892   \n",
       "\n",
       "        climate change - GWP 100a  \\\n",
       "0                    6.999776e+00   \n",
       "1                    9.292329e+00   \n",
       "2                    1.158488e+01   \n",
       "3                    1.387743e+01   \n",
       "4                    1.616999e+01   \n",
       "...                           ...   \n",
       "999994               2.292546e+06   \n",
       "999995               2.292548e+06   \n",
       "999996               2.292551e+06   \n",
       "999997               2.292553e+06   \n",
       "999998               2.292555e+06   \n",
       "\n",
       "        ecosystem quality - freshwater and terrestrial acidification  \\\n",
       "0                                                0.039485              \n",
       "1                                                0.053724              \n",
       "2                                                0.067962              \n",
       "3                                                0.082200              \n",
       "4                                                0.096439              \n",
       "...                                                   ...              \n",
       "999994                                       14238.380265              \n",
       "999995                                       14238.394503              \n",
       "999996                                       14238.408741              \n",
       "999997                                       14238.422980              \n",
       "999998                                       14238.437218              \n",
       "\n",
       "        ecosystem quality - freshwater ecotoxicity  \\\n",
       "0                                     5.628570e+00   \n",
       "1                                     7.984734e+00   \n",
       "2                                     1.034090e+01   \n",
       "3                                     1.269706e+01   \n",
       "4                                     1.505322e+01   \n",
       "...                                            ...   \n",
       "999994                                2.356155e+06   \n",
       "999995                                2.356157e+06   \n",
       "999996                                2.356159e+06   \n",
       "999997                                2.356162e+06   \n",
       "999998                                2.356164e+06   \n",
       "\n",
       "        ecosystem quality - freshwater eutrophication  \\\n",
       "0                                            0.000565   \n",
       "1                                            0.000706   \n",
       "2                                            0.000847   \n",
       "3                                            0.000988   \n",
       "4                                            0.001129   \n",
       "...                                               ...   \n",
       "999994                                     140.840173   \n",
       "999995                                     140.840314   \n",
       "999996                                     140.840455   \n",
       "999997                                     140.840596   \n",
       "999998                                     140.840737   \n",
       "\n",
       "        ecosystem quality - ionising radiation  \\\n",
       "0                                     0.000003   \n",
       "1                                     0.000003   \n",
       "2                                     0.000004   \n",
       "3                                     0.000004   \n",
       "4                                     0.000005   \n",
       "...                                        ...   \n",
       "999994                                0.481567   \n",
       "999995                                0.481568   \n",
       "999996                                0.481568   \n",
       "999997                                0.481569   \n",
       "999998                                0.481569   \n",
       "\n",
       "        ecosystem quality - marine eutrophication  \\\n",
       "0                                        0.005364   \n",
       "1                                        0.007275   \n",
       "2                                        0.009186   \n",
       "3                                        0.011096   \n",
       "4                                        0.013007   \n",
       "...                                           ...   \n",
       "999994                                1910.608984   \n",
       "999995                                1910.610895   \n",
       "999996                                1910.612806   \n",
       "999997                                1910.614716   \n",
       "999998                                1910.616627   \n",
       "\n",
       "        ecosystem quality - terrestrial eutrophication  \\\n",
       "0                                             0.069420   \n",
       "1                                             0.091155   \n",
       "2                                             0.112891   \n",
       "3                                             0.134626   \n",
       "4                                             0.156362   \n",
       "...                                                ...   \n",
       "999994                                    21735.395929   \n",
       "999995                                    21735.417664   \n",
       "999996                                    21735.439400   \n",
       "999997                                    21735.461135   \n",
       "999998                                    21735.482871   \n",
       "\n",
       "        human health - carcinogenic effects  \\\n",
       "0                              3.499349e-07   \n",
       "1                              4.683870e-07   \n",
       "2                              5.868390e-07   \n",
       "3                              7.052910e-07   \n",
       "4                              8.237431e-07   \n",
       "...                                     ...   \n",
       "999994                         1.184517e-01   \n",
       "999995                         1.184518e-01   \n",
       "999996                         1.184519e-01   \n",
       "999997                         1.184520e-01   \n",
       "999998                         1.184521e-01   \n",
       "\n",
       "        human health - ionising radiation  \\\n",
       "0                                0.341596   \n",
       "1                                0.399208   \n",
       "2                                0.456819   \n",
       "3                                0.514431   \n",
       "4                                0.572043   \n",
       "...                                   ...   \n",
       "999994                       57611.678514   \n",
       "999995                       57611.736126   \n",
       "999996                       57611.793737   \n",
       "999997                       57611.851349   \n",
       "999998                       57611.908961   \n",
       "\n",
       "        human health - non-carcinogenic effects  \\\n",
       "0                                      0.000001   \n",
       "1                                      0.000002   \n",
       "2                                      0.000003   \n",
       "3                                      0.000004   \n",
       "4                                      0.000005   \n",
       "...                                         ...   \n",
       "999994                                 0.867927   \n",
       "999995                                 0.867928   \n",
       "999996                                 0.867928   \n",
       "999997                                 0.867929   \n",
       "999998                                 0.867930   \n",
       "\n",
       "        human health - ozone layer depletion  \\\n",
       "0                               3.922766e-07   \n",
       "1                               4.866262e-07   \n",
       "2                               5.809757e-07   \n",
       "3                               6.753253e-07   \n",
       "4                               7.696748e-07   \n",
       "...                                      ...   \n",
       "999994                          9.434938e-02   \n",
       "999995                          9.434948e-02   \n",
       "999996                          9.434957e-02   \n",
       "999997                          9.434966e-02   \n",
       "999998                          9.434976e-02   \n",
       "\n",
       "        human health - photochemical ozone creation  \\\n",
       "0                                          0.021970   \n",
       "1                                          0.028563   \n",
       "2                                          0.035155   \n",
       "3                                          0.041748   \n",
       "4                                          0.048340   \n",
       "...                                             ...   \n",
       "999994                                  6592.497880   \n",
       "999995                                  6592.504473   \n",
       "999996                                  6592.511065   \n",
       "999997                                  6592.517658   \n",
       "999998                                  6592.524250   \n",
       "\n",
       "        human health - respiratory effects, inorganics  resources - land use  \n",
       "0                                             0.014016          3.716098e+02  \n",
       "1                                             0.017091          3.956277e+02  \n",
       "2                                             0.020167          4.196455e+02  \n",
       "3                                             0.023242          4.436634e+02  \n",
       "4                                             0.026318          4.676812e+02  \n",
       "...                                                ...                   ...  \n",
       "999994                                     3075.343067          2.401808e+07  \n",
       "999995                                     3075.346143          2.401810e+07  \n",
       "999996                                     3075.349218          2.401813e+07  \n",
       "999997                                     3075.352293          2.401815e+07  \n",
       "999998                                     3075.355369          2.401817e+07  \n",
       "\n",
       "[999999 rows x 15 columns]"
      ]
     },
     "execution_count": 19,
     "metadata": {},
     "output_type": "execute_result"
    }
   ],
   "source": [
    "# Fast computation for millions of separate samples\n",
    "multiLCAAlgebric(\n",
    "    model, # The model \n",
    "    impacts, # Impacts\n",
    "    \n",
    "    # Parameters of the model\n",
    "    a=list(range(1, 1000000)), # All lists should have the same size\n",
    "    share_recycled_aluminium=1,\n",
    "    elec_switch_param=\"eu\")"
   ]
  },
  {
   "cell_type": "markdown",
   "metadata": {},
   "source": [
    " # Statistic functions\n",
    " \n",
    " ## One at a time \n",
    " \n",
    " We provide several functions for computing **statistics** for **local variations** of parameters (one at a time).\n",
    " \n",
    " ### oat_matrix(model, impacts)\n",
    " \n",
    " Shows a **matrix of impacts x parameters** colored according to the variation of the impact in the bounds of the parameter.\n",
    "\n",
    " \n"
   ]
  },
  {
   "cell_type": "code",
   "execution_count": 20,
   "metadata": {
    "ExecuteTime": {
     "end_time": "2020-04-16T10:00:54.079536Z",
     "start_time": "2020-04-16T10:00:51.423515Z"
    }
   },
   "outputs": [
    {
     "data": {
      "image/png": "[encoded data removed]",
      "text/plain": [
       "<Figure size 1224x1224 with 2 Axes>"
      ]
     },
     "metadata": {
      "needs_background": "light"
     },
     "output_type": "display_data"
    }
   ],
   "source": [
    "oat_matrix(model, impacts)"
   ]
  },
  {
   "cell_type": "markdown",
   "metadata": {},
   "source": [
    "### oat_dashboard_matrix\n",
    "\n",
    "This functions draws a dashboard showing :\n",
    "* A dropdown list, for choosing a parameter\n",
    "* Several graphs of evolution of impacts for this parameter\n",
    "* Full table of data\n",
    "* A graph of \"bars\" representing the variation of each impact for this parameter (similar to the information given in oat_matrix) "
   ]
  },
  {
   "cell_type": "code",
   "execution_count": 21,
   "metadata": {
    "ExecuteTime": {
     "end_time": "2020-04-16T10:01:06.074121Z",
     "start_time": "2020-04-16T10:00:54.083006Z"
    }
   },
   "outputs": [
    {
     "data": {
      "application/vnd.jupyter.widget-view+json": {
       "model_id": "f3740510f40f4f7d97bb325351123dc7",
       "version_major": 2,
       "version_minor": 0
      },
      "text/plain": [
       "interactive(children=(Dropdown(description='param', options=('a', 'elec_switch_param', 'share_recycled_alumini…"
      ]
     },
     "metadata": {},
     "output_type": "display_data"
    }
   ],
   "source": [
    "oat_dashboard_interact(model, impacts)"
   ]
  },
  {
   "cell_type": "markdown",
   "metadata": {},
   "source": [
    "## Monte-carlo methods & Sobol indices\n",
    "\n",
    "Here we leverage fast computation of monte-carlo approches. \n",
    "\n",
    "We compute **global sensivity analysis** (GSA).\n",
    "Not only local ones.\n",
    "\n",
    "\n",
    "### Sobol Matrix \n",
    "\n",
    "Similar to OAT matrix, we compute Sobol indices. they represent the ratio between the variance due to a given parameter and the total variance.\n",
    "\n",
    "for easier comparison, we translate those relative sobol indices into \"deviation / mean\" importance :\n",
    "\n",
    "$$RelativeDeviation = \\frac{\\sqrt{sobol(param) \\times totalVariance(impact))}}{mean(impact)}$$\n",
    "\n",
    "\n"
   ]
  },
  {
   "cell_type": "code",
   "execution_count": 22,
   "metadata": {
    "ExecuteTime": {
     "end_time": "2020-04-16T10:01:12.442729Z",
     "start_time": "2020-04-16T10:01:06.078135Z"
    }
   },
   "outputs": [
    {
     "name": "stdout",
     "output_type": "stream",
     "text": [
      "Generating samples ...\n",
      "Transforming samples ...\n",
      "Processing LCA ...\n"
     ]
    },
    {
     "name": "stderr",
     "output_type": "stream",
     "text": [
      "Param bool_param not required for model 'model' (kg, GLO, None)\n",
      "Param techno_param not required for model 'model' (kg, GLO, None)\n",
      "Param b not required for model 'model' (kg, GLO, None)\n"
     ]
    },
    {
     "name": "stdout",
     "output_type": "stream",
     "text": [
      "Processing Sobol indices ...\n"
     ]
    },
    {
     "data": {
      "application/vnd.jupyter.widget-view+json": {
       "model_id": "e9e2afa6946f48ee8a9603b937af3bfe",
       "version_major": 2,
       "version_minor": 0
      },
      "text/plain": [
       "interactive(children=(Dropdown(description='mode', options=(('Raw sobol indices (ST)', 'sobol'), ('Deviation (…"
      ]
     },
     "metadata": {},
     "output_type": "display_data"
    }
   ],
   "source": [
    "# Show sobol indices \n",
    "incer_stochastic_matrix(model, impacts)"
   ]
  },
  {
   "cell_type": "markdown",
   "metadata": {},
   "source": [
    "### Violin graphs\n",
    "\n",
    "We provide a dashboard showing **violin graphs** : the exact probabilistic distribution for each impact. Together with medians of the impacts."
   ]
  },
  {
   "cell_type": "code",
   "execution_count": 23,
   "metadata": {
    "ExecuteTime": {
     "end_time": "2020-04-16T10:01:20.231478Z",
     "start_time": "2020-04-16T10:01:12.451566Z"
    }
   },
   "outputs": [
    {
     "name": "stdout",
     "output_type": "stream",
     "text": [
      "Generating samples ...\n",
      "Transforming samples ...\n",
      "Processing LCA ...\n"
     ]
    },
    {
     "name": "stderr",
     "output_type": "stream",
     "text": [
      "Param bool_param not required for model 'model' (kg, GLO, None)\n",
      "Param techno_param not required for model 'model' (kg, GLO, None)\n",
      "Param b not required for model 'model' (kg, GLO, None)\n"
     ]
    },
    {
     "data": {
      "image/png": "[encoded data removed]",
      "text/plain": [
       "<Figure size 1080x1080 with 15 Axes>"
      ]
     },
     "metadata": {
      "needs_background": "light"
     },
     "output_type": "display_data"
    }
   ],
   "source": [
    "incer_stochastic_violin(model, impacts)"
   ]
  },
  {
   "cell_type": "markdown",
   "metadata": {},
   "source": [
    "### Full dashboard\n",
    "\n",
    "A dashboard groups all this information in a single interface with tabs.\n",
    "\n",
    "It also shows total variation of impacts. This last graph could be improved by showing stacked colored bars with the contribution of each parameter to this variation, according to Sobol indices. "
   ]
  },
  {
   "cell_type": "code",
   "execution_count": 24,
   "metadata": {
    "ExecuteTime": {
     "end_time": "2020-04-16T10:01:31.775696Z",
     "start_time": "2020-04-16T10:01:20.235369Z"
    }
   },
   "outputs": [
    {
     "name": "stdout",
     "output_type": "stream",
     "text": [
      "Generating samples ...\n",
      "Transforming samples ...\n",
      "Processing LCA ...\n"
     ]
    },
    {
     "name": "stderr",
     "output_type": "stream",
     "text": [
      "Param bool_param not required for model 'model' (kg, GLO, None)\n",
      "Param techno_param not required for model 'model' (kg, GLO, None)\n",
      "Param b not required for model 'model' (kg, GLO, None)\n"
     ]
    },
    {
     "name": "stdout",
     "output_type": "stream",
     "text": [
      "Processing Sobol indices ...\n"
     ]
    },
    {
     "data": {
      "application/vnd.jupyter.widget-view+json": {
       "model_id": "d513feaa54cc4177aa725973090b055a",
       "version_major": 2,
       "version_minor": 0
      },
      "text/plain": [
       "Tab(children=(Output(), Output(), Output(), Output()), _titles={'0': 'Violin graphs', '1': 'Impact variations'…"
      ]
     },
     "metadata": {},
     "output_type": "display_data"
    }
   ],
   "source": [
    "incer_stochastic_dashboard(model, impacts)"
   ]
  },
  {
   "cell_type": "code",
   "execution_count": null,
   "metadata": {},
   "outputs": [],
   "source": []
  }
 ],
 "metadata": {
  "jupytext": {
   "formats": "ipynb,Rmd"
  },
  "kernelspec": {
   "display_name": "Python 3",
   "language": "python",
   "name": "python3"
  },
  "language_info": {
   "codemirror_mode": {
    "name": "ipython",
    "version": 3
   },
   "file_extension": ".py",
   "mimetype": "text/x-python",
   "name": "python",
   "nbconvert_exporter": "python",
   "pygments_lexer": "ipython3",
   "version": "3.6.10"
  },
  "toc": {
   "base_numbering": 1,
   "nav_menu": {},
   "number_sections": true,
   "sideBar": true,
   "skip_h1_title": false,
   "title_cell": "Table of Contents",
   "title_sidebar": "Contents",
   "toc_cell": false,
   "toc_position": {},
   "toc_section_display": true,
   "toc_window_display": false
  },
  "varInspector": {
   "cols": {
    "lenName": 16,
    "lenType": 16,
    "lenVar": 40
   },
   "kernels_config": {
    "python": {
     "delete_cmd_postfix": "",
     "delete_cmd_prefix": "del ",
     "library": "var_list.py",
     "varRefreshCmd": "print(var_dic_list())"
    },
    "r": {
     "delete_cmd_postfix": ") ",
     "delete_cmd_prefix": "rm(",
     "library": "var_list.r",
     "varRefreshCmd": "cat(var_dic_list()) "
    }
   },
   "types_to_exclude": [
    "module",
    "function",
    "builtin_function_or_method",
    "instance",
    "_Feature"
   ],
   "window_display": false
  }
 },
 "nbformat": 4,
 "nbformat_minor": 2
}
