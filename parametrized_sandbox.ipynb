{
 "cells": [
  {
   "cell_type": "markdown",
   "metadata": {},
   "source": [
    "# Imports\n",
    "\n",
    "Besides external libraries, we import several function from the local file : `utils.py`"
   ]
  },
  {
   "cell_type": "code",
   "execution_count": 1,
   "metadata": {
    "ExecuteTime": {
     "end_time": "2020-01-22T17:37:32.072802Z",
     "start_time": "2020-01-22T17:37:30.767104Z"
    }
   },
   "outputs": [],
   "source": [
    "%load_ext autoreload\n",
    "%autoreload 2\n",
    "import pandas as pd\n",
    "import time\n",
    "import matplotlib.pyplot as plt\n",
    "import numpy as np\n",
    "import brightway2 as bw\n",
    "\n",
    "# Custom utils defined for inter-acv\n",
    "from utils import *\n",
    "from expression import *"
   ]
  },
  {
   "cell_type": "markdown",
   "metadata": {},
   "source": [
    "# Init brightway2 and databases"
   ]
  },
  {
   "cell_type": "code",
   "execution_count": 2,
   "metadata": {
    "ExecuteTime": {
     "end_time": "2020-01-22T17:37:34.593452Z",
     "start_time": "2020-01-22T17:37:34.500752Z"
    },
    "scrolled": true
   },
   "outputs": [
    {
     "name": "stdout",
     "output_type": "stream",
     "text": [
      "Biosphere database already present!!! No setup is needed\n"
     ]
    },
    {
     "name": "stderr",
     "output_type": "stream",
     "text": [
      "Database 'ecoinvent 3.4 cut off' has already been imported \n",
      "Db incer-acv was here. Reseting it\n"
     ]
    }
   ],
   "source": [
    "# Setup bw2\n",
    "bw.projects.set_current('B_Publication')\n",
    "bw.bw2setup()\n",
    "\n",
    "# Import Ecoinvent DB (if not already done)\n",
    "# Update the PATH to suit your installation\n",
    "importDb(ECOINVENT_DB_NAME, './ecoinvent 3.4_cutoff_ecoSpold02/datasets')\n",
    "\n",
    "# We use a separate DB for defining our model, reset it beforehand\n",
    "resetDb(ACV_DB_NAME)\n",
    "\n",
    "# Parameters are stored at project level : reset them\n",
    "resetParams()"
   ]
  },
  {
   "cell_type": "markdown",
   "metadata": {},
   "source": [
    "# Define parameters\n",
    "\n",
    "We define the parameters of the model."
   ]
  },
  {
   "cell_type": "code",
   "execution_count": 3,
   "metadata": {
    "ExecuteTime": {
     "end_time": "2020-01-22T17:37:37.830183Z",
     "start_time": "2020-01-22T17:37:37.780762Z"
    }
   },
   "outputs": [],
   "source": [
    "# Example 'float' parameter\n",
    "alpha = newParamDef(\n",
    "    'alpha', \n",
    "    ParamType.NUMBER, \n",
    "    default=0.5, \n",
    "    description=\"hello world\")\n",
    "\n",
    "beta = newParamDef(\n",
    "    'beta', \n",
    "    ParamType.NUMBER, \n",
    "    default=0.5, \n",
    "    description=\"foo bar\")\n",
    "\n",
    "# Example 'enum' parameter, acting like a switch between several possibilities\n",
    "elect_switch_param = newParamDef(\n",
    "    'elect_switch_param', \n",
    "    ParamType.ENUM, \n",
    "    values=[\"us\", \"glo\"], \n",
    "    default=\"us\", \n",
    "    description=\"Switch on electricty mix\")"
   ]
  },
  {
   "cell_type": "markdown",
   "metadata": {},
   "source": [
    "# Get references to background activities and product\n",
    "\n",
    "`utils` provide two functions for easy and fast search of activities in reference databases : \n",
    "* **findBioAct** : Search activity in **biosphere3** db\n",
    "* **findTechAct** : Search activity in **ecoinvent** db\n"
   ]
  },
  {
   "cell_type": "code",
   "execution_count": 6,
   "metadata": {
    "ExecuteTime": {
     "end_time": "2020-01-22T17:37:45.111103Z",
     "start_time": "2020-01-22T17:37:45.089871Z"
    }
   },
   "outputs": [],
   "source": [
    "# Biosphere activities\n",
    "occup = findBioAct('Occupation, industrial area')\n",
    "heat = findBioAct('Heat, waste', categories=['air'])\n",
    "\n",
    "# Technosphere activities\n",
    "alu = findTechAct(\"aluminium alloy production\", \"RER\")"
   ]
  },
  {
   "cell_type": "markdown",
   "metadata": {},
   "source": [
    "# Define the model"
   ]
  },
  {
   "cell_type": "code",
   "execution_count": 19,
   "metadata": {
    "ExecuteTime": {
     "end_time": "2020-01-22T17:43:50.480537Z",
     "start_time": "2020-01-22T17:43:50.230032Z"
    }
   },
   "outputs": [
    {
     "name": "stderr",
     "output_type": "stream",
     "text": [
      "Activity 'act1' was already in 'incer-acv'. Overwriting it\n",
      "Activity 'act2' was already in 'incer-acv'. Overwriting it\n"
     ]
    }
   ],
   "source": [
    "# Create new, parametrized activity\n",
    "activity1 = newActivity(\n",
    "    name=\"act1\", unit=\"kg\", # Any extra named arg will be added as activity attribute\n",
    "    exchanges= { # We define exhanges as a dict of 'activity : amount'\n",
    "        occup:3 + alpha, # Amount can be a fixed value \n",
    "        heat: alpha}) # Amount can be a Sympy expression (any arithmetic expression of Parameters)\n",
    "\n",
    "activity2 = newActivity(\n",
    "    name=\"act2\", unit=\"kg\", \n",
    "    exchanges= {\n",
    "        activity1: beta * 5 + alpha, # Reference the activity we just created\n",
    "        heat: 7 - alpha,\n",
    "        alu:0.4 / alpha }) "
   ]
  },
  {
   "cell_type": "code",
   "execution_count": 8,
   "metadata": {
    "ExecuteTime": {
     "end_time": "2020-01-22T17:37:48.373978Z",
     "start_time": "2020-01-22T17:37:48.323674Z"
    }
   },
   "outputs": [
    {
     "data": {
      "text/html": [
       "<div>\n",
       "<style scoped>\n",
       "    .dataframe tbody tr th:only-of-type {\n",
       "        vertical-align: middle;\n",
       "    }\n",
       "\n",
       "    .dataframe tbody tr th {\n",
       "        vertical-align: top;\n",
       "    }\n",
       "\n",
       "    .dataframe thead th {\n",
       "        text-align: right;\n",
       "    }\n",
       "</style>\n",
       "<table border=\"1\" class=\"dataframe\">\n",
       "  <thead>\n",
       "    <tr style=\"text-align: right;\">\n",
       "      <th></th>\n",
       "      <th>amount /formula</th>\n",
       "      <th>unit</th>\n",
       "      <th>type</th>\n",
       "    </tr>\n",
       "  </thead>\n",
       "  <tbody>\n",
       "    <tr>\n",
       "      <th>'Occupation, industrial area' (square meter-year, None, ('natural resource', 'land'))</th>\n",
       "      <td>alpha + 3</td>\n",
       "      <td>square meter-year</td>\n",
       "      <td>biosphere</td>\n",
       "    </tr>\n",
       "    <tr>\n",
       "      <th>'Heat, waste' (megajoule, None, ('air',))</th>\n",
       "      <td>alpha</td>\n",
       "      <td>megajoule</td>\n",
       "      <td>biosphere</td>\n",
       "    </tr>\n",
       "  </tbody>\n",
       "</table>\n",
       "</div>"
      ],
      "text/plain": [
       "                                                   amount /formula  \\\n",
       "'Occupation, industrial area' (square meter-yea...       alpha + 3   \n",
       "'Heat, waste' (megajoule, None, ('air',))                    alpha   \n",
       "\n",
       "                                                                 unit  \\\n",
       "'Occupation, industrial area' (square meter-yea...  square meter-year   \n",
       "'Heat, waste' (megajoule, None, ('air',))                   megajoule   \n",
       "\n",
       "                                                         type  \n",
       "'Occupation, industrial area' (square meter-yea...  biosphere  \n",
       "'Heat, waste' (megajoule, None, ('air',))           biosphere  "
      ]
     },
     "metadata": {},
     "output_type": "display_data"
    },
    {
     "data": {
      "text/html": [
       "<div>\n",
       "<style scoped>\n",
       "    .dataframe tbody tr th:only-of-type {\n",
       "        vertical-align: middle;\n",
       "    }\n",
       "\n",
       "    .dataframe tbody tr th {\n",
       "        vertical-align: top;\n",
       "    }\n",
       "\n",
       "    .dataframe thead th {\n",
       "        text-align: right;\n",
       "    }\n",
       "</style>\n",
       "<table border=\"1\" class=\"dataframe\">\n",
       "  <thead>\n",
       "    <tr style=\"text-align: right;\">\n",
       "      <th></th>\n",
       "      <th>amount /formula</th>\n",
       "      <th>unit</th>\n",
       "      <th>type</th>\n",
       "    </tr>\n",
       "  </thead>\n",
       "  <tbody>\n",
       "    <tr>\n",
       "      <th>'act1' (kg, GLO, None)</th>\n",
       "      <td>alpha + 5*beta</td>\n",
       "      <td>kg</td>\n",
       "      <td>technosphere</td>\n",
       "    </tr>\n",
       "    <tr>\n",
       "      <th>'Heat, waste' (megajoule, None, ('air',))</th>\n",
       "      <td>7 - alpha</td>\n",
       "      <td>megajoule</td>\n",
       "      <td>biosphere</td>\n",
       "    </tr>\n",
       "    <tr>\n",
       "      <th>'aluminium alloy production, AlMg3' (kilogram, RER, None)</th>\n",
       "      <td>0.4/alpha</td>\n",
       "      <td>kilogram</td>\n",
       "      <td>technosphere</td>\n",
       "    </tr>\n",
       "  </tbody>\n",
       "</table>\n",
       "</div>"
      ],
      "text/plain": [
       "                                                   amount /formula       unit  \\\n",
       "'act1' (kg, GLO, None)                              alpha + 5*beta         kg   \n",
       "'Heat, waste' (megajoule, None, ('air',))                7 - alpha  megajoule   \n",
       "'aluminium alloy production, AlMg3' (kilogram, ...       0.4/alpha   kilogram   \n",
       "\n",
       "                                                            type  \n",
       "'act1' (kg, GLO, None)                              technosphere  \n",
       "'Heat, waste' (megajoule, None, ('air',))              biosphere  \n",
       "'aluminium alloy production, AlMg3' (kilogram, ...  technosphere  "
      ]
     },
     "metadata": {},
     "output_type": "display_data"
    }
   ],
   "source": [
    "print_act(activity1) \n",
    "print_act(activity2)\n",
    "          \n",
    "# Note that symbolic expressions have not been evaluated at this stage"
   ]
  },
  {
   "cell_type": "code",
   "execution_count": 9,
   "metadata": {
    "ExecuteTime": {
     "end_time": "2020-01-22T17:37:50.017640Z",
     "start_time": "2020-01-22T17:37:49.870298Z"
    }
   },
   "outputs": [
    {
     "ename": "NameError",
     "evalue": "name 'us_elec' is not defined",
     "output_type": "error",
     "traceback": [
      "\u001b[0;31m---------------------------------------------------------------------------\u001b[0m",
      "\u001b[0;31mNameError\u001b[0m                                 Traceback (most recent call last)",
      "\u001b[0;32m<ipython-input-9-2f2d6db706ce>\u001b[0m in \u001b[0;36m<module>\u001b[0;34m\u001b[0m\n\u001b[1;32m      1\u001b[0m elec_switch_activity = switch(\n\u001b[1;32m      2\u001b[0m     elect_switch_param, dict(\n\u001b[0;32m----> 3\u001b[0;31m         \u001b[0mus\u001b[0m\u001b[0;34m=\u001b[0m\u001b[0mus_elec\u001b[0m\u001b[0;34m,\u001b[0m\u001b[0;34m\u001b[0m\u001b[0;34m\u001b[0m\u001b[0m\n\u001b[0m\u001b[1;32m      4\u001b[0m         glo=glo_elec))\n\u001b[1;32m      5\u001b[0m \u001b[0;34m\u001b[0m\u001b[0m\n",
      "\u001b[0;31mNameError\u001b[0m: name 'us_elec' is not defined"
     ]
    }
   ],
   "source": [
    "elec_switch_activity = switch(\n",
    "    elect_switch_param, dict(\n",
    "        us=us_elec, \n",
    "        glo=glo_elec))\n",
    "\n",
    "print_act(elec_switch_activity)"
   ]
  },
  {
   "cell_type": "markdown",
   "metadata": {},
   "source": [
    "# Select the impacts to consider"
   ]
  },
  {
   "cell_type": "code",
   "execution_count": 10,
   "metadata": {
    "ExecuteTime": {
     "end_time": "2020-01-22T17:37:52.482258Z",
     "start_time": "2020-01-22T17:37:52.459516Z"
    }
   },
   "outputs": [],
   "source": [
    "# List of impacts to consider\n",
    "impacts = [m for m in bw.methods if 'ILCD 1.0.8 2016' in str(m) and 'no LT' in str(m)]"
   ]
  },
  {
   "cell_type": "markdown",
   "metadata": {},
   "source": [
    "# Compute LCA\n",
    "\n",
    "We provide two methods to compute LCA : \n",
    "* **multiLCAWithParams** : it uses brightway2 parametric capabilities\n",
    "* **multiLCAWithParamsAlgebric** : This implementation allows list of sample values as parameter values. \n",
    "It computes an algebric expression of the model and compute LCA once for the background activities. Then it evaluates each impact with numpy compilation of the expression, provided by Sympy : It enables to compute whole list of sample values at once. It is extremely fast (more than 1 million time faster than using brightway2 parameters) : "
   ]
  },
  {
   "cell_type": "code",
   "execution_count": 11,
   "metadata": {
    "ExecuteTime": {
     "end_time": "2020-01-22T17:37:54.599169Z",
     "start_time": "2020-01-22T17:37:54.074211Z"
    },
    "scrolled": true
   },
   "outputs": [
    {
     "data": {
      "text/html": [
       "<div>\n",
       "<style scoped>\n",
       "    .dataframe tbody tr th:only-of-type {\n",
       "        vertical-align: middle;\n",
       "    }\n",
       "\n",
       "    .dataframe tbody tr th {\n",
       "        vertical-align: top;\n",
       "    }\n",
       "\n",
       "    .dataframe thead th {\n",
       "        text-align: right;\n",
       "    }\n",
       "</style>\n",
       "<table border=\"1\" class=\"dataframe\">\n",
       "  <thead>\n",
       "    <tr style=\"text-align: right;\">\n",
       "      <th></th>\n",
       "      <th>act2</th>\n",
       "    </tr>\n",
       "  </thead>\n",
       "  <tbody>\n",
       "    <tr>\n",
       "      <th>(ILCD 1.0.8 2016 midpoint no LT (obsolete), resources, mineral, fossils and renewables)</th>\n",
       "      <td>4.025258e-03</td>\n",
       "    </tr>\n",
       "    <tr>\n",
       "      <th>(ILCD 1.0.8 2016 midpoint no LT (obsolete), climate change, GWP 100a)</th>\n",
       "      <td>2.292553e+00</td>\n",
       "    </tr>\n",
       "    <tr>\n",
       "      <th>(ILCD 1.0.8 2016 midpoint no LT (obsolete), ecosystem quality, freshwater and terrestrial acidification)</th>\n",
       "      <td>1.423843e-02</td>\n",
       "    </tr>\n",
       "    <tr>\n",
       "      <th>(ILCD 1.0.8 2016 midpoint no LT (obsolete), ecosystem quality, freshwater ecotoxicity)</th>\n",
       "      <td>2.356163e+00</td>\n",
       "    </tr>\n",
       "    <tr>\n",
       "      <th>(ILCD 1.0.8 2016 midpoint no LT (obsolete), ecosystem quality, freshwater eutrophication)</th>\n",
       "      <td>1.408405e-04</td>\n",
       "    </tr>\n",
       "    <tr>\n",
       "      <th>(ILCD 1.0.8 2016 midpoint no LT (obsolete), ecosystem quality, ionising radiation)</th>\n",
       "      <td>4.815676e-07</td>\n",
       "    </tr>\n",
       "    <tr>\n",
       "      <th>(ILCD 1.0.8 2016 midpoint no LT (obsolete), ecosystem quality, marine eutrophication)</th>\n",
       "      <td>1.910615e-03</td>\n",
       "    </tr>\n",
       "    <tr>\n",
       "      <th>(ILCD 1.0.8 2016 midpoint no LT (obsolete), ecosystem quality, terrestrial eutrophication)</th>\n",
       "      <td>2.173546e-02</td>\n",
       "    </tr>\n",
       "    <tr>\n",
       "      <th>(ILCD 1.0.8 2016 midpoint no LT (obsolete), human health, carcinogenic effects)</th>\n",
       "      <td>1.184520e-07</td>\n",
       "    </tr>\n",
       "    <tr>\n",
       "      <th>(ILCD 1.0.8 2016 midpoint no LT (obsolete), human health, ionising radiation)</th>\n",
       "      <td>5.761168e-02</td>\n",
       "    </tr>\n",
       "    <tr>\n",
       "      <th>(ILCD 1.0.8 2016 midpoint no LT (obsolete), human health, non-carcinogenic effects)</th>\n",
       "      <td>8.679305e-07</td>\n",
       "    </tr>\n",
       "    <tr>\n",
       "      <th>(ILCD 1.0.8 2016 midpoint no LT (obsolete), human health, ozone layer depletion)</th>\n",
       "      <td>9.434956e-08</td>\n",
       "    </tr>\n",
       "    <tr>\n",
       "      <th>(ILCD 1.0.8 2016 midpoint no LT (obsolete), human health, photochemical ozone creation)</th>\n",
       "      <td>6.592516e-03</td>\n",
       "    </tr>\n",
       "    <tr>\n",
       "      <th>(ILCD 1.0.8 2016 midpoint no LT (obsolete), human health, respiratory effects, inorganics)</th>\n",
       "      <td>3.075348e-03</td>\n",
       "    </tr>\n",
       "    <tr>\n",
       "      <th>(ILCD 1.0.8 2016 midpoint no LT (obsolete), resources, land use)</th>\n",
       "      <td>1.817849e+00</td>\n",
       "    </tr>\n",
       "  </tbody>\n",
       "</table>\n",
       "</div>"
      ],
      "text/plain": [
       "                                                            act2\n",
       "(ILCD 1.0.8 2016 midpoint no LT (obsolete), res...  4.025258e-03\n",
       "(ILCD 1.0.8 2016 midpoint no LT (obsolete), cli...  2.292553e+00\n",
       "(ILCD 1.0.8 2016 midpoint no LT (obsolete), eco...  1.423843e-02\n",
       "(ILCD 1.0.8 2016 midpoint no LT (obsolete), eco...  2.356163e+00\n",
       "(ILCD 1.0.8 2016 midpoint no LT (obsolete), eco...  1.408405e-04\n",
       "(ILCD 1.0.8 2016 midpoint no LT (obsolete), eco...  4.815676e-07\n",
       "(ILCD 1.0.8 2016 midpoint no LT (obsolete), eco...  1.910615e-03\n",
       "(ILCD 1.0.8 2016 midpoint no LT (obsolete), eco...  2.173546e-02\n",
       "(ILCD 1.0.8 2016 midpoint no LT (obsolete), hum...  1.184520e-07\n",
       "(ILCD 1.0.8 2016 midpoint no LT (obsolete), hum...  5.761168e-02\n",
       "(ILCD 1.0.8 2016 midpoint no LT (obsolete), hum...  8.679305e-07\n",
       "(ILCD 1.0.8 2016 midpoint no LT (obsolete), hum...  9.434956e-08\n",
       "(ILCD 1.0.8 2016 midpoint no LT (obsolete), hum...  6.592516e-03\n",
       "(ILCD 1.0.8 2016 midpoint no LT (obsolete), hum...  3.075348e-03\n",
       "(ILCD 1.0.8 2016 midpoint no LT (obsolete), res...  1.817849e+00"
      ]
     },
     "execution_count": 11,
     "metadata": {},
     "output_type": "execute_result"
    }
   ],
   "source": [
    "# Uses brightway2 parameters\n",
    "multiLCAWithParams(\n",
    "    activity2, # The model \n",
    "    impacts, # Impacts\n",
    "    \n",
    "    # Parameters of the model\n",
    "    alpha=1, \n",
    "    beta=2)"
   ]
  },
  {
   "cell_type": "code",
   "execution_count": 22,
   "metadata": {
    "ExecuteTime": {
     "end_time": "2020-01-22T17:46:18.022958Z",
     "start_time": "2020-01-22T17:46:17.625190Z"
    },
    "scrolled": true
   },
   "outputs": [
    {
     "name": "stderr",
     "output_type": "stream",
     "text": [
      "Activity 'Occupation, industrial areacopy' was already in 'incer-acv'. Overwriting it\n",
      "Activity 'Heat, wastecopy' was already in 'incer-acv'. Overwriting it\n"
     ]
    },
    {
     "data": {
      "text/html": [
       "<div>\n",
       "<style scoped>\n",
       "    .dataframe tbody tr th:only-of-type {\n",
       "        vertical-align: middle;\n",
       "    }\n",
       "\n",
       "    .dataframe tbody tr th {\n",
       "        vertical-align: top;\n",
       "    }\n",
       "\n",
       "    .dataframe thead th {\n",
       "        text-align: right;\n",
       "    }\n",
       "</style>\n",
       "<table border=\"1\" class=\"dataframe\">\n",
       "  <thead>\n",
       "    <tr style=\"text-align: right;\">\n",
       "      <th></th>\n",
       "      <th>mineral, fossils and renewables</th>\n",
       "      <th>GWP 100a</th>\n",
       "      <th>freshwater and terrestrial acidification</th>\n",
       "      <th>freshwater ecotoxicity</th>\n",
       "      <th>freshwater eutrophication</th>\n",
       "      <th>ionising radiation</th>\n",
       "      <th>marine eutrophication</th>\n",
       "      <th>terrestrial eutrophication</th>\n",
       "      <th>carcinogenic effects</th>\n",
       "      <th>ionising radiation</th>\n",
       "      <th>non-carcinogenic effects</th>\n",
       "      <th>ozone layer depletion</th>\n",
       "      <th>photochemical ozone creation</th>\n",
       "      <th>respiratory effects, inorganics</th>\n",
       "      <th>land use</th>\n",
       "    </tr>\n",
       "  </thead>\n",
       "  <tbody>\n",
       "    <tr>\n",
       "      <th>0</th>\n",
       "      <td>0.004025</td>\n",
       "      <td>2.292553</td>\n",
       "      <td>0.014238</td>\n",
       "      <td>2.356163</td>\n",
       "      <td>0.000141</td>\n",
       "      <td>4.815676e-07</td>\n",
       "      <td>0.001911</td>\n",
       "      <td>0.021735</td>\n",
       "      <td>1.184520e-07</td>\n",
       "      <td>0.057612</td>\n",
       "      <td>8.679305e-07</td>\n",
       "      <td>9.434956e-08</td>\n",
       "      <td>0.006593</td>\n",
       "      <td>0.003075</td>\n",
       "      <td>653.017858</td>\n",
       "    </tr>\n",
       "  </tbody>\n",
       "</table>\n",
       "</div>"
      ],
      "text/plain": [
       "   mineral, fossils and renewables  GWP 100a  \\\n",
       "0                         0.004025  2.292553   \n",
       "\n",
       "   freshwater and terrestrial acidification  freshwater ecotoxicity  \\\n",
       "0                                  0.014238                2.356163   \n",
       "\n",
       "   freshwater eutrophication  ionising radiation  marine eutrophication  \\\n",
       "0                   0.000141        4.815676e-07               0.001911   \n",
       "\n",
       "   terrestrial eutrophication  carcinogenic effects  ionising radiation  \\\n",
       "0                    0.021735          1.184520e-07            0.057612   \n",
       "\n",
       "   non-carcinogenic effects  ozone layer depletion  \\\n",
       "0              8.679305e-07           9.434956e-08   \n",
       "\n",
       "   photochemical ozone creation  respiratory effects, inorganics    land use  \n",
       "0                      0.006593                         0.003075  653.017858  "
      ]
     },
     "execution_count": 22,
     "metadata": {},
     "output_type": "execute_result"
    }
   ],
   "source": [
    "# Compute with algebric implementation : the values should be the same\n",
    "multiLCAWithParamsAlgebric(\n",
    "    activity2, # The model \n",
    "    impacts, # Impacts\n",
    "    \n",
    "    # Parameters of the model\n",
    "    alpha=1, \n",
    "    beta=2)"
   ]
  },
  {
   "cell_type": "code",
   "execution_count": 21,
   "metadata": {
    "ExecuteTime": {
     "end_time": "2020-01-22T17:45:39.879076Z",
     "start_time": "2020-01-22T17:45:39.765441Z"
    }
   },
   "outputs": [
    {
     "data": {
      "text/latex": [
       "$\\displaystyle \\frac{\\alpha \\left(- heat_{waste} \\left(\\alpha - 7\\right) + \\left(\\alpha + 5 \\beta\\right) \\left(\\alpha heat_{waste} + occupation_{industrial area} \\left(\\alpha + 3\\right)\\right)\\right) + 0.4 aluminium_{alloy production almg3}}{\\alpha}$"
      ],
      "text/plain": [
       "(alpha*(-heat_waste*(alpha - 7) + (alpha + 5*beta)*(alpha*heat_waste + occupation_industrial_area*(alpha + 3))) + 0.4*aluminium_alloy_production_almg3)/alpha"
      ]
     },
     "execution_count": 21,
     "metadata": {},
     "output_type": "execute_result"
    }
   ],
   "source": [
    "# Here is what the symbolic model looks like \n",
    "expr, _ = actToExpression(activity2)\n",
    "expr"
   ]
  },
  {
   "cell_type": "code",
   "execution_count": 23,
   "metadata": {
    "ExecuteTime": {
     "end_time": "2020-01-22T17:46:44.345352Z",
     "start_time": "2020-01-22T17:46:43.678927Z"
    }
   },
   "outputs": [
    {
     "name": "stderr",
     "output_type": "stream",
     "text": [
      "Activity 'Occupation, industrial areacopy' was already in 'incer-acv'. Overwriting it\n",
      "Activity 'Heat, wastecopy' was already in 'incer-acv'. Overwriting it\n"
     ]
    },
    {
     "data": {
      "text/html": [
       "<div>\n",
       "<style scoped>\n",
       "    .dataframe tbody tr th:only-of-type {\n",
       "        vertical-align: middle;\n",
       "    }\n",
       "\n",
       "    .dataframe tbody tr th {\n",
       "        vertical-align: top;\n",
       "    }\n",
       "\n",
       "    .dataframe thead th {\n",
       "        text-align: right;\n",
       "    }\n",
       "</style>\n",
       "<table border=\"1\" class=\"dataframe\">\n",
       "  <thead>\n",
       "    <tr style=\"text-align: right;\">\n",
       "      <th></th>\n",
       "      <th>mineral, fossils and renewables</th>\n",
       "      <th>GWP 100a</th>\n",
       "      <th>freshwater and terrestrial acidification</th>\n",
       "      <th>freshwater ecotoxicity</th>\n",
       "      <th>freshwater eutrophication</th>\n",
       "      <th>ionising radiation</th>\n",
       "      <th>marine eutrophication</th>\n",
       "      <th>terrestrial eutrophication</th>\n",
       "      <th>carcinogenic effects</th>\n",
       "      <th>ionising radiation</th>\n",
       "      <th>non-carcinogenic effects</th>\n",
       "      <th>ozone layer depletion</th>\n",
       "      <th>photochemical ozone creation</th>\n",
       "      <th>respiratory effects, inorganics</th>\n",
       "      <th>land use</th>\n",
       "    </tr>\n",
       "  </thead>\n",
       "  <tbody>\n",
       "    <tr>\n",
       "      <th>0</th>\n",
       "      <td>4.025258e-03</td>\n",
       "      <td>2.292553</td>\n",
       "      <td>1.423843e-02</td>\n",
       "      <td>2.356163</td>\n",
       "      <td>1.408405e-04</td>\n",
       "      <td>4.815676e-07</td>\n",
       "      <td>1.910615e-03</td>\n",
       "      <td>2.173546e-02</td>\n",
       "      <td>1.184520e-07</td>\n",
       "      <td>5.761168e-02</td>\n",
       "      <td>8.679305e-07</td>\n",
       "      <td>9.434956e-08</td>\n",
       "      <td>6.592515e-03</td>\n",
       "      <td>3.075348e-03</td>\n",
       "      <td>3.570179e+02</td>\n",
       "    </tr>\n",
       "    <tr>\n",
       "      <th>1</th>\n",
       "      <td>2.012629e-03</td>\n",
       "      <td>1.146276</td>\n",
       "      <td>7.119213e-03</td>\n",
       "      <td>1.178082</td>\n",
       "      <td>7.042023e-05</td>\n",
       "      <td>2.407838e-07</td>\n",
       "      <td>9.553075e-04</td>\n",
       "      <td>1.086773e-02</td>\n",
       "      <td>5.922602e-08</td>\n",
       "      <td>2.880584e-02</td>\n",
       "      <td>4.339653e-07</td>\n",
       "      <td>4.717478e-08</td>\n",
       "      <td>3.296258e-03</td>\n",
       "      <td>1.537674e-03</td>\n",
       "      <td>8.889089e+02</td>\n",
       "    </tr>\n",
       "    <tr>\n",
       "      <th>2</th>\n",
       "      <td>1.341753e-03</td>\n",
       "      <td>0.764184</td>\n",
       "      <td>4.746142e-03</td>\n",
       "      <td>0.785388</td>\n",
       "      <td>4.694682e-05</td>\n",
       "      <td>1.605225e-07</td>\n",
       "      <td>6.368717e-04</td>\n",
       "      <td>7.245152e-03</td>\n",
       "      <td>3.948401e-08</td>\n",
       "      <td>1.920389e-02</td>\n",
       "      <td>2.893102e-07</td>\n",
       "      <td>3.144985e-08</td>\n",
       "      <td>2.197505e-03</td>\n",
       "      <td>1.025116e-03</td>\n",
       "      <td>1.599006e+03</td>\n",
       "    </tr>\n",
       "    <tr>\n",
       "      <th>3</th>\n",
       "      <td>1.006315e-03</td>\n",
       "      <td>0.573138</td>\n",
       "      <td>3.559607e-03</td>\n",
       "      <td>0.589041</td>\n",
       "      <td>3.521011e-05</td>\n",
       "      <td>1.203919e-07</td>\n",
       "      <td>4.776538e-04</td>\n",
       "      <td>5.433864e-03</td>\n",
       "      <td>2.961301e-08</td>\n",
       "      <td>1.440292e-02</td>\n",
       "      <td>2.169826e-07</td>\n",
       "      <td>2.358739e-08</td>\n",
       "      <td>1.648129e-03</td>\n",
       "      <td>7.688369e-04</td>\n",
       "      <td>2.486854e+03</td>\n",
       "    </tr>\n",
       "    <tr>\n",
       "      <th>4</th>\n",
       "      <td>8.050517e-04</td>\n",
       "      <td>0.458511</td>\n",
       "      <td>2.847685e-03</td>\n",
       "      <td>0.471233</td>\n",
       "      <td>2.816809e-05</td>\n",
       "      <td>9.631352e-08</td>\n",
       "      <td>3.821230e-04</td>\n",
       "      <td>4.347091e-03</td>\n",
       "      <td>2.369041e-08</td>\n",
       "      <td>1.152234e-02</td>\n",
       "      <td>1.735861e-07</td>\n",
       "      <td>1.886991e-08</td>\n",
       "      <td>1.318503e-03</td>\n",
       "      <td>6.150695e-04</td>\n",
       "      <td>3.552364e+03</td>\n",
       "    </tr>\n",
       "    <tr>\n",
       "      <th>...</th>\n",
       "      <td>...</td>\n",
       "      <td>...</td>\n",
       "      <td>...</td>\n",
       "      <td>...</td>\n",
       "      <td>...</td>\n",
       "      <td>...</td>\n",
       "      <td>...</td>\n",
       "      <td>...</td>\n",
       "      <td>...</td>\n",
       "      <td>...</td>\n",
       "      <td>...</td>\n",
       "      <td>...</td>\n",
       "      <td>...</td>\n",
       "      <td>...</td>\n",
       "      <td>...</td>\n",
       "    </tr>\n",
       "    <tr>\n",
       "      <th>999994</th>\n",
       "      <td>4.025279e-09</td>\n",
       "      <td>0.000002</td>\n",
       "      <td>1.423850e-08</td>\n",
       "      <td>0.000002</td>\n",
       "      <td>1.408412e-10</td>\n",
       "      <td>4.815700e-13</td>\n",
       "      <td>1.910625e-09</td>\n",
       "      <td>2.173557e-08</td>\n",
       "      <td>1.184526e-13</td>\n",
       "      <td>5.761197e-08</td>\n",
       "      <td>8.679348e-13</td>\n",
       "      <td>9.435003e-14</td>\n",
       "      <td>6.592548e-09</td>\n",
       "      <td>3.075363e-09</td>\n",
       "      <td>8.879938e+13</td>\n",
       "    </tr>\n",
       "    <tr>\n",
       "      <th>999995</th>\n",
       "      <td>4.025275e-09</td>\n",
       "      <td>0.000002</td>\n",
       "      <td>1.423848e-08</td>\n",
       "      <td>0.000002</td>\n",
       "      <td>1.408410e-10</td>\n",
       "      <td>4.815695e-13</td>\n",
       "      <td>1.910623e-09</td>\n",
       "      <td>2.173554e-08</td>\n",
       "      <td>1.184525e-13</td>\n",
       "      <td>5.761191e-08</td>\n",
       "      <td>8.679340e-13</td>\n",
       "      <td>9.434993e-14</td>\n",
       "      <td>6.592542e-09</td>\n",
       "      <td>3.075360e-09</td>\n",
       "      <td>8.879956e+13</td>\n",
       "    </tr>\n",
       "    <tr>\n",
       "      <th>999996</th>\n",
       "      <td>4.025271e-09</td>\n",
       "      <td>0.000002</td>\n",
       "      <td>1.423847e-08</td>\n",
       "      <td>0.000002</td>\n",
       "      <td>1.408409e-10</td>\n",
       "      <td>4.815691e-13</td>\n",
       "      <td>1.910621e-09</td>\n",
       "      <td>2.173552e-08</td>\n",
       "      <td>1.184524e-13</td>\n",
       "      <td>5.761186e-08</td>\n",
       "      <td>8.679331e-13</td>\n",
       "      <td>9.434984e-14</td>\n",
       "      <td>6.592535e-09</td>\n",
       "      <td>3.075357e-09</td>\n",
       "      <td>8.879973e+13</td>\n",
       "    </tr>\n",
       "    <tr>\n",
       "      <th>999997</th>\n",
       "      <td>4.025266e-09</td>\n",
       "      <td>0.000002</td>\n",
       "      <td>1.423845e-08</td>\n",
       "      <td>0.000002</td>\n",
       "      <td>1.408407e-10</td>\n",
       "      <td>4.815686e-13</td>\n",
       "      <td>1.910619e-09</td>\n",
       "      <td>2.173550e-08</td>\n",
       "      <td>1.184523e-13</td>\n",
       "      <td>5.761180e-08</td>\n",
       "      <td>8.679322e-13</td>\n",
       "      <td>9.434974e-14</td>\n",
       "      <td>6.592529e-09</td>\n",
       "      <td>3.075354e-09</td>\n",
       "      <td>8.879991e+13</td>\n",
       "    </tr>\n",
       "    <tr>\n",
       "      <th>999998</th>\n",
       "      <td>4.025262e-09</td>\n",
       "      <td>0.000002</td>\n",
       "      <td>1.423844e-08</td>\n",
       "      <td>0.000002</td>\n",
       "      <td>1.408406e-10</td>\n",
       "      <td>4.815681e-13</td>\n",
       "      <td>1.910617e-09</td>\n",
       "      <td>2.173548e-08</td>\n",
       "      <td>1.184521e-13</td>\n",
       "      <td>5.761174e-08</td>\n",
       "      <td>8.679314e-13</td>\n",
       "      <td>9.434965e-14</td>\n",
       "      <td>6.592522e-09</td>\n",
       "      <td>3.075351e-09</td>\n",
       "      <td>8.880009e+13</td>\n",
       "    </tr>\n",
       "  </tbody>\n",
       "</table>\n",
       "<p>999999 rows × 15 columns</p>\n",
       "</div>"
      ],
      "text/plain": [
       "        mineral, fossils and renewables  GWP 100a  \\\n",
       "0                          4.025258e-03  2.292553   \n",
       "1                          2.012629e-03  1.146276   \n",
       "2                          1.341753e-03  0.764184   \n",
       "3                          1.006315e-03  0.573138   \n",
       "4                          8.050517e-04  0.458511   \n",
       "...                                 ...       ...   \n",
       "999994                     4.025279e-09  0.000002   \n",
       "999995                     4.025275e-09  0.000002   \n",
       "999996                     4.025271e-09  0.000002   \n",
       "999997                     4.025266e-09  0.000002   \n",
       "999998                     4.025262e-09  0.000002   \n",
       "\n",
       "        freshwater and terrestrial acidification  freshwater ecotoxicity  \\\n",
       "0                                   1.423843e-02                2.356163   \n",
       "1                                   7.119213e-03                1.178082   \n",
       "2                                   4.746142e-03                0.785388   \n",
       "3                                   3.559607e-03                0.589041   \n",
       "4                                   2.847685e-03                0.471233   \n",
       "...                                          ...                     ...   \n",
       "999994                              1.423850e-08                0.000002   \n",
       "999995                              1.423848e-08                0.000002   \n",
       "999996                              1.423847e-08                0.000002   \n",
       "999997                              1.423845e-08                0.000002   \n",
       "999998                              1.423844e-08                0.000002   \n",
       "\n",
       "        freshwater eutrophication  ionising radiation  marine eutrophication  \\\n",
       "0                    1.408405e-04        4.815676e-07           1.910615e-03   \n",
       "1                    7.042023e-05        2.407838e-07           9.553075e-04   \n",
       "2                    4.694682e-05        1.605225e-07           6.368717e-04   \n",
       "3                    3.521011e-05        1.203919e-07           4.776538e-04   \n",
       "4                    2.816809e-05        9.631352e-08           3.821230e-04   \n",
       "...                           ...                 ...                    ...   \n",
       "999994               1.408412e-10        4.815700e-13           1.910625e-09   \n",
       "999995               1.408410e-10        4.815695e-13           1.910623e-09   \n",
       "999996               1.408409e-10        4.815691e-13           1.910621e-09   \n",
       "999997               1.408407e-10        4.815686e-13           1.910619e-09   \n",
       "999998               1.408406e-10        4.815681e-13           1.910617e-09   \n",
       "\n",
       "        terrestrial eutrophication  carcinogenic effects  ionising radiation  \\\n",
       "0                     2.173546e-02          1.184520e-07        5.761168e-02   \n",
       "1                     1.086773e-02          5.922602e-08        2.880584e-02   \n",
       "2                     7.245152e-03          3.948401e-08        1.920389e-02   \n",
       "3                     5.433864e-03          2.961301e-08        1.440292e-02   \n",
       "4                     4.347091e-03          2.369041e-08        1.152234e-02   \n",
       "...                            ...                   ...                 ...   \n",
       "999994                2.173557e-08          1.184526e-13        5.761197e-08   \n",
       "999995                2.173554e-08          1.184525e-13        5.761191e-08   \n",
       "999996                2.173552e-08          1.184524e-13        5.761186e-08   \n",
       "999997                2.173550e-08          1.184523e-13        5.761180e-08   \n",
       "999998                2.173548e-08          1.184521e-13        5.761174e-08   \n",
       "\n",
       "        non-carcinogenic effects  ozone layer depletion  \\\n",
       "0                   8.679305e-07           9.434956e-08   \n",
       "1                   4.339653e-07           4.717478e-08   \n",
       "2                   2.893102e-07           3.144985e-08   \n",
       "3                   2.169826e-07           2.358739e-08   \n",
       "4                   1.735861e-07           1.886991e-08   \n",
       "...                          ...                    ...   \n",
       "999994              8.679348e-13           9.435003e-14   \n",
       "999995              8.679340e-13           9.434993e-14   \n",
       "999996              8.679331e-13           9.434984e-14   \n",
       "999997              8.679322e-13           9.434974e-14   \n",
       "999998              8.679314e-13           9.434965e-14   \n",
       "\n",
       "        photochemical ozone creation  respiratory effects, inorganics  \\\n",
       "0                       6.592515e-03                     3.075348e-03   \n",
       "1                       3.296258e-03                     1.537674e-03   \n",
       "2                       2.197505e-03                     1.025116e-03   \n",
       "3                       1.648129e-03                     7.688369e-04   \n",
       "4                       1.318503e-03                     6.150695e-04   \n",
       "...                              ...                              ...   \n",
       "999994                  6.592548e-09                     3.075363e-09   \n",
       "999995                  6.592542e-09                     3.075360e-09   \n",
       "999996                  6.592535e-09                     3.075357e-09   \n",
       "999997                  6.592529e-09                     3.075354e-09   \n",
       "999998                  6.592522e-09                     3.075351e-09   \n",
       "\n",
       "            land use  \n",
       "0       3.570179e+02  \n",
       "1       8.889089e+02  \n",
       "2       1.599006e+03  \n",
       "3       2.486854e+03  \n",
       "4       3.552364e+03  \n",
       "...              ...  \n",
       "999994  8.879938e+13  \n",
       "999995  8.879956e+13  \n",
       "999996  8.879973e+13  \n",
       "999997  8.879991e+13  \n",
       "999998  8.880009e+13  \n",
       "\n",
       "[999999 rows x 15 columns]"
      ]
     },
     "execution_count": 23,
     "metadata": {},
     "output_type": "execute_result"
    }
   ],
   "source": [
    "# Fast computation for millions of separate samples\n",
    "multiLCAWithParamsAlgebric(\n",
    "    activity2, # The model \n",
    "    impacts, # Impacts\n",
    "    \n",
    "    # Parameters of the model\n",
    "    alpha=list(range(1, 1000000)), \n",
    "    beta=list(range(1, 1000000)))"
   ]
  },
  {
   "cell_type": "code",
   "execution_count": null,
   "metadata": {},
   "outputs": [],
   "source": []
  }
 ],
 "metadata": {
  "jupytext": {
   "formats": "ipynb,Rmd"
  },
  "kernelspec": {
   "display_name": "Python 3",
   "language": "python",
   "name": "python3"
  },
  "language_info": {
   "codemirror_mode": {
    "name": "ipython",
    "version": 3
   },
   "file_extension": ".py",
   "mimetype": "text/x-python",
   "name": "python",
   "nbconvert_exporter": "python",
   "pygments_lexer": "ipython3",
   "version": "3.6.10"
  },
  "toc": {
   "base_numbering": 1,
   "nav_menu": {},
   "number_sections": true,
   "sideBar": true,
   "skip_h1_title": false,
   "title_cell": "Table of Contents",
   "title_sidebar": "Contents",
   "toc_cell": false,
   "toc_position": {},
   "toc_section_display": true,
   "toc_window_display": false
  }
 },
 "nbformat": 4,
 "nbformat_minor": 2
}
