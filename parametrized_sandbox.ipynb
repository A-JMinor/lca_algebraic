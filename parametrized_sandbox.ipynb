{
 "cells": [
  {
   "cell_type": "code",
   "execution_count": 76,
   "metadata": {},
   "outputs": [
    {
     "name": "stdout",
     "output_type": "stream",
     "text": [
      "The autoreload extension is already loaded. To reload it, use:\n",
      "  %reload_ext autoreload\n"
     ]
    }
   ],
   "source": [
    "%load_ext autoreload\n",
    "%autoreload 2\n",
    "import pandas as pd\n",
    "import matplotlib.pyplot as plt\n",
    "import numpy as np\n",
    "import brightway2 as bw\n",
    "\n",
    "# Custom utils defined for inter-acv\n",
    "from utils import *"
   ]
  },
  {
   "cell_type": "code",
   "execution_count": 85,
   "metadata": {},
   "outputs": [],
   "source": [
    "# Set project \n",
    "bw.projects.set_current('B_Publication')\n",
    "initDb()"
   ]
  },
  {
   "cell_type": "code",
   "execution_count": 86,
   "metadata": {},
   "outputs": [],
   "source": [
    "# Select impacts\n",
    "impacts = [m for m in bw.methods if 'ILCD 1.0.8 2016' in str(m) and 'no LT' in str(m) ]"
   ]
  },
  {
   "cell_type": "code",
   "execution_count": 87,
   "metadata": {},
   "outputs": [],
   "source": [
    "us_elec = getActivity('market group for electricity, medium voltage', 'US')\n",
    "glo_elec = getActivity('market group for electricity, medium voltage', 'GLO')"
   ]
  },
  {
   "cell_type": "code",
   "execution_count": 98,
   "metadata": {},
   "outputs": [
    {
     "name": "stderr",
     "output_type": "stream",
     "text": [
      "Activity 'foo' was already in 'incer-acv'. Overwriting it\n"
     ]
    },
    {
     "data": {
      "text/html": [
       "<div>\n",
       "<style scoped>\n",
       "    .dataframe tbody tr th:only-of-type {\n",
       "        vertical-align: middle;\n",
       "    }\n",
       "\n",
       "    .dataframe tbody tr th {\n",
       "        vertical-align: top;\n",
       "    }\n",
       "\n",
       "    .dataframe thead th {\n",
       "        text-align: right;\n",
       "    }\n",
       "</style>\n",
       "<table border=\"1\" class=\"dataframe\">\n",
       "  <thead>\n",
       "    <tr style=\"text-align: right;\">\n",
       "      <th></th>\n",
       "      <th>amount</th>\n",
       "      <th>unit</th>\n",
       "      <th>type</th>\n",
       "    </tr>\n",
       "  </thead>\n",
       "  <tbody>\n",
       "    <tr>\n",
       "      <th>'market group for electricity, medium voltage' (kilowatt hour, US, None)</th>\n",
       "      <td>1</td>\n",
       "      <td>kilowatt hour</td>\n",
       "      <td>technosphere</td>\n",
       "    </tr>\n",
       "    <tr>\n",
       "      <th>'market group for electricity, medium voltage' (kilowatt hour, GLO, None)</th>\n",
       "      <td>0</td>\n",
       "      <td>kilowatt hour</td>\n",
       "      <td>technosphere</td>\n",
       "    </tr>\n",
       "  </tbody>\n",
       "</table>\n",
       "</div>"
      ],
      "text/plain": [
       "                                                   amount           unit  \\\n",
       "'market group for electricity, medium voltage' ...      1  kilowatt hour   \n",
       "'market group for electricity, medium voltage' ...      0  kilowatt hour   \n",
       "\n",
       "                                                            type  \n",
       "'market group for electricity, medium voltage' ...  technosphere  \n",
       "'market group for electricity, medium voltage' ...  technosphere  "
      ]
     },
     "execution_count": 98,
     "metadata": {},
     "output_type": "execute_result"
    }
   ],
   "source": [
    "foo = newActivity(\"foo\", \"kg\", exchanges={us_elec:1, glo_elec:\"alpha\"})\n",
    "print_act(foo)"
   ]
  },
  {
   "cell_type": "code",
   "execution_count": 114,
   "metadata": {},
   "outputs": [
    {
     "name": "stderr",
     "output_type": "stream",
     "text": [
      "Activity 'bar' was already in 'incer-acv'. Overwriting it\n"
     ]
    }
   ],
   "source": [
    "bar = newActivity(\"bar\", \"kg\")"
   ]
  },
  {
   "cell_type": "code",
   "execution_count": 130,
   "metadata": {},
   "outputs": [],
   "source": [
    "elect_switch_param = newParamDef('elect_switch_param', ParamType.ENUM, \"us\", values=[\"us\", \"glo\"], description=\"Switch on electricty mix\")\n",
    "alpha = newParamDef('alpha', ParamType.NUMBER, 0.5, description=\"alpha\")"
   ]
  },
  {
   "cell_type": "code",
   "execution_count": 131,
   "metadata": {},
   "outputs": [
    {
     "name": "stderr",
     "output_type": "stream",
     "text": [
      "Activity 'elect_switch_param switch' was already in 'incer-acv'. Overwriting it\n"
     ]
    },
    {
     "data": {
      "text/html": [
       "<div>\n",
       "<style scoped>\n",
       "    .dataframe tbody tr th:only-of-type {\n",
       "        vertical-align: middle;\n",
       "    }\n",
       "\n",
       "    .dataframe tbody tr th {\n",
       "        vertical-align: top;\n",
       "    }\n",
       "\n",
       "    .dataframe thead th {\n",
       "        text-align: right;\n",
       "    }\n",
       "</style>\n",
       "<table border=\"1\" class=\"dataframe\">\n",
       "  <thead>\n",
       "    <tr style=\"text-align: right;\">\n",
       "      <th></th>\n",
       "      <th>amount /formula</th>\n",
       "      <th>unit</th>\n",
       "      <th>type</th>\n",
       "    </tr>\n",
       "  </thead>\n",
       "  <tbody>\n",
       "    <tr>\n",
       "      <th>'market group for electricity, medium voltage' (kilowatt hour, US, None)</th>\n",
       "      <td>elect_switch_param_us</td>\n",
       "      <td>kilowatt hour</td>\n",
       "      <td>technosphere</td>\n",
       "    </tr>\n",
       "    <tr>\n",
       "      <th>'market group for electricity, medium voltage' (kilowatt hour, GLO, None)</th>\n",
       "      <td>elect_switch_param_glo</td>\n",
       "      <td>kilowatt hour</td>\n",
       "      <td>technosphere</td>\n",
       "    </tr>\n",
       "  </tbody>\n",
       "</table>\n",
       "</div>"
      ],
      "text/plain": [
       "                                                           amount /formula  \\\n",
       "'market group for electricity, medium voltage' ...   elect_switch_param_us   \n",
       "'market group for electricity, medium voltage' ...  elect_switch_param_glo   \n",
       "\n",
       "                                                             unit  \\\n",
       "'market group for electricity, medium voltage' ...  kilowatt hour   \n",
       "'market group for electricity, medium voltage' ...  kilowatt hour   \n",
       "\n",
       "                                                            type  \n",
       "'market group for electricity, medium voltage' ...  technosphere  \n",
       "'market group for electricity, medium voltage' ...  technosphere  "
      ]
     },
     "execution_count": 131,
     "metadata": {},
     "output_type": "execute_result"
    }
   ],
   "source": [
    "elec_switch_activity = newSwitchActivity(elect_switch_param, dict(us=us_elec, glo=glo_elec))\n",
    "print_act(elec_switch_activity)"
   ]
  },
  {
   "cell_type": "code",
   "execution_count": 133,
   "metadata": {},
   "outputs": [
    {
     "ename": "KeyError",
     "evalue": "'elect_switch_param'",
     "output_type": "error",
     "traceback": [
      "\u001b[0;31m---------------------------------------------------------------------------\u001b[0m",
      "\u001b[0;31mKeyError\u001b[0m                                  Traceback (most recent call last)",
      "\u001b[0;32m<ipython-input-133-a53c6457c7c0>\u001b[0m in \u001b[0;36m<module>\u001b[0;34m\u001b[0m\n\u001b[0;32m----> 1\u001b[0;31m \u001b[0mcomputeLCA\u001b[0m\u001b[0;34m(\u001b[0m\u001b[0melec_switch_activity\u001b[0m\u001b[0;34m,\u001b[0m \u001b[0mimpacts\u001b[0m\u001b[0;34m,\u001b[0m \u001b[0mamount\u001b[0m\u001b[0;34m=\u001b[0m\u001b[0;36m0.1\u001b[0m\u001b[0;34m,\u001b[0m \u001b[0melect_switch_param\u001b[0m\u001b[0;34m=\u001b[0m\u001b[0;34m\"glo\"\u001b[0m\u001b[0;34m)\u001b[0m\u001b[0;34m\u001b[0m\u001b[0;34m\u001b[0m\u001b[0m\n\u001b[0m",
      "\u001b[0;32m~/acv/utils.py\u001b[0m in \u001b[0;36mcomputeLCA\u001b[0;34m(activity, methods, amount, **params)\u001b[0m\n\u001b[1;32m    173\u001b[0m         \u001b[0mbw_params\u001b[0m\u001b[0;34m=\u001b[0m \u001b[0;34m[\u001b[0m\u001b[0;34m]\u001b[0m\u001b[0;34m\u001b[0m\u001b[0;34m\u001b[0m\u001b[0m\n\u001b[1;32m    174\u001b[0m         \u001b[0;32mfor\u001b[0m \u001b[0mkey\u001b[0m\u001b[0;34m,\u001b[0m \u001b[0mval\u001b[0m \u001b[0;32min\u001b[0m \u001b[0mparams\u001b[0m\u001b[0;34m.\u001b[0m\u001b[0mitems\u001b[0m\u001b[0;34m(\u001b[0m\u001b[0;34m)\u001b[0m \u001b[0;34m:\u001b[0m\u001b[0;34m\u001b[0m\u001b[0;34m\u001b[0m\u001b[0m\n\u001b[0;32m--> 175\u001b[0;31m             \u001b[0mparam\u001b[0m \u001b[0;34m=\u001b[0m \u001b[0mparam_registry\u001b[0m\u001b[0;34m[\u001b[0m\u001b[0mkey\u001b[0m\u001b[0;34m]\u001b[0m\u001b[0;34m\u001b[0m\u001b[0;34m\u001b[0m\u001b[0m\n\u001b[0m\u001b[1;32m    176\u001b[0m             \u001b[0mbw_params\u001b[0m\u001b[0;34m.\u001b[0m\u001b[0mextend\u001b[0m\u001b[0;34m(\u001b[0m\u001b[0mparam\u001b[0m\u001b[0;34m.\u001b[0m\u001b[0mtoBwParams\u001b[0m\u001b[0;34m(\u001b[0m\u001b[0mval\u001b[0m\u001b[0;34m)\u001b[0m\u001b[0;34m)\u001b[0m\u001b[0;34m\u001b[0m\u001b[0;34m\u001b[0m\u001b[0m\n\u001b[1;32m    177\u001b[0m         \u001b[0mprint\u001b[0m\u001b[0;34m(\u001b[0m\u001b[0mbw_params\u001b[0m\u001b[0;34m)\u001b[0m\u001b[0;34m\u001b[0m\u001b[0;34m\u001b[0m\u001b[0m\n",
      "\u001b[0;31mKeyError\u001b[0m: 'elect_switch_param'"
     ]
    }
   ],
   "source": [
    "computeLCA(elec_switch_activity, impacts, amount=0.1, elect_switch_param=\"glo\")\n"
   ]
  },
  {
   "cell_type": "code",
   "execution_count": null,
   "metadata": {},
   "outputs": [],
   "source": []
  }
 ],
 "metadata": {
  "kernelspec": {
   "display_name": "Python 3",
   "language": "python",
   "name": "python3"
  },
  "language_info": {
   "codemirror_mode": {
    "name": "ipython",
    "version": 3
   },
   "file_extension": ".py",
   "mimetype": "text/x-python",
   "name": "python",
   "nbconvert_exporter": "python",
   "pygments_lexer": "ipython3",
   "version": "3.6.10"
  },
  "toc": {
   "base_numbering": 1,
   "nav_menu": {},
   "number_sections": true,
   "sideBar": true,
   "skip_h1_title": false,
   "title_cell": "Table of Contents",
   "title_sidebar": "Contents",
   "toc_cell": false,
   "toc_position": {},
   "toc_section_display": true,
   "toc_window_display": false
  }
 },
 "nbformat": 4,
 "nbformat_minor": 2
}
