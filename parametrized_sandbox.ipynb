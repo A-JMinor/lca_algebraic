{
 "cells": [
  {
   "cell_type": "code",
   "execution_count": 286,
   "metadata": {},
   "outputs": [
    {
     "name": "stdout",
     "output_type": "stream",
     "text": [
      "The autoreload extension is already loaded. To reload it, use:\n",
      "  %reload_ext autoreload\n"
     ]
    }
   ],
   "source": [
    "%load_ext autoreload\n",
    "%autoreload 2\n",
    "import pandas as pd\n",
    "import time\n",
    "import matplotlib.pyplot as plt\n",
    "import numpy as np\n",
    "import brightway2 as bw\n",
    "\n",
    "# Custom utils defined for inter-acv\n",
    "from utils import *\n",
    "from expression import *"
   ]
  },
  {
   "cell_type": "code",
   "execution_count": 287,
   "metadata": {},
   "outputs": [
    {
     "name": "stdout",
     "output_type": "stream",
     "text": [
      "Db incer-acv was here. Deleting it\n"
     ]
    }
   ],
   "source": [
    "# Reset project & DB\n",
    "bw.projects.set_current('B_Publication')\n",
    "resetDb()\n",
    "resetParams()"
   ]
  },
  {
   "cell_type": "code",
   "execution_count": 288,
   "metadata": {},
   "outputs": [],
   "source": [
    "alpha = newParamDef(\n",
    "    'alpha', \n",
    "    ParamType.NUMBER, \n",
    "    default=0.5, \n",
    "    description=\"alpha\")\n",
    "\n",
    "beta = newParamDef(\n",
    "    'beta', \n",
    "    ParamType.NUMBER, \n",
    "    default=0.5, \n",
    "    description=\"beta\")\n",
    "\n",
    "# Define parameters of the model\n",
    "elect_switch_param = newParamDef(\n",
    "    'elect_switch_param', \n",
    "    ParamType.ENUM, \n",
    "    values=[\"us\", \"glo\"], \n",
    "    default=\"us\", \n",
    "    description=\"Switch on electricty mix\")"
   ]
  },
  {
   "cell_type": "code",
   "execution_count": 289,
   "metadata": {},
   "outputs": [],
   "source": [
    "# Select impacts\n",
    "impacts = [m for m in bw.methods if 'ILCD 1.0.8 2016' in str(m) and 'no LT' in str(m)]"
   ]
  },
  {
   "cell_type": "code",
   "execution_count": 290,
   "metadata": {},
   "outputs": [
    {
     "data": {
      "text/plain": [
       "{'_document': <ActivityDataset: 1536>,\n",
       " '_data': {'categories': ('air',),\n",
       "  'code': 'f2d84834-d0b3-42e5-b41a-f04cc80337a4',\n",
       "  'name': 'Heat, waste',\n",
       "  'database': 'biosphere3',\n",
       "  'unit': 'megajoule',\n",
       "  'type': 'emission'}}"
      ]
     },
     "execution_count": 290,
     "metadata": {},
     "output_type": "execute_result"
    }
   ],
   "source": [
    "occup = findBio('Occupation, industrial area')\n",
    "heat = findBio('Heat, waste', categories=['air'])\n",
    "heat.__dict__"
   ]
  },
  {
   "cell_type": "code",
   "execution_count": 291,
   "metadata": {},
   "outputs": [],
   "source": [
    "# Create new, parametrized activity\n",
    "\n",
    "activity1 = newActivity(\n",
    "    name=\"act1\", unit=\"kg\", \n",
    "    exchanges= {\n",
    "        occup:3, \n",
    "        heat: alpha})\n",
    "\n",
    "activity2 = newActivity(\n",
    "    name=\"act2\", unit=\"kg\", \n",
    "    exchanges= {\n",
    "        activity1: beta * 5 + alpha, # Nested activity with parametrized amount\n",
    "        heat:7}) # Constant exhange"
   ]
  },
  {
   "cell_type": "code",
   "execution_count": 292,
   "metadata": {},
   "outputs": [
    {
     "data": {
      "text/html": [
       "<div>\n",
       "<style scoped>\n",
       "    .dataframe tbody tr th:only-of-type {\n",
       "        vertical-align: middle;\n",
       "    }\n",
       "\n",
       "    .dataframe tbody tr th {\n",
       "        vertical-align: top;\n",
       "    }\n",
       "\n",
       "    .dataframe thead th {\n",
       "        text-align: right;\n",
       "    }\n",
       "</style>\n",
       "<table border=\"1\" class=\"dataframe\">\n",
       "  <thead>\n",
       "    <tr style=\"text-align: right;\">\n",
       "      <th></th>\n",
       "      <th>amount /formula</th>\n",
       "      <th>unit</th>\n",
       "      <th>type</th>\n",
       "    </tr>\n",
       "  </thead>\n",
       "  <tbody>\n",
       "    <tr>\n",
       "      <th>'Occupation, industrial area' (square meter-year, None, ('natural resource', 'land'))</th>\n",
       "      <td>3</td>\n",
       "      <td>square meter-year</td>\n",
       "      <td>biosphere</td>\n",
       "    </tr>\n",
       "    <tr>\n",
       "      <th>'Heat, waste' (megajoule, None, ('air',))</th>\n",
       "      <td>alpha</td>\n",
       "      <td>megajoule</td>\n",
       "      <td>biosphere</td>\n",
       "    </tr>\n",
       "  </tbody>\n",
       "</table>\n",
       "</div>"
      ],
      "text/plain": [
       "                                                   amount /formula  \\\n",
       "'Occupation, industrial area' (square meter-yea...               3   \n",
       "'Heat, waste' (megajoule, None, ('air',))                    alpha   \n",
       "\n",
       "                                                                 unit  \\\n",
       "'Occupation, industrial area' (square meter-yea...  square meter-year   \n",
       "'Heat, waste' (megajoule, None, ('air',))                   megajoule   \n",
       "\n",
       "                                                         type  \n",
       "'Occupation, industrial area' (square meter-yea...  biosphere  \n",
       "'Heat, waste' (megajoule, None, ('air',))           biosphere  "
      ]
     },
     "execution_count": 292,
     "metadata": {},
     "output_type": "execute_result"
    }
   ],
   "source": [
    "print_act(activity1)"
   ]
  },
  {
   "cell_type": "code",
   "execution_count": 293,
   "metadata": {},
   "outputs": [
    {
     "data": {
      "text/html": [
       "<div>\n",
       "<style scoped>\n",
       "    .dataframe tbody tr th:only-of-type {\n",
       "        vertical-align: middle;\n",
       "    }\n",
       "\n",
       "    .dataframe tbody tr th {\n",
       "        vertical-align: top;\n",
       "    }\n",
       "\n",
       "    .dataframe thead th {\n",
       "        text-align: right;\n",
       "    }\n",
       "</style>\n",
       "<table border=\"1\" class=\"dataframe\">\n",
       "  <thead>\n",
       "    <tr style=\"text-align: right;\">\n",
       "      <th></th>\n",
       "      <th>amount /formula</th>\n",
       "      <th>unit</th>\n",
       "      <th>type</th>\n",
       "    </tr>\n",
       "  </thead>\n",
       "  <tbody>\n",
       "    <tr>\n",
       "      <th>'act1' (kg, GLO, None)</th>\n",
       "      <td>alpha + 5*beta</td>\n",
       "      <td>kg</td>\n",
       "      <td>technosphere</td>\n",
       "    </tr>\n",
       "    <tr>\n",
       "      <th>'Heat, waste' (megajoule, None, ('air',))</th>\n",
       "      <td>7</td>\n",
       "      <td>megajoule</td>\n",
       "      <td>biosphere</td>\n",
       "    </tr>\n",
       "  </tbody>\n",
       "</table>\n",
       "</div>"
      ],
      "text/plain": [
       "                                          amount /formula       unit  \\\n",
       "'act1' (kg, GLO, None)                     alpha + 5*beta         kg   \n",
       "'Heat, waste' (megajoule, None, ('air',))               7  megajoule   \n",
       "\n",
       "                                                   type  \n",
       "'act1' (kg, GLO, None)                     technosphere  \n",
       "'Heat, waste' (megajoule, None, ('air',))     biosphere  "
      ]
     },
     "execution_count": 293,
     "metadata": {},
     "output_type": "execute_result"
    }
   ],
   "source": [
    "print_act(activity2)"
   ]
  },
  {
   "cell_type": "code",
   "execution_count": 294,
   "metadata": {},
   "outputs": [
    {
     "data": {
      "text/html": [
       "<div>\n",
       "<style scoped>\n",
       "    .dataframe tbody tr th:only-of-type {\n",
       "        vertical-align: middle;\n",
       "    }\n",
       "\n",
       "    .dataframe tbody tr th {\n",
       "        vertical-align: top;\n",
       "    }\n",
       "\n",
       "    .dataframe thead th {\n",
       "        text-align: right;\n",
       "    }\n",
       "</style>\n",
       "<table border=\"1\" class=\"dataframe\">\n",
       "  <thead>\n",
       "    <tr style=\"text-align: right;\">\n",
       "      <th></th>\n",
       "      <th>amount /formula</th>\n",
       "      <th>unit</th>\n",
       "      <th>type</th>\n",
       "    </tr>\n",
       "  </thead>\n",
       "  <tbody>\n",
       "    <tr>\n",
       "      <th>'market group for electricity, medium voltage' (kilowatt hour, US, None)</th>\n",
       "      <td>elect_switch_param_us</td>\n",
       "      <td>kilowatt hour</td>\n",
       "      <td>technosphere</td>\n",
       "    </tr>\n",
       "    <tr>\n",
       "      <th>'market group for electricity, medium voltage' (kilowatt hour, GLO, None)</th>\n",
       "      <td>elect_switch_param_glo</td>\n",
       "      <td>kilowatt hour</td>\n",
       "      <td>technosphere</td>\n",
       "    </tr>\n",
       "  </tbody>\n",
       "</table>\n",
       "</div>"
      ],
      "text/plain": [
       "                                                           amount /formula  \\\n",
       "'market group for electricity, medium voltage' ...   elect_switch_param_us   \n",
       "'market group for electricity, medium voltage' ...  elect_switch_param_glo   \n",
       "\n",
       "                                                             unit  \\\n",
       "'market group for electricity, medium voltage' ...  kilowatt hour   \n",
       "'market group for electricity, medium voltage' ...  kilowatt hour   \n",
       "\n",
       "                                                            type  \n",
       "'market group for electricity, medium voltage' ...  technosphere  \n",
       "'market group for electricity, medium voltage' ...  technosphere  "
      ]
     },
     "execution_count": 294,
     "metadata": {},
     "output_type": "execute_result"
    }
   ],
   "source": [
    "elec_switch_activity = switch(\n",
    "    elect_switch_param, dict(\n",
    "        us=us_elec, \n",
    "        glo=glo_elec))\n",
    "\n",
    "print_act(elec_switch_activity)"
   ]
  },
  {
   "cell_type": "code",
   "execution_count": 297,
   "metadata": {},
   "outputs": [
    {
     "name": "stdout",
     "output_type": "stream",
     "text": [
      "foo\n"
     ]
    },
    {
     "data": {
      "text/html": [
       "<div>\n",
       "<style scoped>\n",
       "    .dataframe tbody tr th:only-of-type {\n",
       "        vertical-align: middle;\n",
       "    }\n",
       "\n",
       "    .dataframe tbody tr th {\n",
       "        vertical-align: top;\n",
       "    }\n",
       "\n",
       "    .dataframe thead th {\n",
       "        text-align: right;\n",
       "    }\n",
       "</style>\n",
       "<table border=\"1\" class=\"dataframe\">\n",
       "  <thead>\n",
       "    <tr style=\"text-align: right;\">\n",
       "      <th></th>\n",
       "      <th>0</th>\n",
       "    </tr>\n",
       "  </thead>\n",
       "  <tbody>\n",
       "    <tr>\n",
       "      <th>(ILCD 1.0.8 2016 midpoint no LT (obsolete), resources, mineral, fossils and renewables)</th>\n",
       "      <td>0.000000</td>\n",
       "    </tr>\n",
       "    <tr>\n",
       "      <th>(ILCD 1.0.8 2016 midpoint no LT (obsolete), climate change, GWP 100a)</th>\n",
       "      <td>0.000000</td>\n",
       "    </tr>\n",
       "    <tr>\n",
       "      <th>(ILCD 1.0.8 2016 midpoint no LT (obsolete), ecosystem quality, freshwater and terrestrial acidification)</th>\n",
       "      <td>0.000000</td>\n",
       "    </tr>\n",
       "    <tr>\n",
       "      <th>(ILCD 1.0.8 2016 midpoint no LT (obsolete), ecosystem quality, freshwater ecotoxicity)</th>\n",
       "      <td>0.000000</td>\n",
       "    </tr>\n",
       "    <tr>\n",
       "      <th>(ILCD 1.0.8 2016 midpoint no LT (obsolete), ecosystem quality, freshwater eutrophication)</th>\n",
       "      <td>0.000000</td>\n",
       "    </tr>\n",
       "    <tr>\n",
       "      <th>(ILCD 1.0.8 2016 midpoint no LT (obsolete), ecosystem quality, ionising radiation)</th>\n",
       "      <td>0.000000</td>\n",
       "    </tr>\n",
       "    <tr>\n",
       "      <th>(ILCD 1.0.8 2016 midpoint no LT (obsolete), ecosystem quality, marine eutrophication)</th>\n",
       "      <td>0.000000</td>\n",
       "    </tr>\n",
       "    <tr>\n",
       "      <th>(ILCD 1.0.8 2016 midpoint no LT (obsolete), ecosystem quality, terrestrial eutrophication)</th>\n",
       "      <td>0.000000</td>\n",
       "    </tr>\n",
       "    <tr>\n",
       "      <th>(ILCD 1.0.8 2016 midpoint no LT (obsolete), human health, carcinogenic effects)</th>\n",
       "      <td>0.000000</td>\n",
       "    </tr>\n",
       "    <tr>\n",
       "      <th>(ILCD 1.0.8 2016 midpoint no LT (obsolete), human health, ionising radiation)</th>\n",
       "      <td>0.000000</td>\n",
       "    </tr>\n",
       "    <tr>\n",
       "      <th>(ILCD 1.0.8 2016 midpoint no LT (obsolete), human health, non-carcinogenic effects)</th>\n",
       "      <td>0.000000</td>\n",
       "    </tr>\n",
       "    <tr>\n",
       "      <th>(ILCD 1.0.8 2016 midpoint no LT (obsolete), human health, ozone layer depletion)</th>\n",
       "      <td>0.000000</td>\n",
       "    </tr>\n",
       "    <tr>\n",
       "      <th>(ILCD 1.0.8 2016 midpoint no LT (obsolete), human health, photochemical ozone creation)</th>\n",
       "      <td>0.000000</td>\n",
       "    </tr>\n",
       "    <tr>\n",
       "      <th>(ILCD 1.0.8 2016 midpoint no LT (obsolete), human health, respiratory effects, inorganics)</th>\n",
       "      <td>0.000000</td>\n",
       "    </tr>\n",
       "    <tr>\n",
       "      <th>(ILCD 1.0.8 2016 midpoint no LT (obsolete), resources, land use)</th>\n",
       "      <td>355.200005</td>\n",
       "    </tr>\n",
       "  </tbody>\n",
       "</table>\n",
       "</div>"
      ],
      "text/plain": [
       "                                                             0\n",
       "(ILCD 1.0.8 2016 midpoint no LT (obsolete), res...    0.000000\n",
       "(ILCD 1.0.8 2016 midpoint no LT (obsolete), cli...    0.000000\n",
       "(ILCD 1.0.8 2016 midpoint no LT (obsolete), eco...    0.000000\n",
       "(ILCD 1.0.8 2016 midpoint no LT (obsolete), eco...    0.000000\n",
       "(ILCD 1.0.8 2016 midpoint no LT (obsolete), eco...    0.000000\n",
       "(ILCD 1.0.8 2016 midpoint no LT (obsolete), eco...    0.000000\n",
       "(ILCD 1.0.8 2016 midpoint no LT (obsolete), eco...    0.000000\n",
       "(ILCD 1.0.8 2016 midpoint no LT (obsolete), eco...    0.000000\n",
       "(ILCD 1.0.8 2016 midpoint no LT (obsolete), hum...    0.000000\n",
       "(ILCD 1.0.8 2016 midpoint no LT (obsolete), hum...    0.000000\n",
       "(ILCD 1.0.8 2016 midpoint no LT (obsolete), hum...    0.000000\n",
       "(ILCD 1.0.8 2016 midpoint no LT (obsolete), hum...    0.000000\n",
       "(ILCD 1.0.8 2016 midpoint no LT (obsolete), hum...    0.000000\n",
       "(ILCD 1.0.8 2016 midpoint no LT (obsolete), hum...    0.000000\n",
       "(ILCD 1.0.8 2016 midpoint no LT (obsolete), res...  355.200005"
      ]
     },
     "execution_count": 297,
     "metadata": {},
     "output_type": "execute_result"
    }
   ],
   "source": [
    "computeLCA(activity2, impacts, alpha=4, beta=0.8)"
   ]
  },
  {
   "cell_type": "code",
   "execution_count": null,
   "metadata": {},
   "outputs": [],
   "source": []
  }
 ],
 "metadata": {
  "jupytext": {
   "formats": "ipynb,Rmd"
  },
  "kernelspec": {
   "display_name": "Python 3",
   "language": "python",
   "name": "python3"
  },
  "language_info": {
   "codemirror_mode": {
    "name": "ipython",
    "version": 3
   },
   "file_extension": ".py",
   "mimetype": "text/x-python",
   "name": "python",
   "nbconvert_exporter": "python",
   "pygments_lexer": "ipython3",
   "version": "3.6.10"
  },
  "toc": {
   "base_numbering": 1,
   "nav_menu": {},
   "number_sections": true,
   "sideBar": true,
   "skip_h1_title": false,
   "title_cell": "Table of Contents",
   "title_sidebar": "Contents",
   "toc_cell": false,
   "toc_position": {},
   "toc_section_display": true,
   "toc_window_display": false
  }
 },
 "nbformat": 4,
 "nbformat_minor": 2
}
